{
 "cells": [
  {
   "cell_type": "code",
   "execution_count": null,
   "metadata": {},
   "outputs": [],
   "source": [
    "import requests\n",
    "import warnings\n",
    "import math\n",
    "\n",
    "import numpy as np\n",
    "import pandas as pd\n",
    "import datetime as dt\n",
    "from datetime import date\n",
    "\n",
    "import plotly.express as px\n",
    "\n",
    "from tqdm import tqdm\n",
    "from gql import gql, Client # to use GraphQL\n",
    "from gql.transport.requests import RequestsHTTPTransport\n",
    "\n",
    "warnings.filterwarnings('ignore')"
   ]
  },
  {
   "cell_type": "markdown",
   "metadata": {},
   "source": [
    "# Кнопка бабло"
   ]
  },
  {
   "cell_type": "markdown",
   "metadata": {},
   "source": [
    "бла бла бла"
   ]
  },
  {
   "cell_type": "markdown",
   "metadata": {},
   "source": [
    "## Заполнение датафрэйма\n",
    "\n",
    "Взял сишку"
   ]
  },
  {
   "cell_type": "code",
   "execution_count": null,
   "metadata": {},
   "outputs": [],
   "source": [
    "df = pd.read_csv('sr_full_date.csv', sep=\",\")\n",
    "df = df.sort_values(by=['ticker', 'tradedate', 'tradetime']).drop_duplicates().reset_index().drop('index', axis=1)\n",
    "df['datetime'] = pd.to_datetime(df['tradedate'] + ' ' + df['tradetime']) \n",
    "df = df.drop(['tradedate', 'tradetime'], axis=1) \n",
    "df = df[df['clgroup'] == 'YUR'].reset_index().drop('index', axis=1)\n",
    "df = df[['datetime', 'pos']]\n",
    "data_pos = df\n",
    "data_pos"
   ]
  },
  {
   "cell_type": "code",
   "execution_count": null,
   "metadata": {},
   "outputs": [],
   "source": [
    "df = pd.read_csv('SR.csv', sep=\",\")\n",
    "df.reset_index(inplace=True)\n",
    "\n",
    "#df.columns = df.columns[1:].insert(16, 'index')\n",
    "#df = df.iloc[:, :-1]\n",
    "df['datetime'] = pd.to_datetime(df['datetime'], dayfirst=True)\n",
    "df['datetime'] = df['datetime'].dt.strftime('%Y-%m-%d')\n",
    "df['datetime'] = pd.to_datetime(df['datetime'])\n",
    "df = df[['datetime', 'weighted_average_price_per_lot']]\n",
    "df.rename(columns={'weighted_average_price_per_lot': 'price'}, inplace=True)\n",
    "data_price = df\n",
    "data_price"
   ]
  },
  {
   "cell_type": "code",
   "execution_count": null,
   "metadata": {},
   "outputs": [],
   "source": [
    "price_dict = dict(zip(data_price['datetime'].dt.date, data_price['price']))\n",
    "\n",
    "data_pos['price'] = data_pos['datetime'].dt.date.map(price_dict)\n",
    "\n",
    "all_data = data_pos.sort_values('datetime').reset_index(drop=True)\n",
    "all_data"
   ]
  },
  {
   "cell_type": "markdown",
   "metadata": {},
   "source": [
    "## Выбросы"
   ]
  },
  {
   "cell_type": "code",
   "execution_count": null,
   "metadata": {},
   "outputs": [],
   "source": [
    "df = all_data.copy()\n",
    "df['date'] = df['datetime'].dt.date\n",
    "#df = df[df['date'] < pd.to_datetime('2021-11-01').date()]\n",
    "print(df)\n",
    "\n",
    "fig = px.line(df, x='date', y='price', title='График цен по времени', labels={'date': 'Дата и время', 'price': 'Цена'})\n",
    "fig.show()"
   ]
  },
  {
   "cell_type": "code",
   "execution_count": null,
   "metadata": {},
   "outputs": [],
   "source": [
    "fig = px.line(df, x='datetime', y='pos', title='График цен по времени', labels={'datetime': 'Дата и время', 'pos': 'Цена'})\n",
    "fig.update_xaxes(type='category')\n",
    "fig.show()"
   ]
  },
  {
   "cell_type": "code",
   "execution_count": null,
   "metadata": {},
   "outputs": [],
   "source": [
    "mean_pos = df['pos'].mean()\n",
    "std_pos = df['pos'].std()\n",
    "print(mean_pos, std_pos)\n",
    "\n",
    "outliers_up = pd.DataFrame(columns=['datetime', 'pos', 'price', 'date'])\n",
    "outliers_down = pd.DataFrame(columns=['datetime', 'pos', 'price', 'date'])\n",
    "for i in range(len(df['pos'])-1):\n",
    "    if (df['pos'][i + 1] > (mean_pos + 0.5 * std_pos)) and (df['pos'][i] < (mean_pos + 0.5 * std_pos)):\n",
    "        outliers_up.loc[len(outliers_up)] = df.iloc[i + 1]\n",
    "        #outliers_up.append(df.iloc[i + 1], ignore_index=True)\n",
    "    elif (df['pos'][i + 1] < (mean_pos + 0.5 * std_pos)) and (df['pos'][i] > (mean_pos + 0.5* std_pos)):\n",
    "        outliers_down.loc[len(outliers_down)] = df.iloc[i + 1]\n",
    "    elif (df['pos'][i + 1] < (mean_pos - 0.5 * std_pos)) and (df['pos'][i] > (mean_pos - 0.5 * std_pos)):\n",
    "        outliers_down.loc[len(outliers_down)] = df.iloc[i + 1]\n",
    "    elif (df['pos'][i + 1] > (mean_pos - 0.5 * std_pos)) and (df['pos'][i] < (mean_pos - 0.5 * std_pos)):\n",
    "        outliers_up.loc[len(outliers_up)] = df.iloc[i + 1]\n",
    "\n",
    "print(outliers_up)\n",
    "print(outliers_down)"
   ]
  },
  {
   "cell_type": "code",
   "execution_count": null,
   "metadata": {},
   "outputs": [],
   "source": [
    "fig = px.line(df, x='datetime', y='price', title='График цен по времени', labels={'datetime': 'Дата и время', 'price': 'Цена'})\n",
    "fig.add_trace(px.scatter(outliers_up, x='datetime', y='price').update_traces(marker=dict(color='green')).data[0])\n",
    "fig.add_trace(px.scatter(outliers_down, x='datetime', y='price').update_traces(marker=dict(color='red')).data[0])\n",
    "fig.update_xaxes(type='category')\n",
    "fig.show()"
   ]
  },
  {
   "cell_type": "code",
   "execution_count": null,
   "metadata": {},
   "outputs": [],
   "source": [
    "fig = px.line(df, x='datetime', y='pos', title='График цен по времени', labels={'datetime': 'Дата и время', 'pos': 'Pos'})\n",
    "fig.add_shape(\n",
    "    dict(\n",
    "        type=\"line\",\n",
    "        x0=df['datetime'].min(),\n",
    "        x1=df['datetime'].max(),\n",
    "        y0=mean_pos + 2 * std_pos,\n",
    "        y1=mean_pos + 2 * std_pos,\n",
    "        line=dict(color=\"green\", width=2)\n",
    "    )\n",
    ")\n",
    "fig.add_shape(\n",
    "    dict(\n",
    "        type=\"line\",\n",
    "        x0=df['datetime'].min(),\n",
    "        x1=df['datetime'].max(),\n",
    "        y0=mean_pos - 2 * std_pos,\n",
    "        y1=mean_pos - 2 * std_pos,\n",
    "        line=dict(color=\"red\", width=2)\n",
    "    )\n",
    ")\n",
    "fig.update_xaxes(type='category')\n",
    "fig.show()"
   ]
  },
  {
   "cell_type": "code",
   "execution_count": null,
   "metadata": {},
   "outputs": [],
   "source": [
    "df['pos_diff'] = df['pos'].diff()\n",
    "df = df.dropna(subset=['pos_diff'])\n",
    "\n",
    "mean_pos_diff = df['pos_diff'].mean()\n",
    "std_pos_diff = df['pos_diff'].std()\n",
    "print(mean_pos_diff, std_pos_diff)\n",
    "\n",
    "outliers_up_diff = df[df['pos_diff'] > (mean_pos_diff + 20 * std_pos_diff)]\n",
    "outliers_down_diff = df[df['pos_diff'] < (mean_pos_diff - 20 * std_pos_diff)]\n",
    "print(outliers_up_diff)\n",
    "print(outliers_down_diff)"
   ]
  },
  {
   "cell_type": "code",
   "execution_count": null,
   "metadata": {},
   "outputs": [],
   "source": [
    "fig = px.line(df, x='datetime', y='pos_diff', title='График цен по времени', labels={'datetime': 'Дата и время', 'pos_diff': 'Pos_diff'})\n",
    "fig.add_shape(\n",
    "    dict(\n",
    "        type=\"line\",\n",
    "        x0=df['datetime'].min(),\n",
    "        x1=df['datetime'].max(),\n",
    "        y0=mean_pos_diff + 10 * std_pos_diff,\n",
    "        y1=mean_pos_diff + 10 * std_pos_diff,\n",
    "        line=dict(color=\"green\", width=2)\n",
    "    )\n",
    ")\n",
    "fig.add_shape(\n",
    "    dict(\n",
    "        type=\"line\",\n",
    "        x0=df['datetime'].min(),\n",
    "        x1=df['datetime'].max(),\n",
    "        y0=mean_pos_diff - 10 * std_pos_diff,\n",
    "        y1=mean_pos_diff - 10 * std_pos_diff,\n",
    "        line=dict(color=\"red\", width=2)\n",
    "    )\n",
    ")\n",
    "fig.update_xaxes(type='category')\n",
    "fig.show()"
   ]
  },
  {
   "cell_type": "code",
   "execution_count": null,
   "metadata": {},
   "outputs": [],
   "source": [
    "#Q1 = np.percentile(df['pos_diff'], 25)\n",
    "#Q3 = np.percentile(df['pos_diff'], 75)\n",
    "Q1 = df['pos_diff'].quantile(0.25)\n",
    "Q3 = df['pos_diff'].quantile(0.75)\n",
    "IQR = Q3 - Q1\n",
    "lower_bound = Q1 - 1.5 * IQR\n",
    "upper_bound = Q3 + 1.5 * IQR\n",
    "\n",
    "anomalies = df[(df['pos_diff'] < lower_bound) | (df['pos_diff'] > upper_bound)]\n",
    "anomalies"
   ]
  },
  {
   "cell_type": "code",
   "execution_count": null,
   "metadata": {},
   "outputs": [],
   "source": [
    "window_size = 10000  # Пример размера окна\n",
    "df['pos_ma'] = df['pos'].rolling(window=window_size).mean()\n",
    "mean_pos_ma = df['pos_ma'].mean()\n",
    "std_pos_ma = df['pos_ma'].std()\n",
    "print(mean_pos_ma, std_pos_ma)\n",
    "fig = px.line(df, x='datetime', y='pos_ma', title='График pos MA10000 по времени', labels={'datetime': 'Дата и время', 'pos_ma': 'Pos MA10'})\n",
    "fig.add_shape(\n",
    "    dict(\n",
    "        type=\"line\",\n",
    "        x0=df['datetime'].min(),\n",
    "        x1=df['datetime'].max(),\n",
    "        y0=mean_pos_ma + 1 * std_pos_ma,\n",
    "        y1=mean_pos_ma + 1 * std_pos_ma,\n",
    "        line=dict(color=\"green\", width=2)\n",
    "    )\n",
    ")\n",
    "fig.add_shape(\n",
    "    dict(\n",
    "        type=\"line\",\n",
    "        x0=df['datetime'].min(),\n",
    "        x1=df['datetime'].max(),\n",
    "        y0=mean_pos_ma - 1 * std_pos_ma,\n",
    "        y1=mean_pos_ma - 1 * std_pos_ma,\n",
    "        line=dict(color=\"red\", width=2)\n",
    "    )\n",
    ")\n",
    "fig.update_xaxes(type='category')\n",
    "fig.show()"
   ]
  }
 ],
 "metadata": {
  "kernelspec": {
   "display_name": ".venv",
   "language": "python",
   "name": "python3"
  },
  "language_info": {
   "codemirror_mode": {
    "name": "ipython",
    "version": 3
   },
   "file_extension": ".py",
   "mimetype": "text/x-python",
   "name": "python",
   "nbconvert_exporter": "python",
   "pygments_lexer": "ipython3",
   "version": "3.12.0"
  }
 },
 "nbformat": 4,
 "nbformat_minor": 2
}

{
 "cells": [
  {
   "cell_type": "code",
   "execution_count": 1,
   "metadata": {
    "execution": {
     "iopub.execute_input": "2023-12-01T19:16:50.389641Z",
     "iopub.status.busy": "2023-12-01T19:16:50.388633Z",
     "iopub.status.idle": "2023-12-01T19:16:50.994185Z",
     "shell.execute_reply": "2023-12-01T19:16:50.992188Z",
     "shell.execute_reply.started": "2023-12-01T19:16:50.389641Z"
    }
   },
   "outputs": [],
   "source": [
    "import warnings\n",
    "import math\n",
    "\n",
    "import numpy as np\n",
    "import pandas as pd\n",
    "import datetime as dt\n",
    "from datetime import date\n",
    "\n",
    "import plotly.express as px\n",
    "\n",
    "from tqdm import tqdm\n",
    "\n",
    "warnings.filterwarnings('ignore')\n",
    "\n",
    "from concurrent.futures import ThreadPoolExecutor\n",
    "\n",
    "import statistics"
   ]
  },
  {
   "cell_type": "markdown",
   "metadata": {},
   "source": [
    "# КНОПКА БАБЛО version 0.5"
   ]
  },
  {
   "cell_type": "markdown",
   "metadata": {
    "jp-MarkdownHeadingCollapsed": true
   },
   "source": [
    "## Класс стратегии"
   ]
  },
  {
   "cell_type": "code",
   "execution_count": 2,
   "metadata": {
    "execution": {
     "iopub.execute_input": "2023-12-01T19:16:50.996194Z",
     "iopub.status.busy": "2023-12-01T19:16:50.996194Z",
     "iopub.status.idle": "2023-12-01T19:16:51.010763Z",
     "shell.execute_reply": "2023-12-01T19:16:51.007893Z",
     "shell.execute_reply.started": "2023-12-01T19:16:50.996194Z"
    }
   },
   "outputs": [],
   "source": [
    "class MyPosition:\n",
    "    \n",
    "    def __init__(self, amount: float, price_current: float, short: bool) -> None:\n",
    "        \"\"\"\n",
    "        Инициализация объекта MyPosition.\n",
    "\n",
    "        :param amount: Количество активов.\n",
    "        :param price_current: Текущая цена актива.\n",
    "        :param short: Флаг короткой позиции (True, если короткая; False, если длинная).\n",
    "        \"\"\"\n",
    "        self._amount: float = amount\n",
    "        self._price_current: float = price_current\n",
    "        self._acc_fees: float = 0\n",
    "        self._short: bool = short\n",
    "\n",
    "    def update_state(self, price: float) -> None:\n",
    "        \"\"\"\n",
    "        Обновление состояния позиции.\n",
    "\n",
    "        :param price: Новая цена актива.\n",
    "        \"\"\"\n",
    "        self._price_current = price\n",
    "        if self._short:\n",
    "            # Рассчитываем комиссию за перенос короткой позиции\n",
    "            transfer_fee = abs(self._amount) * self._price_current * 0.00065\n",
    "            self._acc_fees += transfer_fee\n",
    "\n",
    "    def balance(self) -> float:\n",
    "        \"\"\"\n",
    "        Вычисление баланса позиции.\n",
    "\n",
    "        :return: Баланс позиции.\n",
    "        \"\"\"\n",
    "        return self._amount * self._price_current"
   ]
  },
  {
   "cell_type": "code",
   "execution_count": 3,
   "metadata": {
    "execution": {
     "iopub.execute_input": "2023-12-01T19:16:51.014825Z",
     "iopub.status.busy": "2023-12-01T19:16:51.013301Z",
     "iopub.status.idle": "2023-12-01T19:16:51.038845Z",
     "shell.execute_reply": "2023-12-01T19:16:51.037844Z",
     "shell.execute_reply.started": "2023-12-01T19:16:51.014825Z"
    }
   },
   "outputs": [],
   "source": [
    "class Strategy:\n",
    "\n",
    "    params = {'FEE': 0.0004}\n",
    "\n",
    "    def __init__(self, states, start_equity):\n",
    "        self._position = None\n",
    "        self._states = states\n",
    "        self._equity = start_equity\n",
    "        self._margin_equity = 0\n",
    "\n",
    "    def calc_upper_and_lower(self, i, states_ma, STD_COUNT_UP, STD_COUNT_DOWN):\n",
    "        #mean_pos_ma = states_ma.head(i).mean()\n",
    "        std_pos_ma = states_ma.head(i).std()\n",
    "        pos_ma_upper = states_ma[i] + STD_COUNT_UP * std_pos_ma\n",
    "        pos_ma_lower = states_ma[i] - STD_COUNT_DOWN * std_pos_ma\n",
    "        return pos_ma_upper, pos_ma_lower\n",
    "\n",
    "    def run(self, RISK, STD_COUNT_UP, STD_COUNT_DOWN, MA_COUNT):\n",
    "        states_ma = self._states['pos'].rolling(window=MA_COUNT).mean() ###\n",
    "        data = []\n",
    "\n",
    "        for i in tqdm(range(len(self._states)), disable=True):\n",
    "            if i < 10 * MA_COUNT:\n",
    "                continue\n",
    "            elif (i == 10 * MA_COUNT):\n",
    "                state = self._states.loc[i]\n",
    "                pos_ma = states_ma[i]\n",
    "                prev_pos_ma = states_ma[i - 1]\n",
    "                (pos_ma_upper, pos_ma_lower) = self.calc_upper_and_lower(i, states_ma, STD_COUNT_UP, STD_COUNT_DOWN)\n",
    "            else:\n",
    "                state = self._states.loc[i]\n",
    "                pos_ma = states_ma[i]\n",
    "                prev_pos_ma = states_ma[i - 1]\n",
    "\n",
    "            b = 0\n",
    "            s = 0\n",
    "\n",
    "            if self._position:\n",
    "                if state['price'] != self._states['price'][i - 1]:\n",
    "                    self._position.update_state(state['price'])\n",
    "\n",
    "                #if prev_pos_ma > pos_ma_lower and pos_ma < pos_ma_lower and self._position._short:\n",
    "                if prev_pos_ma < pos_ma_upper and pos_ma > pos_ma_upper:\n",
    "                    pos_ma_upper, pos_ma_lower = self.calc_upper_and_lower(i, states_ma, STD_COUNT_UP, STD_COUNT_DOWN)\n",
    "                    if self._position._short:\n",
    "                        b = 1\n",
    "                #if prev_pos_ma < pos_ma_upper and pos_ma > pos_ma_upper and not self._position._short:\n",
    "                if prev_pos_ma > pos_ma_lower and pos_ma < pos_ma_lower:\n",
    "                    pos_ma_upper, pos_ma_lower = self.calc_upper_and_lower(i, states_ma, STD_COUNT_UP, STD_COUNT_DOWN)\n",
    "                    if not self._position._short:\n",
    "                        s = 1\n",
    "\n",
    "                data.append([\n",
    "                    state['datetime'],\n",
    "                    state['price'],\n",
    "                    self._equity - self._position._acc_fees,\n",
    "                    self._position._short,\n",
    "                    pos_ma_upper,\n",
    "                    pos_ma_lower,\n",
    "                    pos_ma,\n",
    "                    b,\n",
    "                    s\n",
    "                ])\n",
    "\n",
    "                if b:\n",
    "                    self.close_short() \n",
    "                if s:\n",
    "                    self.close_long()\n",
    "            else:\n",
    "                #if prev_pos_ma < pos_ma_lower and pos_ma > pos_ma_lower:\n",
    "                if prev_pos_ma < pos_ma_upper and pos_ma > pos_ma_upper:\n",
    "                    pos_ma_upper, pos_ma_lower = self.calc_upper_and_lower(i, states_ma, STD_COUNT_UP, STD_COUNT_DOWN)\n",
    "                    self.open_long(state, RISK)\n",
    "                    b = 1\n",
    "                #if prev_pos_ma > pos_ma_upper and pos_ma < pos_ma_upper:\n",
    "                if prev_pos_ma > pos_ma_lower and pos_ma < pos_ma_lower:\n",
    "                    pos_ma_upper, pos_ma_lower = self.calc_upper_and_lower(i, states_ma, STD_COUNT_UP, STD_COUNT_DOWN)\n",
    "                    self.open_short(state, RISK)\n",
    "                    s = 1\n",
    "\n",
    "                data.append([\n",
    "                    state['datetime'],\n",
    "                    state['price'],\n",
    "                    self._equity,\n",
    "                    -1,\n",
    "                    pos_ma_upper,\n",
    "                    pos_ma_lower,\n",
    "                    pos_ma,\n",
    "                    b,\n",
    "                    s\n",
    "                ])\n",
    "\n",
    "        return pd.DataFrame(data, columns=['datetime', 'price', 'equity', 'short', 'pos_ma_upper', 'pos_ma_lower', 'pos_ma', 'buy', 'sell'])\n",
    "\n",
    "    def open_short(self, state, RISK):\n",
    "        if self._position:\n",
    "            raise Exception(f'Cannot open position, already have one {self._position}')\n",
    "\n",
    "        self._margin_equity += (\n",
    "                np.floor((1 - self.params['FEE']) * RISK * self._equity / state['price']) * state['price'] -\n",
    "                self.params['FEE'] * self._equity)\n",
    "\n",
    "        amount = (-1) * np.floor((1 - self.params['FEE']) * RISK * self._equity / state['price'])\n",
    "\n",
    "        self._position = MyPosition(amount, state['price'], True)\n",
    "\n",
    "    def open_long(self, state, RISK):\n",
    "        if self._position:\n",
    "            raise Exception(f'Cannot open position, already have one {self._position}')\n",
    "\n",
    "        self._margin_equity -= (\n",
    "                np.floor((1 - self.params['FEE']) * RISK * self._equity / state['price']) * state['price'] +\n",
    "                self.params['FEE'] * self._equity)\n",
    "\n",
    "        amount = np.floor((1 - self.params['FEE']) * RISK * self._equity / state['price'])\n",
    "\n",
    "        self._position = MyPosition(amount, state['price'], False)\n",
    "\n",
    "    def close_short(self):\n",
    "        if self._position._short == 0:\n",
    "            raise Exception(f'Cannot close short position, it is long')\n",
    "\n",
    "        self._equity += (\n",
    "                self._margin_equity + (1 - self.params['FEE']) * self._position.balance() - self._position._acc_fees)\n",
    "        self._margin_equity = 0\n",
    "        self._position = None\n",
    "\n",
    "    def close_long(self):\n",
    "        if self._position._short == 1:\n",
    "            raise Exception(f'Cannot close long position, it is short')\n",
    "\n",
    "        self._equity += (\n",
    "                self._margin_equity + (1 - self.params['FEE']) * self._position.balance() - self._position._acc_fees)\n",
    "        self._margin_equity = 0\n",
    "        self._position = None"
   ]
  },
  {
   "cell_type": "code",
   "execution_count": 4,
   "metadata": {
    "execution": {
     "iopub.execute_input": "2023-12-01T19:16:51.041848Z",
     "iopub.status.busy": "2023-12-01T19:16:51.040847Z",
     "iopub.status.idle": "2023-12-01T19:16:51.054844Z",
     "shell.execute_reply": "2023-12-01T19:16:51.053845Z",
     "shell.execute_reply.started": "2023-12-01T19:16:51.041848Z"
    }
   },
   "outputs": [],
   "source": [
    "def run_strategy(all_data_copy, std_count_up, std_count_down, ma_count):\n",
    "    strategy = Strategy(all_data_copy, 10000000)\n",
    "    df = pd.DataFrame(strategy.run(1, std_count_up, std_count_down, ma_count))\n",
    "    df['equity'] = df['equity'] / df['equity'].iloc[0]\n",
    "    final_total_balance = df['equity'].iloc[-1]\n",
    "    return final_total_balance\n",
    "\n",
    "# Тренировка\n",
    "\n",
    "def train(all_data_copy1: pd.DataFrame) -> (float, float, float):\n",
    "    # Грубый поиск параметров\n",
    "    std_counts_up = np.arange(0.25, 2, 0.25)\n",
    "    std_counts_down = np.arange(0.25, 2, 0.25)\n",
    "    ma_counts = np.arange(500, 3000, 500)\n",
    "\n",
    "    parameters = []\n",
    "    final_total_balances = []\n",
    "\n",
    "    with ThreadPoolExecutor(max_workers=4) as executor:\n",
    "        futures = []\n",
    "\n",
    "        for std_count_up in std_counts_up:\n",
    "            for std_count_down in std_counts_down:\n",
    "                for ma_count in ma_counts:\n",
    "                    #print(std_count_up, std_count_down, ma_count)\n",
    "                    future = executor.submit(run_strategy, all_data_copy1, std_count_up, std_count_down, ma_count)\n",
    "                    futures.append((std_count_up, std_count_down, ma_count, future))\n",
    "\n",
    "        for std_count_up, std_count_down, ma_count, future in futures:\n",
    "            final_total_balance = future.result()\n",
    "            parameters.append((std_count_up, std_count_down, ma_count))\n",
    "            final_total_balances.append(final_total_balance)\n",
    "\n",
    "    max_total_balance = max(final_total_balances)\n",
    "    max_total_balance_index = final_total_balances.index(max_total_balance)\n",
    "    corresponding_parameters = parameters[max_total_balance_index]\n",
    "\n",
    "    # Уточнение параметров\n",
    "    std_counts_up = np.arange(corresponding_parameters[0] - 0.1, corresponding_parameters[0] + 0.2, 0.1)\n",
    "    std_counts_down = np.arange(corresponding_parameters[1] - 0.1, corresponding_parameters[1] + 0.2, 0.1)\n",
    "    ma_counts = np.arange(corresponding_parameters[2] - 250, corresponding_parameters[2] + 500, 250)\n",
    "\n",
    "    parameters = []\n",
    "    final_total_balances = []\n",
    "\n",
    "    with ThreadPoolExecutor(max_workers=4) as executor:\n",
    "        futures = []\n",
    "\n",
    "        for std_count_up in std_counts_up:\n",
    "            for std_count_down in std_counts_down:\n",
    "                for ma_count in ma_counts:\n",
    "                    future = executor.submit(run_strategy, all_data_copy1, std_count_up, std_count_down, ma_count)\n",
    "                    futures.append((std_count_up, std_count_down, ma_count, future))\n",
    "\n",
    "        for std_count_up, std_count_down, ma_count, future in futures:\n",
    "            final_total_balance = future.result()\n",
    "            parameters.append((std_count_up, std_count_down, ma_count))\n",
    "            final_total_balances.append(final_total_balance)\n",
    "\n",
    "    max_total_balance = max(final_total_balances)\n",
    "    max_total_balance_index = final_total_balances.index(max_total_balance)\n",
    "    corresponding_parameters = parameters[max_total_balance_index]\n",
    "\n",
    "    print(f\"Maximum Total Balance: {max_total_balance}\")\n",
    "    print(f\"Corresponding Parameters (std_count, std_timerange): {corresponding_parameters}\")\n",
    "    return corresponding_parameters\n",
    "\n",
    "# Тест\n",
    "\n",
    "def test(all_data_copy2: pd.DataFrame, std_count_up: float, std_count_down: float, ma_count: float) -> float:\n",
    "    strategy = Strategy(all_data_copy2, 10000000)\n",
    "    df = pd.DataFrame(strategy.run(1, std_count_up, std_count_down, ma_count))\n",
    "    df['equity'] = df['equity'] / df['equity'].iloc[0]\n",
    "    final_total_balance = df['equity'].iloc[-1]\n",
    "\n",
    "    print(f'Test profit = {final_total_balance}')\n",
    "    return final_total_balance"
   ]
  },
  {
   "cell_type": "code",
   "execution_count": 5,
   "metadata": {
    "execution": {
     "iopub.execute_input": "2023-12-01T19:16:51.056847Z",
     "iopub.status.busy": "2023-12-01T19:16:51.055842Z",
     "iopub.status.idle": "2023-12-01T19:16:51.070856Z",
     "shell.execute_reply": "2023-12-01T19:16:51.069845Z",
     "shell.execute_reply.started": "2023-12-01T19:16:51.056847Z"
    }
   },
   "outputs": [],
   "source": [
    "def clear_data(tiker):\n",
    "    # Pos\n",
    "\n",
    "    df = pd.read_csv(f'{tiker}_full_date.csv', sep=\",\")\n",
    "    df = df.sort_values(by=['ticker', 'tradedate', 'tradetime']).drop_duplicates().reset_index().drop('index', axis=1)\n",
    "    df['datetime'] = pd.to_datetime(df['tradedate'] + ' ' + df['tradetime']) \n",
    "    df = df.drop(['tradedate', 'tradetime'], axis=1) \n",
    "    df = df[df['clgroup'] == 'YUR'].reset_index().drop('index', axis=1)\n",
    "    df = df[['datetime', 'pos']]\n",
    "    data_pos = df\n",
    "\n",
    "    # Price\n",
    "\n",
    "    df = pd.read_csv(f'{tiker}_full_date_price.csv', sep=\",\")\n",
    "    df.reset_index(inplace=True)\n",
    "    df.rename(columns={'TRADEDATE': 'datetime'}, inplace=True)\n",
    "    df['datetime'] = pd.to_datetime(df['datetime'])\n",
    "    df = df[df['BOARDID']=='TQBR']\n",
    "    df = df[['datetime', 'WAPRICE']]\n",
    "    df.rename(columns={'WAPRICE': 'price'}, inplace=True)\n",
    "    data_price = df\n",
    "\n",
    "    # All data\n",
    "\n",
    "    price_dict = dict(zip(data_price['datetime'].dt.date, data_price['price']))\n",
    "\n",
    "    data_pos['price'] = data_pos['datetime'].dt.date.map(price_dict)\n",
    "\n",
    "    all_data = data_pos.sort_values('datetime').drop_duplicates().dropna().reset_index().drop('index', axis=1)\n",
    "\n",
    "    all_data_copy = all_data.copy()\n",
    "\n",
    "    all_data_copy['date'] = all_data_copy['datetime'].dt.date\n",
    "\n",
    "    # For train\n",
    "\n",
    "    train_data = all_data_copy[all_data_copy['date'] < pd.to_datetime('2022-02-20').date()].reset_index().drop('index', axis=1)\n",
    "\n",
    "    # For test\n",
    "\n",
    "    test_data = all_data_copy[all_data_copy['date'] > pd.to_datetime('2022-12-31').date()].reset_index().drop('index', axis=1)\n",
    "\n",
    "    return train_data, test_data"
   ]
  },
  {
   "cell_type": "markdown",
   "metadata": {
    "jp-MarkdownHeadingCollapsed": true
   },
   "source": [
    "## Применение"
   ]
  },
  {
   "cell_type": "code",
   "execution_count": 6,
   "metadata": {
    "execution": {
     "iopub.execute_input": "2023-12-01T19:16:51.073851Z",
     "iopub.status.busy": "2023-12-01T19:16:51.072849Z",
     "iopub.status.idle": "2023-12-01T20:32:04.203603Z",
     "shell.execute_reply": "2023-12-01T20:32:04.200604Z",
     "shell.execute_reply.started": "2023-12-01T19:16:51.073851Z"
    }
   },
   "outputs": [
    {
     "name": "stdout",
     "output_type": "stream",
     "text": [
      "Maximum Total Balance: 1.415901383809778\n",
      "Corresponding Parameters (std_count, std_timerange): (1.65, 1.75, 1250)\n",
      "Test profit = 0.9263243110947\n",
      "Maximum Total Balance: 1.5851736905441096\n",
      "Corresponding Parameters (std_count, std_timerange): (0.15, 1.75, 750)\n",
      "Test profit = 1.0\n",
      "Maximum Total Balance: 1.3093584749871843\n",
      "Corresponding Parameters (std_count, std_timerange): (0.15, 1.9500000000000002, 1500)\n",
      "Test profit = 1.08062020268\n"
     ]
    },
    {
     "ename": "FileNotFoundError",
     "evalue": "[Errno 2] No such file or directory: 'vb_full_date.csv'",
     "output_type": "error",
     "traceback": [
      "\u001b[1;31m---------------------------------------------------------------------------\u001b[0m",
      "\u001b[1;31mFileNotFoundError\u001b[0m                         Traceback (most recent call last)",
      "Cell \u001b[1;32mIn[6], line 9\u001b[0m\n\u001b[0;32m      5\u001b[0m \u001b[38;5;66;03m#ticker_names=['vk']\u001b[39;00m\n\u001b[0;32m      7\u001b[0m \u001b[38;5;28;01mfor\u001b[39;00m ticker \u001b[38;5;129;01min\u001b[39;00m ticker_names:\n\u001b[1;32m----> 9\u001b[0m     train_data, test_data \u001b[38;5;241m=\u001b[39m \u001b[43mclear_data\u001b[49m\u001b[43m(\u001b[49m\u001b[43mticker\u001b[49m\u001b[43m)\u001b[49m\n\u001b[0;32m     11\u001b[0m     corresponding_parameters \u001b[38;5;241m=\u001b[39m []\n\u001b[0;32m     13\u001b[0m     corresponding_parameters \u001b[38;5;241m=\u001b[39m train(train_data)\n",
      "Cell \u001b[1;32mIn[5], line 4\u001b[0m, in \u001b[0;36mclear_data\u001b[1;34m(tiker)\u001b[0m\n\u001b[0;32m      1\u001b[0m \u001b[38;5;28;01mdef\u001b[39;00m \u001b[38;5;21mclear_data\u001b[39m(tiker):\n\u001b[0;32m      2\u001b[0m     \u001b[38;5;66;03m# Pos\u001b[39;00m\n\u001b[1;32m----> 4\u001b[0m     df \u001b[38;5;241m=\u001b[39m \u001b[43mpd\u001b[49m\u001b[38;5;241;43m.\u001b[39;49m\u001b[43mread_csv\u001b[49m\u001b[43m(\u001b[49m\u001b[38;5;124;43mf\u001b[39;49m\u001b[38;5;124;43m'\u001b[39;49m\u001b[38;5;132;43;01m{\u001b[39;49;00m\u001b[43mtiker\u001b[49m\u001b[38;5;132;43;01m}\u001b[39;49;00m\u001b[38;5;124;43m_full_date.csv\u001b[39;49m\u001b[38;5;124;43m'\u001b[39;49m\u001b[43m,\u001b[49m\u001b[43m \u001b[49m\u001b[43msep\u001b[49m\u001b[38;5;241;43m=\u001b[39;49m\u001b[38;5;124;43m\"\u001b[39;49m\u001b[38;5;124;43m,\u001b[39;49m\u001b[38;5;124;43m\"\u001b[39;49m\u001b[43m)\u001b[49m\n\u001b[0;32m      5\u001b[0m     df \u001b[38;5;241m=\u001b[39m df\u001b[38;5;241m.\u001b[39msort_values(by\u001b[38;5;241m=\u001b[39m[\u001b[38;5;124m'\u001b[39m\u001b[38;5;124mticker\u001b[39m\u001b[38;5;124m'\u001b[39m, \u001b[38;5;124m'\u001b[39m\u001b[38;5;124mtradedate\u001b[39m\u001b[38;5;124m'\u001b[39m, \u001b[38;5;124m'\u001b[39m\u001b[38;5;124mtradetime\u001b[39m\u001b[38;5;124m'\u001b[39m])\u001b[38;5;241m.\u001b[39mdrop_duplicates()\u001b[38;5;241m.\u001b[39mreset_index()\u001b[38;5;241m.\u001b[39mdrop(\u001b[38;5;124m'\u001b[39m\u001b[38;5;124mindex\u001b[39m\u001b[38;5;124m'\u001b[39m, axis\u001b[38;5;241m=\u001b[39m\u001b[38;5;241m1\u001b[39m)\n\u001b[0;32m      6\u001b[0m     df[\u001b[38;5;124m'\u001b[39m\u001b[38;5;124mdatetime\u001b[39m\u001b[38;5;124m'\u001b[39m] \u001b[38;5;241m=\u001b[39m pd\u001b[38;5;241m.\u001b[39mto_datetime(df[\u001b[38;5;124m'\u001b[39m\u001b[38;5;124mtradedate\u001b[39m\u001b[38;5;124m'\u001b[39m] \u001b[38;5;241m+\u001b[39m \u001b[38;5;124m'\u001b[39m\u001b[38;5;124m \u001b[39m\u001b[38;5;124m'\u001b[39m \u001b[38;5;241m+\u001b[39m df[\u001b[38;5;124m'\u001b[39m\u001b[38;5;124mtradetime\u001b[39m\u001b[38;5;124m'\u001b[39m]) \n",
      "File \u001b[1;32m~\\PycharmProjects\\1Hu\\venv\\lib\\site-packages\\pandas\\io\\parsers\\readers.py:948\u001b[0m, in \u001b[0;36mread_csv\u001b[1;34m(filepath_or_buffer, sep, delimiter, header, names, index_col, usecols, dtype, engine, converters, true_values, false_values, skipinitialspace, skiprows, skipfooter, nrows, na_values, keep_default_na, na_filter, verbose, skip_blank_lines, parse_dates, infer_datetime_format, keep_date_col, date_parser, date_format, dayfirst, cache_dates, iterator, chunksize, compression, thousands, decimal, lineterminator, quotechar, quoting, doublequote, escapechar, comment, encoding, encoding_errors, dialect, on_bad_lines, delim_whitespace, low_memory, memory_map, float_precision, storage_options, dtype_backend)\u001b[0m\n\u001b[0;32m    935\u001b[0m kwds_defaults \u001b[38;5;241m=\u001b[39m _refine_defaults_read(\n\u001b[0;32m    936\u001b[0m     dialect,\n\u001b[0;32m    937\u001b[0m     delimiter,\n\u001b[1;32m   (...)\u001b[0m\n\u001b[0;32m    944\u001b[0m     dtype_backend\u001b[38;5;241m=\u001b[39mdtype_backend,\n\u001b[0;32m    945\u001b[0m )\n\u001b[0;32m    946\u001b[0m kwds\u001b[38;5;241m.\u001b[39mupdate(kwds_defaults)\n\u001b[1;32m--> 948\u001b[0m \u001b[38;5;28;01mreturn\u001b[39;00m \u001b[43m_read\u001b[49m\u001b[43m(\u001b[49m\u001b[43mfilepath_or_buffer\u001b[49m\u001b[43m,\u001b[49m\u001b[43m \u001b[49m\u001b[43mkwds\u001b[49m\u001b[43m)\u001b[49m\n",
      "File \u001b[1;32m~\\PycharmProjects\\1Hu\\venv\\lib\\site-packages\\pandas\\io\\parsers\\readers.py:611\u001b[0m, in \u001b[0;36m_read\u001b[1;34m(filepath_or_buffer, kwds)\u001b[0m\n\u001b[0;32m    608\u001b[0m _validate_names(kwds\u001b[38;5;241m.\u001b[39mget(\u001b[38;5;124m\"\u001b[39m\u001b[38;5;124mnames\u001b[39m\u001b[38;5;124m\"\u001b[39m, \u001b[38;5;28;01mNone\u001b[39;00m))\n\u001b[0;32m    610\u001b[0m \u001b[38;5;66;03m# Create the parser.\u001b[39;00m\n\u001b[1;32m--> 611\u001b[0m parser \u001b[38;5;241m=\u001b[39m TextFileReader(filepath_or_buffer, \u001b[38;5;241m*\u001b[39m\u001b[38;5;241m*\u001b[39mkwds)\n\u001b[0;32m    613\u001b[0m \u001b[38;5;28;01mif\u001b[39;00m chunksize \u001b[38;5;129;01mor\u001b[39;00m iterator:\n\u001b[0;32m    614\u001b[0m     \u001b[38;5;28;01mreturn\u001b[39;00m parser\n",
      "File \u001b[1;32m~\\PycharmProjects\\1Hu\\venv\\lib\\site-packages\\pandas\\io\\parsers\\readers.py:1448\u001b[0m, in \u001b[0;36mTextFileReader.__init__\u001b[1;34m(self, f, engine, **kwds)\u001b[0m\n\u001b[0;32m   1445\u001b[0m     \u001b[38;5;28mself\u001b[39m\u001b[38;5;241m.\u001b[39moptions[\u001b[38;5;124m\"\u001b[39m\u001b[38;5;124mhas_index_names\u001b[39m\u001b[38;5;124m\"\u001b[39m] \u001b[38;5;241m=\u001b[39m kwds[\u001b[38;5;124m\"\u001b[39m\u001b[38;5;124mhas_index_names\u001b[39m\u001b[38;5;124m\"\u001b[39m]\n\u001b[0;32m   1447\u001b[0m \u001b[38;5;28mself\u001b[39m\u001b[38;5;241m.\u001b[39mhandles: IOHandles \u001b[38;5;241m|\u001b[39m \u001b[38;5;28;01mNone\u001b[39;00m \u001b[38;5;241m=\u001b[39m \u001b[38;5;28;01mNone\u001b[39;00m\n\u001b[1;32m-> 1448\u001b[0m \u001b[38;5;28mself\u001b[39m\u001b[38;5;241m.\u001b[39m_engine \u001b[38;5;241m=\u001b[39m \u001b[38;5;28;43mself\u001b[39;49m\u001b[38;5;241;43m.\u001b[39;49m\u001b[43m_make_engine\u001b[49m\u001b[43m(\u001b[49m\u001b[43mf\u001b[49m\u001b[43m,\u001b[49m\u001b[43m \u001b[49m\u001b[38;5;28;43mself\u001b[39;49m\u001b[38;5;241;43m.\u001b[39;49m\u001b[43mengine\u001b[49m\u001b[43m)\u001b[49m\n",
      "File \u001b[1;32m~\\PycharmProjects\\1Hu\\venv\\lib\\site-packages\\pandas\\io\\parsers\\readers.py:1705\u001b[0m, in \u001b[0;36mTextFileReader._make_engine\u001b[1;34m(self, f, engine)\u001b[0m\n\u001b[0;32m   1703\u001b[0m     \u001b[38;5;28;01mif\u001b[39;00m \u001b[38;5;124m\"\u001b[39m\u001b[38;5;124mb\u001b[39m\u001b[38;5;124m\"\u001b[39m \u001b[38;5;129;01mnot\u001b[39;00m \u001b[38;5;129;01min\u001b[39;00m mode:\n\u001b[0;32m   1704\u001b[0m         mode \u001b[38;5;241m+\u001b[39m\u001b[38;5;241m=\u001b[39m \u001b[38;5;124m\"\u001b[39m\u001b[38;5;124mb\u001b[39m\u001b[38;5;124m\"\u001b[39m\n\u001b[1;32m-> 1705\u001b[0m \u001b[38;5;28mself\u001b[39m\u001b[38;5;241m.\u001b[39mhandles \u001b[38;5;241m=\u001b[39m \u001b[43mget_handle\u001b[49m\u001b[43m(\u001b[49m\n\u001b[0;32m   1706\u001b[0m \u001b[43m    \u001b[49m\u001b[43mf\u001b[49m\u001b[43m,\u001b[49m\n\u001b[0;32m   1707\u001b[0m \u001b[43m    \u001b[49m\u001b[43mmode\u001b[49m\u001b[43m,\u001b[49m\n\u001b[0;32m   1708\u001b[0m \u001b[43m    \u001b[49m\u001b[43mencoding\u001b[49m\u001b[38;5;241;43m=\u001b[39;49m\u001b[38;5;28;43mself\u001b[39;49m\u001b[38;5;241;43m.\u001b[39;49m\u001b[43moptions\u001b[49m\u001b[38;5;241;43m.\u001b[39;49m\u001b[43mget\u001b[49m\u001b[43m(\u001b[49m\u001b[38;5;124;43m\"\u001b[39;49m\u001b[38;5;124;43mencoding\u001b[39;49m\u001b[38;5;124;43m\"\u001b[39;49m\u001b[43m,\u001b[49m\u001b[43m \u001b[49m\u001b[38;5;28;43;01mNone\u001b[39;49;00m\u001b[43m)\u001b[49m\u001b[43m,\u001b[49m\n\u001b[0;32m   1709\u001b[0m \u001b[43m    \u001b[49m\u001b[43mcompression\u001b[49m\u001b[38;5;241;43m=\u001b[39;49m\u001b[38;5;28;43mself\u001b[39;49m\u001b[38;5;241;43m.\u001b[39;49m\u001b[43moptions\u001b[49m\u001b[38;5;241;43m.\u001b[39;49m\u001b[43mget\u001b[49m\u001b[43m(\u001b[49m\u001b[38;5;124;43m\"\u001b[39;49m\u001b[38;5;124;43mcompression\u001b[39;49m\u001b[38;5;124;43m\"\u001b[39;49m\u001b[43m,\u001b[49m\u001b[43m \u001b[49m\u001b[38;5;28;43;01mNone\u001b[39;49;00m\u001b[43m)\u001b[49m\u001b[43m,\u001b[49m\n\u001b[0;32m   1710\u001b[0m \u001b[43m    \u001b[49m\u001b[43mmemory_map\u001b[49m\u001b[38;5;241;43m=\u001b[39;49m\u001b[38;5;28;43mself\u001b[39;49m\u001b[38;5;241;43m.\u001b[39;49m\u001b[43moptions\u001b[49m\u001b[38;5;241;43m.\u001b[39;49m\u001b[43mget\u001b[49m\u001b[43m(\u001b[49m\u001b[38;5;124;43m\"\u001b[39;49m\u001b[38;5;124;43mmemory_map\u001b[39;49m\u001b[38;5;124;43m\"\u001b[39;49m\u001b[43m,\u001b[49m\u001b[43m \u001b[49m\u001b[38;5;28;43;01mFalse\u001b[39;49;00m\u001b[43m)\u001b[49m\u001b[43m,\u001b[49m\n\u001b[0;32m   1711\u001b[0m \u001b[43m    \u001b[49m\u001b[43mis_text\u001b[49m\u001b[38;5;241;43m=\u001b[39;49m\u001b[43mis_text\u001b[49m\u001b[43m,\u001b[49m\n\u001b[0;32m   1712\u001b[0m \u001b[43m    \u001b[49m\u001b[43merrors\u001b[49m\u001b[38;5;241;43m=\u001b[39;49m\u001b[38;5;28;43mself\u001b[39;49m\u001b[38;5;241;43m.\u001b[39;49m\u001b[43moptions\u001b[49m\u001b[38;5;241;43m.\u001b[39;49m\u001b[43mget\u001b[49m\u001b[43m(\u001b[49m\u001b[38;5;124;43m\"\u001b[39;49m\u001b[38;5;124;43mencoding_errors\u001b[39;49m\u001b[38;5;124;43m\"\u001b[39;49m\u001b[43m,\u001b[49m\u001b[43m \u001b[49m\u001b[38;5;124;43m\"\u001b[39;49m\u001b[38;5;124;43mstrict\u001b[39;49m\u001b[38;5;124;43m\"\u001b[39;49m\u001b[43m)\u001b[49m\u001b[43m,\u001b[49m\n\u001b[0;32m   1713\u001b[0m \u001b[43m    \u001b[49m\u001b[43mstorage_options\u001b[49m\u001b[38;5;241;43m=\u001b[39;49m\u001b[38;5;28;43mself\u001b[39;49m\u001b[38;5;241;43m.\u001b[39;49m\u001b[43moptions\u001b[49m\u001b[38;5;241;43m.\u001b[39;49m\u001b[43mget\u001b[49m\u001b[43m(\u001b[49m\u001b[38;5;124;43m\"\u001b[39;49m\u001b[38;5;124;43mstorage_options\u001b[39;49m\u001b[38;5;124;43m\"\u001b[39;49m\u001b[43m,\u001b[49m\u001b[43m \u001b[49m\u001b[38;5;28;43;01mNone\u001b[39;49;00m\u001b[43m)\u001b[49m\u001b[43m,\u001b[49m\n\u001b[0;32m   1714\u001b[0m \u001b[43m\u001b[49m\u001b[43m)\u001b[49m\n\u001b[0;32m   1715\u001b[0m \u001b[38;5;28;01massert\u001b[39;00m \u001b[38;5;28mself\u001b[39m\u001b[38;5;241m.\u001b[39mhandles \u001b[38;5;129;01mis\u001b[39;00m \u001b[38;5;129;01mnot\u001b[39;00m \u001b[38;5;28;01mNone\u001b[39;00m\n\u001b[0;32m   1716\u001b[0m f \u001b[38;5;241m=\u001b[39m \u001b[38;5;28mself\u001b[39m\u001b[38;5;241m.\u001b[39mhandles\u001b[38;5;241m.\u001b[39mhandle\n",
      "File \u001b[1;32m~\\PycharmProjects\\1Hu\\venv\\lib\\site-packages\\pandas\\io\\common.py:863\u001b[0m, in \u001b[0;36mget_handle\u001b[1;34m(path_or_buf, mode, encoding, compression, memory_map, is_text, errors, storage_options)\u001b[0m\n\u001b[0;32m    858\u001b[0m \u001b[38;5;28;01melif\u001b[39;00m \u001b[38;5;28misinstance\u001b[39m(handle, \u001b[38;5;28mstr\u001b[39m):\n\u001b[0;32m    859\u001b[0m     \u001b[38;5;66;03m# Check whether the filename is to be opened in binary mode.\u001b[39;00m\n\u001b[0;32m    860\u001b[0m     \u001b[38;5;66;03m# Binary mode does not support 'encoding' and 'newline'.\u001b[39;00m\n\u001b[0;32m    861\u001b[0m     \u001b[38;5;28;01mif\u001b[39;00m ioargs\u001b[38;5;241m.\u001b[39mencoding \u001b[38;5;129;01mand\u001b[39;00m \u001b[38;5;124m\"\u001b[39m\u001b[38;5;124mb\u001b[39m\u001b[38;5;124m\"\u001b[39m \u001b[38;5;129;01mnot\u001b[39;00m \u001b[38;5;129;01min\u001b[39;00m ioargs\u001b[38;5;241m.\u001b[39mmode:\n\u001b[0;32m    862\u001b[0m         \u001b[38;5;66;03m# Encoding\u001b[39;00m\n\u001b[1;32m--> 863\u001b[0m         handle \u001b[38;5;241m=\u001b[39m \u001b[38;5;28;43mopen\u001b[39;49m\u001b[43m(\u001b[49m\n\u001b[0;32m    864\u001b[0m \u001b[43m            \u001b[49m\u001b[43mhandle\u001b[49m\u001b[43m,\u001b[49m\n\u001b[0;32m    865\u001b[0m \u001b[43m            \u001b[49m\u001b[43mioargs\u001b[49m\u001b[38;5;241;43m.\u001b[39;49m\u001b[43mmode\u001b[49m\u001b[43m,\u001b[49m\n\u001b[0;32m    866\u001b[0m \u001b[43m            \u001b[49m\u001b[43mencoding\u001b[49m\u001b[38;5;241;43m=\u001b[39;49m\u001b[43mioargs\u001b[49m\u001b[38;5;241;43m.\u001b[39;49m\u001b[43mencoding\u001b[49m\u001b[43m,\u001b[49m\n\u001b[0;32m    867\u001b[0m \u001b[43m            \u001b[49m\u001b[43merrors\u001b[49m\u001b[38;5;241;43m=\u001b[39;49m\u001b[43merrors\u001b[49m\u001b[43m,\u001b[49m\n\u001b[0;32m    868\u001b[0m \u001b[43m            \u001b[49m\u001b[43mnewline\u001b[49m\u001b[38;5;241;43m=\u001b[39;49m\u001b[38;5;124;43m\"\u001b[39;49m\u001b[38;5;124;43m\"\u001b[39;49m\u001b[43m,\u001b[49m\n\u001b[0;32m    869\u001b[0m \u001b[43m        \u001b[49m\u001b[43m)\u001b[49m\n\u001b[0;32m    870\u001b[0m     \u001b[38;5;28;01melse\u001b[39;00m:\n\u001b[0;32m    871\u001b[0m         \u001b[38;5;66;03m# Binary mode\u001b[39;00m\n\u001b[0;32m    872\u001b[0m         handle \u001b[38;5;241m=\u001b[39m \u001b[38;5;28mopen\u001b[39m(handle, ioargs\u001b[38;5;241m.\u001b[39mmode)\n",
      "\u001b[1;31mFileNotFoundError\u001b[0m: [Errno 2] No such file or directory: 'vb_full_date.csv'"
     ]
    }
   ],
   "source": [
    "#ticker_names=['sr', 'gz', 'yn', 'fv', 'lk']\n",
    "\n",
    "ticker_names=['sr', 'gz', 'lk', 'vb', 'rn', 'mn', 'af', 'al', 'sn', 'yn', 'tt', 'nm', 'hy', 'me', 'fv', 'gk', 'mg']\n",
    "\n",
    "#ticker_names=['vk']\n",
    "\n",
    "for ticker in ticker_names:\n",
    "\n",
    "    train_data, test_data = clear_data(ticker)\n",
    "\n",
    "    corresponding_parameters = []\n",
    "\n",
    "    corresponding_parameters = train(train_data)\n",
    "    result = test(test_data, corresponding_parameters[0], corresponding_parameters[1], corresponding_parameters[2])"
   ]
  },
  {
   "cell_type": "markdown",
   "metadata": {
    "jp-MarkdownHeadingCollapsed": true
   },
   "source": [
    "## Отладочная печать"
   ]
  },
  {
   "cell_type": "code",
   "execution_count": 7,
   "metadata": {
    "execution": {
     "iopub.execute_input": "2023-12-01T20:41:39.334493Z",
     "iopub.status.busy": "2023-12-01T20:41:39.333491Z",
     "iopub.status.idle": "2023-12-01T20:41:39.446491Z",
     "shell.execute_reply": "2023-12-01T20:41:39.444499Z",
     "shell.execute_reply.started": "2023-12-01T20:41:39.334493Z"
    }
   },
   "outputs": [
    {
     "ename": "FileNotFoundError",
     "evalue": "[Errno 2] No such file or directory: 'tt_full_date.csv'",
     "output_type": "error",
     "traceback": [
      "\u001b[1;31m---------------------------------------------------------------------------\u001b[0m",
      "\u001b[1;31mFileNotFoundError\u001b[0m                         Traceback (most recent call last)",
      "Cell \u001b[1;32mIn[7], line 1\u001b[0m\n\u001b[1;32m----> 1\u001b[0m train_data, test_data \u001b[38;5;241m=\u001b[39m \u001b[43mclear_data\u001b[49m\u001b[43m(\u001b[49m\u001b[38;5;124;43m'\u001b[39;49m\u001b[38;5;124;43mtt\u001b[39;49m\u001b[38;5;124;43m'\u001b[39;49m\u001b[43m)\u001b[49m\n\u001b[0;32m      3\u001b[0m strategy \u001b[38;5;241m=\u001b[39m Strategy(train_data, \u001b[38;5;241m10000000\u001b[39m)\n\u001b[0;32m      4\u001b[0m df \u001b[38;5;241m=\u001b[39m pd\u001b[38;5;241m.\u001b[39mDataFrame(strategy\u001b[38;5;241m.\u001b[39mrun(\u001b[38;5;241m1\u001b[39m, \u001b[38;5;241m0.75\u001b[39m, \u001b[38;5;241m0.15\u001b[39m, \u001b[38;5;241m500\u001b[39m))\n",
      "Cell \u001b[1;32mIn[5], line 4\u001b[0m, in \u001b[0;36mclear_data\u001b[1;34m(tiker)\u001b[0m\n\u001b[0;32m      1\u001b[0m \u001b[38;5;28;01mdef\u001b[39;00m \u001b[38;5;21mclear_data\u001b[39m(tiker):\n\u001b[0;32m      2\u001b[0m     \u001b[38;5;66;03m# Pos\u001b[39;00m\n\u001b[1;32m----> 4\u001b[0m     df \u001b[38;5;241m=\u001b[39m \u001b[43mpd\u001b[49m\u001b[38;5;241;43m.\u001b[39;49m\u001b[43mread_csv\u001b[49m\u001b[43m(\u001b[49m\u001b[38;5;124;43mf\u001b[39;49m\u001b[38;5;124;43m'\u001b[39;49m\u001b[38;5;132;43;01m{\u001b[39;49;00m\u001b[43mtiker\u001b[49m\u001b[38;5;132;43;01m}\u001b[39;49;00m\u001b[38;5;124;43m_full_date.csv\u001b[39;49m\u001b[38;5;124;43m'\u001b[39;49m\u001b[43m,\u001b[49m\u001b[43m \u001b[49m\u001b[43msep\u001b[49m\u001b[38;5;241;43m=\u001b[39;49m\u001b[38;5;124;43m\"\u001b[39;49m\u001b[38;5;124;43m,\u001b[39;49m\u001b[38;5;124;43m\"\u001b[39;49m\u001b[43m)\u001b[49m\n\u001b[0;32m      5\u001b[0m     df \u001b[38;5;241m=\u001b[39m df\u001b[38;5;241m.\u001b[39msort_values(by\u001b[38;5;241m=\u001b[39m[\u001b[38;5;124m'\u001b[39m\u001b[38;5;124mticker\u001b[39m\u001b[38;5;124m'\u001b[39m, \u001b[38;5;124m'\u001b[39m\u001b[38;5;124mtradedate\u001b[39m\u001b[38;5;124m'\u001b[39m, \u001b[38;5;124m'\u001b[39m\u001b[38;5;124mtradetime\u001b[39m\u001b[38;5;124m'\u001b[39m])\u001b[38;5;241m.\u001b[39mdrop_duplicates()\u001b[38;5;241m.\u001b[39mreset_index()\u001b[38;5;241m.\u001b[39mdrop(\u001b[38;5;124m'\u001b[39m\u001b[38;5;124mindex\u001b[39m\u001b[38;5;124m'\u001b[39m, axis\u001b[38;5;241m=\u001b[39m\u001b[38;5;241m1\u001b[39m)\n\u001b[0;32m      6\u001b[0m     df[\u001b[38;5;124m'\u001b[39m\u001b[38;5;124mdatetime\u001b[39m\u001b[38;5;124m'\u001b[39m] \u001b[38;5;241m=\u001b[39m pd\u001b[38;5;241m.\u001b[39mto_datetime(df[\u001b[38;5;124m'\u001b[39m\u001b[38;5;124mtradedate\u001b[39m\u001b[38;5;124m'\u001b[39m] \u001b[38;5;241m+\u001b[39m \u001b[38;5;124m'\u001b[39m\u001b[38;5;124m \u001b[39m\u001b[38;5;124m'\u001b[39m \u001b[38;5;241m+\u001b[39m df[\u001b[38;5;124m'\u001b[39m\u001b[38;5;124mtradetime\u001b[39m\u001b[38;5;124m'\u001b[39m]) \n",
      "File \u001b[1;32m~\\PycharmProjects\\1Hu\\venv\\lib\\site-packages\\pandas\\io\\parsers\\readers.py:948\u001b[0m, in \u001b[0;36mread_csv\u001b[1;34m(filepath_or_buffer, sep, delimiter, header, names, index_col, usecols, dtype, engine, converters, true_values, false_values, skipinitialspace, skiprows, skipfooter, nrows, na_values, keep_default_na, na_filter, verbose, skip_blank_lines, parse_dates, infer_datetime_format, keep_date_col, date_parser, date_format, dayfirst, cache_dates, iterator, chunksize, compression, thousands, decimal, lineterminator, quotechar, quoting, doublequote, escapechar, comment, encoding, encoding_errors, dialect, on_bad_lines, delim_whitespace, low_memory, memory_map, float_precision, storage_options, dtype_backend)\u001b[0m\n\u001b[0;32m    935\u001b[0m kwds_defaults \u001b[38;5;241m=\u001b[39m _refine_defaults_read(\n\u001b[0;32m    936\u001b[0m     dialect,\n\u001b[0;32m    937\u001b[0m     delimiter,\n\u001b[1;32m   (...)\u001b[0m\n\u001b[0;32m    944\u001b[0m     dtype_backend\u001b[38;5;241m=\u001b[39mdtype_backend,\n\u001b[0;32m    945\u001b[0m )\n\u001b[0;32m    946\u001b[0m kwds\u001b[38;5;241m.\u001b[39mupdate(kwds_defaults)\n\u001b[1;32m--> 948\u001b[0m \u001b[38;5;28;01mreturn\u001b[39;00m \u001b[43m_read\u001b[49m\u001b[43m(\u001b[49m\u001b[43mfilepath_or_buffer\u001b[49m\u001b[43m,\u001b[49m\u001b[43m \u001b[49m\u001b[43mkwds\u001b[49m\u001b[43m)\u001b[49m\n",
      "File \u001b[1;32m~\\PycharmProjects\\1Hu\\venv\\lib\\site-packages\\pandas\\io\\parsers\\readers.py:611\u001b[0m, in \u001b[0;36m_read\u001b[1;34m(filepath_or_buffer, kwds)\u001b[0m\n\u001b[0;32m    608\u001b[0m _validate_names(kwds\u001b[38;5;241m.\u001b[39mget(\u001b[38;5;124m\"\u001b[39m\u001b[38;5;124mnames\u001b[39m\u001b[38;5;124m\"\u001b[39m, \u001b[38;5;28;01mNone\u001b[39;00m))\n\u001b[0;32m    610\u001b[0m \u001b[38;5;66;03m# Create the parser.\u001b[39;00m\n\u001b[1;32m--> 611\u001b[0m parser \u001b[38;5;241m=\u001b[39m TextFileReader(filepath_or_buffer, \u001b[38;5;241m*\u001b[39m\u001b[38;5;241m*\u001b[39mkwds)\n\u001b[0;32m    613\u001b[0m \u001b[38;5;28;01mif\u001b[39;00m chunksize \u001b[38;5;129;01mor\u001b[39;00m iterator:\n\u001b[0;32m    614\u001b[0m     \u001b[38;5;28;01mreturn\u001b[39;00m parser\n",
      "File \u001b[1;32m~\\PycharmProjects\\1Hu\\venv\\lib\\site-packages\\pandas\\io\\parsers\\readers.py:1448\u001b[0m, in \u001b[0;36mTextFileReader.__init__\u001b[1;34m(self, f, engine, **kwds)\u001b[0m\n\u001b[0;32m   1445\u001b[0m     \u001b[38;5;28mself\u001b[39m\u001b[38;5;241m.\u001b[39moptions[\u001b[38;5;124m\"\u001b[39m\u001b[38;5;124mhas_index_names\u001b[39m\u001b[38;5;124m\"\u001b[39m] \u001b[38;5;241m=\u001b[39m kwds[\u001b[38;5;124m\"\u001b[39m\u001b[38;5;124mhas_index_names\u001b[39m\u001b[38;5;124m\"\u001b[39m]\n\u001b[0;32m   1447\u001b[0m \u001b[38;5;28mself\u001b[39m\u001b[38;5;241m.\u001b[39mhandles: IOHandles \u001b[38;5;241m|\u001b[39m \u001b[38;5;28;01mNone\u001b[39;00m \u001b[38;5;241m=\u001b[39m \u001b[38;5;28;01mNone\u001b[39;00m\n\u001b[1;32m-> 1448\u001b[0m \u001b[38;5;28mself\u001b[39m\u001b[38;5;241m.\u001b[39m_engine \u001b[38;5;241m=\u001b[39m \u001b[38;5;28;43mself\u001b[39;49m\u001b[38;5;241;43m.\u001b[39;49m\u001b[43m_make_engine\u001b[49m\u001b[43m(\u001b[49m\u001b[43mf\u001b[49m\u001b[43m,\u001b[49m\u001b[43m \u001b[49m\u001b[38;5;28;43mself\u001b[39;49m\u001b[38;5;241;43m.\u001b[39;49m\u001b[43mengine\u001b[49m\u001b[43m)\u001b[49m\n",
      "File \u001b[1;32m~\\PycharmProjects\\1Hu\\venv\\lib\\site-packages\\pandas\\io\\parsers\\readers.py:1705\u001b[0m, in \u001b[0;36mTextFileReader._make_engine\u001b[1;34m(self, f, engine)\u001b[0m\n\u001b[0;32m   1703\u001b[0m     \u001b[38;5;28;01mif\u001b[39;00m \u001b[38;5;124m\"\u001b[39m\u001b[38;5;124mb\u001b[39m\u001b[38;5;124m\"\u001b[39m \u001b[38;5;129;01mnot\u001b[39;00m \u001b[38;5;129;01min\u001b[39;00m mode:\n\u001b[0;32m   1704\u001b[0m         mode \u001b[38;5;241m+\u001b[39m\u001b[38;5;241m=\u001b[39m \u001b[38;5;124m\"\u001b[39m\u001b[38;5;124mb\u001b[39m\u001b[38;5;124m\"\u001b[39m\n\u001b[1;32m-> 1705\u001b[0m \u001b[38;5;28mself\u001b[39m\u001b[38;5;241m.\u001b[39mhandles \u001b[38;5;241m=\u001b[39m \u001b[43mget_handle\u001b[49m\u001b[43m(\u001b[49m\n\u001b[0;32m   1706\u001b[0m \u001b[43m    \u001b[49m\u001b[43mf\u001b[49m\u001b[43m,\u001b[49m\n\u001b[0;32m   1707\u001b[0m \u001b[43m    \u001b[49m\u001b[43mmode\u001b[49m\u001b[43m,\u001b[49m\n\u001b[0;32m   1708\u001b[0m \u001b[43m    \u001b[49m\u001b[43mencoding\u001b[49m\u001b[38;5;241;43m=\u001b[39;49m\u001b[38;5;28;43mself\u001b[39;49m\u001b[38;5;241;43m.\u001b[39;49m\u001b[43moptions\u001b[49m\u001b[38;5;241;43m.\u001b[39;49m\u001b[43mget\u001b[49m\u001b[43m(\u001b[49m\u001b[38;5;124;43m\"\u001b[39;49m\u001b[38;5;124;43mencoding\u001b[39;49m\u001b[38;5;124;43m\"\u001b[39;49m\u001b[43m,\u001b[49m\u001b[43m \u001b[49m\u001b[38;5;28;43;01mNone\u001b[39;49;00m\u001b[43m)\u001b[49m\u001b[43m,\u001b[49m\n\u001b[0;32m   1709\u001b[0m \u001b[43m    \u001b[49m\u001b[43mcompression\u001b[49m\u001b[38;5;241;43m=\u001b[39;49m\u001b[38;5;28;43mself\u001b[39;49m\u001b[38;5;241;43m.\u001b[39;49m\u001b[43moptions\u001b[49m\u001b[38;5;241;43m.\u001b[39;49m\u001b[43mget\u001b[49m\u001b[43m(\u001b[49m\u001b[38;5;124;43m\"\u001b[39;49m\u001b[38;5;124;43mcompression\u001b[39;49m\u001b[38;5;124;43m\"\u001b[39;49m\u001b[43m,\u001b[49m\u001b[43m \u001b[49m\u001b[38;5;28;43;01mNone\u001b[39;49;00m\u001b[43m)\u001b[49m\u001b[43m,\u001b[49m\n\u001b[0;32m   1710\u001b[0m \u001b[43m    \u001b[49m\u001b[43mmemory_map\u001b[49m\u001b[38;5;241;43m=\u001b[39;49m\u001b[38;5;28;43mself\u001b[39;49m\u001b[38;5;241;43m.\u001b[39;49m\u001b[43moptions\u001b[49m\u001b[38;5;241;43m.\u001b[39;49m\u001b[43mget\u001b[49m\u001b[43m(\u001b[49m\u001b[38;5;124;43m\"\u001b[39;49m\u001b[38;5;124;43mmemory_map\u001b[39;49m\u001b[38;5;124;43m\"\u001b[39;49m\u001b[43m,\u001b[49m\u001b[43m \u001b[49m\u001b[38;5;28;43;01mFalse\u001b[39;49;00m\u001b[43m)\u001b[49m\u001b[43m,\u001b[49m\n\u001b[0;32m   1711\u001b[0m \u001b[43m    \u001b[49m\u001b[43mis_text\u001b[49m\u001b[38;5;241;43m=\u001b[39;49m\u001b[43mis_text\u001b[49m\u001b[43m,\u001b[49m\n\u001b[0;32m   1712\u001b[0m \u001b[43m    \u001b[49m\u001b[43merrors\u001b[49m\u001b[38;5;241;43m=\u001b[39;49m\u001b[38;5;28;43mself\u001b[39;49m\u001b[38;5;241;43m.\u001b[39;49m\u001b[43moptions\u001b[49m\u001b[38;5;241;43m.\u001b[39;49m\u001b[43mget\u001b[49m\u001b[43m(\u001b[49m\u001b[38;5;124;43m\"\u001b[39;49m\u001b[38;5;124;43mencoding_errors\u001b[39;49m\u001b[38;5;124;43m\"\u001b[39;49m\u001b[43m,\u001b[49m\u001b[43m \u001b[49m\u001b[38;5;124;43m\"\u001b[39;49m\u001b[38;5;124;43mstrict\u001b[39;49m\u001b[38;5;124;43m\"\u001b[39;49m\u001b[43m)\u001b[49m\u001b[43m,\u001b[49m\n\u001b[0;32m   1713\u001b[0m \u001b[43m    \u001b[49m\u001b[43mstorage_options\u001b[49m\u001b[38;5;241;43m=\u001b[39;49m\u001b[38;5;28;43mself\u001b[39;49m\u001b[38;5;241;43m.\u001b[39;49m\u001b[43moptions\u001b[49m\u001b[38;5;241;43m.\u001b[39;49m\u001b[43mget\u001b[49m\u001b[43m(\u001b[49m\u001b[38;5;124;43m\"\u001b[39;49m\u001b[38;5;124;43mstorage_options\u001b[39;49m\u001b[38;5;124;43m\"\u001b[39;49m\u001b[43m,\u001b[49m\u001b[43m \u001b[49m\u001b[38;5;28;43;01mNone\u001b[39;49;00m\u001b[43m)\u001b[49m\u001b[43m,\u001b[49m\n\u001b[0;32m   1714\u001b[0m \u001b[43m\u001b[49m\u001b[43m)\u001b[49m\n\u001b[0;32m   1715\u001b[0m \u001b[38;5;28;01massert\u001b[39;00m \u001b[38;5;28mself\u001b[39m\u001b[38;5;241m.\u001b[39mhandles \u001b[38;5;129;01mis\u001b[39;00m \u001b[38;5;129;01mnot\u001b[39;00m \u001b[38;5;28;01mNone\u001b[39;00m\n\u001b[0;32m   1716\u001b[0m f \u001b[38;5;241m=\u001b[39m \u001b[38;5;28mself\u001b[39m\u001b[38;5;241m.\u001b[39mhandles\u001b[38;5;241m.\u001b[39mhandle\n",
      "File \u001b[1;32m~\\PycharmProjects\\1Hu\\venv\\lib\\site-packages\\pandas\\io\\common.py:863\u001b[0m, in \u001b[0;36mget_handle\u001b[1;34m(path_or_buf, mode, encoding, compression, memory_map, is_text, errors, storage_options)\u001b[0m\n\u001b[0;32m    858\u001b[0m \u001b[38;5;28;01melif\u001b[39;00m \u001b[38;5;28misinstance\u001b[39m(handle, \u001b[38;5;28mstr\u001b[39m):\n\u001b[0;32m    859\u001b[0m     \u001b[38;5;66;03m# Check whether the filename is to be opened in binary mode.\u001b[39;00m\n\u001b[0;32m    860\u001b[0m     \u001b[38;5;66;03m# Binary mode does not support 'encoding' and 'newline'.\u001b[39;00m\n\u001b[0;32m    861\u001b[0m     \u001b[38;5;28;01mif\u001b[39;00m ioargs\u001b[38;5;241m.\u001b[39mencoding \u001b[38;5;129;01mand\u001b[39;00m \u001b[38;5;124m\"\u001b[39m\u001b[38;5;124mb\u001b[39m\u001b[38;5;124m\"\u001b[39m \u001b[38;5;129;01mnot\u001b[39;00m \u001b[38;5;129;01min\u001b[39;00m ioargs\u001b[38;5;241m.\u001b[39mmode:\n\u001b[0;32m    862\u001b[0m         \u001b[38;5;66;03m# Encoding\u001b[39;00m\n\u001b[1;32m--> 863\u001b[0m         handle \u001b[38;5;241m=\u001b[39m \u001b[38;5;28;43mopen\u001b[39;49m\u001b[43m(\u001b[49m\n\u001b[0;32m    864\u001b[0m \u001b[43m            \u001b[49m\u001b[43mhandle\u001b[49m\u001b[43m,\u001b[49m\n\u001b[0;32m    865\u001b[0m \u001b[43m            \u001b[49m\u001b[43mioargs\u001b[49m\u001b[38;5;241;43m.\u001b[39;49m\u001b[43mmode\u001b[49m\u001b[43m,\u001b[49m\n\u001b[0;32m    866\u001b[0m \u001b[43m            \u001b[49m\u001b[43mencoding\u001b[49m\u001b[38;5;241;43m=\u001b[39;49m\u001b[43mioargs\u001b[49m\u001b[38;5;241;43m.\u001b[39;49m\u001b[43mencoding\u001b[49m\u001b[43m,\u001b[49m\n\u001b[0;32m    867\u001b[0m \u001b[43m            \u001b[49m\u001b[43merrors\u001b[49m\u001b[38;5;241;43m=\u001b[39;49m\u001b[43merrors\u001b[49m\u001b[43m,\u001b[49m\n\u001b[0;32m    868\u001b[0m \u001b[43m            \u001b[49m\u001b[43mnewline\u001b[49m\u001b[38;5;241;43m=\u001b[39;49m\u001b[38;5;124;43m\"\u001b[39;49m\u001b[38;5;124;43m\"\u001b[39;49m\u001b[43m,\u001b[49m\n\u001b[0;32m    869\u001b[0m \u001b[43m        \u001b[49m\u001b[43m)\u001b[49m\n\u001b[0;32m    870\u001b[0m     \u001b[38;5;28;01melse\u001b[39;00m:\n\u001b[0;32m    871\u001b[0m         \u001b[38;5;66;03m# Binary mode\u001b[39;00m\n\u001b[0;32m    872\u001b[0m         handle \u001b[38;5;241m=\u001b[39m \u001b[38;5;28mopen\u001b[39m(handle, ioargs\u001b[38;5;241m.\u001b[39mmode)\n",
      "\u001b[1;31mFileNotFoundError\u001b[0m: [Errno 2] No such file or directory: 'tt_full_date.csv'"
     ]
    }
   ],
   "source": [
    "train_data, test_data = clear_data('tt')\n",
    "\n",
    "strategy = Strategy(train_data, 10000000)\n",
    "df = pd.DataFrame(strategy.run(1, 0.75, 0.15, 500))\n",
    "\n",
    "px.line(df, x='datetime', y=['pos_ma', 'pos_ma_upper', 'pos_ma_lower']).show()\n",
    "\n",
    "px.line(df, x='datetime', y='equity').update_xaxes(type='category').show()\n",
    "\n",
    "up = pd.DataFrame(columns=['datetime', 'price'])\n",
    "down = pd.DataFrame(columns=['datetime', 'price'])\n",
    "for i in range(len(df['price'])):\n",
    "    if df['buy'][i]:\n",
    "        up.loc[len(up)] = df.iloc[i]\n",
    "    elif df['sell'][i]:\n",
    "        down.loc[len(down)] = df.iloc[i]\n",
    "fig = px.line(df, x='datetime', y='price', title='График цен по времени', labels={'datetime': 'Дата и время', 'price': 'Цена'})\n",
    "fig.add_trace(px.scatter(up, x='datetime', y='price').update_traces(marker=dict(color='green')).data[0])\n",
    "fig.add_trace(px.scatter(down, x='datetime', y='price').update_traces(marker=dict(color='red')).data[0])\n",
    "fig.update_xaxes(type='category')\n",
    "fig.show()"
   ]
  },
  {
   "cell_type": "markdown",
   "metadata": {},
   "source": [
    "## Функция полезности"
   ]
  },
  {
   "cell_type": "code",
   "execution_count": 49,
   "metadata": {
    "execution": {
     "iopub.execute_input": "2023-12-01T21:38:18.377113Z",
     "iopub.status.busy": "2023-12-01T21:38:18.377113Z",
     "iopub.status.idle": "2023-12-01T21:58:34.105318Z",
     "shell.execute_reply": "2023-12-01T21:58:34.104314Z",
     "shell.execute_reply.started": "2023-12-01T21:38:18.377113Z"
    }
   },
   "outputs": [
    {
     "name": "stdout",
     "output_type": "stream",
     "text": [
      "     std_count_up  std_count_down  ma_count  final_total_balance\n",
      "0            0.25            0.25       500             0.953236\n",
      "1            0.25            0.25      1000             0.929879\n",
      "2            0.25            0.25      1500             0.907393\n",
      "3            0.25            0.25      2000             0.876644\n",
      "4            0.25            0.25      2500             0.741155\n",
      "..            ...             ...       ...                  ...\n",
      "240          1.75            1.75       500             0.844609\n",
      "241          1.75            1.75      1000             0.828840\n",
      "242          1.75            1.75      1500             1.054622\n",
      "243          1.75            1.75      2000             1.107232\n",
      "244          1.75            1.75      2500             0.906802\n",
      "\n",
      "[245 rows x 4 columns]\n"
     ]
    },
    {
     "data": {
      "application/vnd.plotly.v1+json": {
       "config": {
        "plotlyServerURL": "https://plot.ly"
       },
       "data": [
        {
         "marker": {
          "color": [
           0.9532358948903938,
           0.9298791911889661,
           0.9073928634405235,
           0.8766441072293509,
           0.741155350426537,
           0.9101686727812192,
           0.8389134224301233,
           0.8935928587212657,
           0.8868218024585129,
           0.7578828857476368,
           0.807192891879063,
           0.8651102304903941,
           0.9636084838492163,
           0.8659885544120056,
           0.7490606326376431,
           0.8115506930401022,
           0.7864016375135027,
           1.00272155090291,
           1.0349163216584016,
           0.8561822471720558,
           0.8792142416920256,
           1.0756830248633955,
           1.2379132865088704,
           1.0185956706794674,
           0.9156780682008576,
           0.9770438922136132,
           0.8741586105758424,
           1.2019270698016074,
           1.0646841238726736,
           1.0507998481351202,
           1.0554397548446979,
           0.9133892145245027,
           1.280631078646752,
           1.1177820058436478,
           1.0498699951142,
           0.8302796961311963,
           0.6557325089193622,
           0.7645728650168093,
           0.7246976484486407,
           0.6227106716558014,
           0.7455044652358428,
           0.7406868545795716,
           0.7710451418401371,
           0.7282139269117547,
           0.5885729299982595,
           0.7953943917660031,
           0.7673773532151904,
           0.7552423105276912,
           0.7383159630727991,
           0.6904860847214491,
           0.7683486907528077,
           0.8302122690496173,
           0.9605914366694871,
           0.8526085765143707,
           0.7442828632218195,
           0.7396703599928367,
           1.0332667182569348,
           1.1099737244523478,
           0.9770711298980519,
           0.7911708447093315,
           0.8660564688521871,
           0.8556369668557554,
           1.098101024499934,
           0.9826019893902799,
           0.8984897738644321,
           1.01709963191041,
           0.9498990896486181,
           1.1698264506494722,
           1.0607891679794401,
           0.9216246811021201,
           0.6847980064592278,
           0.5666631500583764,
           0.6500906567659551,
           0.52413736744577,
           0.6135399584708922,
           0.6950947160064422,
           0.5352537960399022,
           0.5585693485557504,
           0.734073507624695,
           0.5982411201574037,
           0.6389302055636857,
           0.7612725000838335,
           0.8018170183857827,
           0.8274363829099332,
           0.7430839702674523,
           0.8568013144606225,
           0.8101498534661635,
           0.7849592623326911,
           0.8113873723064359,
           0.7908409654923044,
           0.7660574330736873,
           0.8820998465238944,
           1.0500455601119778,
           0.8334795832438716,
           0.7927870243922777,
           0.8114704216133147,
           0.850386516939183,
           1.0630266086270268,
           0.9889321205062719,
           0.9346515136528804,
           0.9421306913569784,
           0.9565592694866473,
           1.147473473137488,
           0.9997200113430239,
           0.9252466504077121,
           0.5919515556970851,
           0.5026157076488713,
           0.6014422001500896,
           0.6014404330679293,
           0.6212468078747513,
           0.6313977670730508,
           0.5795540657483982,
           0.5513385880132738,
           0.6485990578680993,
           0.6063731034399366,
           0.5697302595981463,
           0.6732659094466045,
           0.6511968125738034,
           0.715601878300919,
           0.730767993375959,
           0.5858413189164265,
           0.9747686297049575,
           0.8728904496688047,
           0.79346945619217,
           0.870961959848197,
           0.8304747572010764,
           0.8273078360307998,
           0.9457209261838241,
           0.8761241538994554,
           0.8242405544189367,
           0.8199716732656926,
           0.867072980879971,
           1.0405168474356596,
           0.9485692322522881,
           0.962951895397968,
           0.91282228569189,
           0.9496131879585828,
           1.167287337632352,
           0.980174526964496,
           0.9584328361793122,
           0.535499699335284,
           0.44233748448179105,
           0.48095995956689913,
           0.5236800455729766,
           0.6134196639180177,
           0.5520788212045471,
           0.7097515966513385,
           0.6791769915955059,
           0.6733911020363891,
           0.5666704430667651,
           0.6657460847482783,
           0.6983893933633208,
           0.713551131461551,
           0.7161391529659131,
           0.7113135518105181,
           0.6935529037177921,
           0.5377485571842563,
           0.8370712531390075,
           0.8041651004842947,
           0.668400323745333,
           0.8478386615838709,
           0.8285232847511808,
           1.1082627013755548,
           0.9497223840905279,
           0.9015528672725439,
           0.8188329760800133,
           0.788759479017602,
           1.1267280088363518,
           0.8801160628089365,
           0.9165794016960479,
           0.8253213716088678,
           0.9992272895572984,
           1.1388770344765442,
           0.9987063594001202,
           0.9653895308509922,
           0.7156978348361209,
           0.5548564777380971,
           0.5484213329621366,
           0.5771581093768249,
           0.5867845164261376,
           0.5904574921047738,
           0.4805392710995211,
           0.520593532026443,
           0.7450493313604224,
           0.5856395650340199,
           0.6381056357656787,
           0.5731753490880378,
           0.8060812101789151,
           0.6777580894529993,
           0.7112967329073516,
           0.7517113989077993,
           0.6273690960254374,
           0.7546271685996236,
           0.7639712696955121,
           0.7486966592607225,
           0.8607437933890736,
           0.7084348925298174,
           0.955509483662933,
           0.7688777430254826,
           0.8267218726800001,
           0.7520089322864153,
           0.7524512697290873,
           1.1456348947203843,
           0.9271954142922241,
           0.9471952268000001,
           0.7923413465456153,
           0.7966890854920985,
           1.167375102495936,
           0.9627654408466082,
           0.953322275,
           0.627830053907465,
           0.5789000756391913,
           0.8413753821099919,
           0.5922133915584387,
           0.63375780507696,
           0.5874624373206127,
           0.5563539736799592,
           0.9078877925993775,
           0.7125174245916429,
           0.6167531343743459,
           0.7263557806091921,
           0.7072892484383542,
           0.8900965729427319,
           0.7960305637390355,
           0.6962472186300721,
           0.6891621589666276,
           0.6899548740799951,
           0.8328033713553701,
           0.8142464071047945,
           0.737906143643646,
           0.8551064909118982,
           0.7991959802110326,
           0.9272174787651587,
           1.02166596810072,
           0.8236039499150001,
           0.7720375928533032,
           0.7958028086359207,
           1.1271018061858,
           0.9869221199549763,
           0.92984773824,
           0.8446089370370939,
           0.8288398217767584,
           1.05462232471632,
           1.10723208592,
           0.9068017603199999
          ],
          "colorbar": {
           "title": {
            "text": "Final Total Balance"
           }
          },
          "colorscale": [
           [
            0,
            "#440154"
           ],
           [
            0.1111111111111111,
            "#482878"
           ],
           [
            0.2222222222222222,
            "#3e4989"
           ],
           [
            0.3333333333333333,
            "#31688e"
           ],
           [
            0.4444444444444444,
            "#26828e"
           ],
           [
            0.5555555555555556,
            "#1f9e89"
           ],
           [
            0.6666666666666666,
            "#35b779"
           ],
           [
            0.7777777777777778,
            "#6ece58"
           ],
           [
            0.8888888888888888,
            "#b5de2b"
           ],
           [
            1,
            "#fde725"
           ]
          ],
          "size": 8
         },
         "mode": "markers",
         "type": "scatter3d",
         "x": [
          0.25,
          0.25,
          0.25,
          0.25,
          0.25,
          0.25,
          0.25,
          0.25,
          0.25,
          0.25,
          0.25,
          0.25,
          0.25,
          0.25,
          0.25,
          0.25,
          0.25,
          0.25,
          0.25,
          0.25,
          0.25,
          0.25,
          0.25,
          0.25,
          0.25,
          0.25,
          0.25,
          0.25,
          0.25,
          0.25,
          0.25,
          0.25,
          0.25,
          0.25,
          0.25,
          0.5,
          0.5,
          0.5,
          0.5,
          0.5,
          0.5,
          0.5,
          0.5,
          0.5,
          0.5,
          0.5,
          0.5,
          0.5,
          0.5,
          0.5,
          0.5,
          0.5,
          0.5,
          0.5,
          0.5,
          0.5,
          0.5,
          0.5,
          0.5,
          0.5,
          0.5,
          0.5,
          0.5,
          0.5,
          0.5,
          0.5,
          0.5,
          0.5,
          0.5,
          0.5,
          0.75,
          0.75,
          0.75,
          0.75,
          0.75,
          0.75,
          0.75,
          0.75,
          0.75,
          0.75,
          0.75,
          0.75,
          0.75,
          0.75,
          0.75,
          0.75,
          0.75,
          0.75,
          0.75,
          0.75,
          0.75,
          0.75,
          0.75,
          0.75,
          0.75,
          0.75,
          0.75,
          0.75,
          0.75,
          0.75,
          0.75,
          0.75,
          0.75,
          0.75,
          0.75,
          1,
          1,
          1,
          1,
          1,
          1,
          1,
          1,
          1,
          1,
          1,
          1,
          1,
          1,
          1,
          1,
          1,
          1,
          1,
          1,
          1,
          1,
          1,
          1,
          1,
          1,
          1,
          1,
          1,
          1,
          1,
          1,
          1,
          1,
          1,
          1.25,
          1.25,
          1.25,
          1.25,
          1.25,
          1.25,
          1.25,
          1.25,
          1.25,
          1.25,
          1.25,
          1.25,
          1.25,
          1.25,
          1.25,
          1.25,
          1.25,
          1.25,
          1.25,
          1.25,
          1.25,
          1.25,
          1.25,
          1.25,
          1.25,
          1.25,
          1.25,
          1.25,
          1.25,
          1.25,
          1.25,
          1.25,
          1.25,
          1.25,
          1.25,
          1.5,
          1.5,
          1.5,
          1.5,
          1.5,
          1.5,
          1.5,
          1.5,
          1.5,
          1.5,
          1.5,
          1.5,
          1.5,
          1.5,
          1.5,
          1.5,
          1.5,
          1.5,
          1.5,
          1.5,
          1.5,
          1.5,
          1.5,
          1.5,
          1.5,
          1.5,
          1.5,
          1.5,
          1.5,
          1.5,
          1.5,
          1.5,
          1.5,
          1.5,
          1.5,
          1.75,
          1.75,
          1.75,
          1.75,
          1.75,
          1.75,
          1.75,
          1.75,
          1.75,
          1.75,
          1.75,
          1.75,
          1.75,
          1.75,
          1.75,
          1.75,
          1.75,
          1.75,
          1.75,
          1.75,
          1.75,
          1.75,
          1.75,
          1.75,
          1.75,
          1.75,
          1.75,
          1.75,
          1.75,
          1.75,
          1.75,
          1.75,
          1.75,
          1.75,
          1.75
         ],
         "y": [
          0.25,
          0.25,
          0.25,
          0.25,
          0.25,
          0.5,
          0.5,
          0.5,
          0.5,
          0.5,
          0.75,
          0.75,
          0.75,
          0.75,
          0.75,
          1,
          1,
          1,
          1,
          1,
          1.25,
          1.25,
          1.25,
          1.25,
          1.25,
          1.5,
          1.5,
          1.5,
          1.5,
          1.5,
          1.75,
          1.75,
          1.75,
          1.75,
          1.75,
          0.25,
          0.25,
          0.25,
          0.25,
          0.25,
          0.5,
          0.5,
          0.5,
          0.5,
          0.5,
          0.75,
          0.75,
          0.75,
          0.75,
          0.75,
          1,
          1,
          1,
          1,
          1,
          1.25,
          1.25,
          1.25,
          1.25,
          1.25,
          1.5,
          1.5,
          1.5,
          1.5,
          1.5,
          1.75,
          1.75,
          1.75,
          1.75,
          1.75,
          0.25,
          0.25,
          0.25,
          0.25,
          0.25,
          0.5,
          0.5,
          0.5,
          0.5,
          0.5,
          0.75,
          0.75,
          0.75,
          0.75,
          0.75,
          1,
          1,
          1,
          1,
          1,
          1.25,
          1.25,
          1.25,
          1.25,
          1.25,
          1.5,
          1.5,
          1.5,
          1.5,
          1.5,
          1.75,
          1.75,
          1.75,
          1.75,
          1.75,
          0.25,
          0.25,
          0.25,
          0.25,
          0.25,
          0.5,
          0.5,
          0.5,
          0.5,
          0.5,
          0.75,
          0.75,
          0.75,
          0.75,
          0.75,
          1,
          1,
          1,
          1,
          1,
          1.25,
          1.25,
          1.25,
          1.25,
          1.25,
          1.5,
          1.5,
          1.5,
          1.5,
          1.5,
          1.75,
          1.75,
          1.75,
          1.75,
          1.75,
          0.25,
          0.25,
          0.25,
          0.25,
          0.25,
          0.5,
          0.5,
          0.5,
          0.5,
          0.5,
          0.75,
          0.75,
          0.75,
          0.75,
          0.75,
          1,
          1,
          1,
          1,
          1,
          1.25,
          1.25,
          1.25,
          1.25,
          1.25,
          1.5,
          1.5,
          1.5,
          1.5,
          1.5,
          1.75,
          1.75,
          1.75,
          1.75,
          1.75,
          0.25,
          0.25,
          0.25,
          0.25,
          0.25,
          0.5,
          0.5,
          0.5,
          0.5,
          0.5,
          0.75,
          0.75,
          0.75,
          0.75,
          0.75,
          1,
          1,
          1,
          1,
          1,
          1.25,
          1.25,
          1.25,
          1.25,
          1.25,
          1.5,
          1.5,
          1.5,
          1.5,
          1.5,
          1.75,
          1.75,
          1.75,
          1.75,
          1.75,
          0.25,
          0.25,
          0.25,
          0.25,
          0.25,
          0.5,
          0.5,
          0.5,
          0.5,
          0.5,
          0.75,
          0.75,
          0.75,
          0.75,
          0.75,
          1,
          1,
          1,
          1,
          1,
          1.25,
          1.25,
          1.25,
          1.25,
          1.25,
          1.5,
          1.5,
          1.5,
          1.5,
          1.5,
          1.75,
          1.75,
          1.75,
          1.75,
          1.75
         ],
         "z": [
          500,
          1000,
          1500,
          2000,
          2500,
          500,
          1000,
          1500,
          2000,
          2500,
          500,
          1000,
          1500,
          2000,
          2500,
          500,
          1000,
          1500,
          2000,
          2500,
          500,
          1000,
          1500,
          2000,
          2500,
          500,
          1000,
          1500,
          2000,
          2500,
          500,
          1000,
          1500,
          2000,
          2500,
          500,
          1000,
          1500,
          2000,
          2500,
          500,
          1000,
          1500,
          2000,
          2500,
          500,
          1000,
          1500,
          2000,
          2500,
          500,
          1000,
          1500,
          2000,
          2500,
          500,
          1000,
          1500,
          2000,
          2500,
          500,
          1000,
          1500,
          2000,
          2500,
          500,
          1000,
          1500,
          2000,
          2500,
          500,
          1000,
          1500,
          2000,
          2500,
          500,
          1000,
          1500,
          2000,
          2500,
          500,
          1000,
          1500,
          2000,
          2500,
          500,
          1000,
          1500,
          2000,
          2500,
          500,
          1000,
          1500,
          2000,
          2500,
          500,
          1000,
          1500,
          2000,
          2500,
          500,
          1000,
          1500,
          2000,
          2500,
          500,
          1000,
          1500,
          2000,
          2500,
          500,
          1000,
          1500,
          2000,
          2500,
          500,
          1000,
          1500,
          2000,
          2500,
          500,
          1000,
          1500,
          2000,
          2500,
          500,
          1000,
          1500,
          2000,
          2500,
          500,
          1000,
          1500,
          2000,
          2500,
          500,
          1000,
          1500,
          2000,
          2500,
          500,
          1000,
          1500,
          2000,
          2500,
          500,
          1000,
          1500,
          2000,
          2500,
          500,
          1000,
          1500,
          2000,
          2500,
          500,
          1000,
          1500,
          2000,
          2500,
          500,
          1000,
          1500,
          2000,
          2500,
          500,
          1000,
          1500,
          2000,
          2500,
          500,
          1000,
          1500,
          2000,
          2500,
          500,
          1000,
          1500,
          2000,
          2500,
          500,
          1000,
          1500,
          2000,
          2500,
          500,
          1000,
          1500,
          2000,
          2500,
          500,
          1000,
          1500,
          2000,
          2500,
          500,
          1000,
          1500,
          2000,
          2500,
          500,
          1000,
          1500,
          2000,
          2500,
          500,
          1000,
          1500,
          2000,
          2500,
          500,
          1000,
          1500,
          2000,
          2500,
          500,
          1000,
          1500,
          2000,
          2500,
          500,
          1000,
          1500,
          2000,
          2500,
          500,
          1000,
          1500,
          2000,
          2500,
          500,
          1000,
          1500,
          2000,
          2500,
          500,
          1000,
          1500,
          2000,
          2500,
          500,
          1000,
          1500,
          2000,
          2500
         ]
        }
       ],
       "layout": {
        "autosize": true,
        "scene": {
         "aspectmode": "auto",
         "aspectratio": {
          "x": 1,
          "y": 1,
          "z": 1
         },
         "camera": {
          "center": {
           "x": 0,
           "y": 0,
           "z": 0
          },
          "eye": {
           "x": 0.7856997908151857,
           "y": 0.7856997908151856,
           "z": 0.7856997908151857
          },
          "projection": {
           "type": "perspective"
          },
          "up": {
           "x": 0,
           "y": 0,
           "z": 1
          }
         },
         "domain": {
          "x": [
           0,
           1
          ],
          "y": [
           0,
           1
          ]
         },
         "xaxis": {
          "title": {
           "text": "std_count_up"
          },
          "type": "linear"
         },
         "yaxis": {
          "title": {
           "text": "std_count_down"
          },
          "type": "linear"
         },
         "zaxis": {
          "title": {
           "text": "ma_count"
          },
          "type": "linear"
         }
        },
        "template": {
         "data": {
          "bar": [
           {
            "error_x": {
             "color": "#2a3f5f"
            },
            "error_y": {
             "color": "#2a3f5f"
            },
            "marker": {
             "line": {
              "color": "#E5ECF6",
              "width": 0.5
             },
             "pattern": {
              "fillmode": "overlay",
              "size": 10,
              "solidity": 0.2
             }
            },
            "type": "bar"
           }
          ],
          "barpolar": [
           {
            "marker": {
             "line": {
              "color": "#E5ECF6",
              "width": 0.5
             },
             "pattern": {
              "fillmode": "overlay",
              "size": 10,
              "solidity": 0.2
             }
            },
            "type": "barpolar"
           }
          ],
          "carpet": [
           {
            "aaxis": {
             "endlinecolor": "#2a3f5f",
             "gridcolor": "white",
             "linecolor": "white",
             "minorgridcolor": "white",
             "startlinecolor": "#2a3f5f"
            },
            "baxis": {
             "endlinecolor": "#2a3f5f",
             "gridcolor": "white",
             "linecolor": "white",
             "minorgridcolor": "white",
             "startlinecolor": "#2a3f5f"
            },
            "type": "carpet"
           }
          ],
          "choropleth": [
           {
            "colorbar": {
             "outlinewidth": 0,
             "ticks": ""
            },
            "type": "choropleth"
           }
          ],
          "contour": [
           {
            "colorbar": {
             "outlinewidth": 0,
             "ticks": ""
            },
            "colorscale": [
             [
              0,
              "#0d0887"
             ],
             [
              0.1111111111111111,
              "#46039f"
             ],
             [
              0.2222222222222222,
              "#7201a8"
             ],
             [
              0.3333333333333333,
              "#9c179e"
             ],
             [
              0.4444444444444444,
              "#bd3786"
             ],
             [
              0.5555555555555556,
              "#d8576b"
             ],
             [
              0.6666666666666666,
              "#ed7953"
             ],
             [
              0.7777777777777778,
              "#fb9f3a"
             ],
             [
              0.8888888888888888,
              "#fdca26"
             ],
             [
              1,
              "#f0f921"
             ]
            ],
            "type": "contour"
           }
          ],
          "contourcarpet": [
           {
            "colorbar": {
             "outlinewidth": 0,
             "ticks": ""
            },
            "type": "contourcarpet"
           }
          ],
          "heatmap": [
           {
            "colorbar": {
             "outlinewidth": 0,
             "ticks": ""
            },
            "colorscale": [
             [
              0,
              "#0d0887"
             ],
             [
              0.1111111111111111,
              "#46039f"
             ],
             [
              0.2222222222222222,
              "#7201a8"
             ],
             [
              0.3333333333333333,
              "#9c179e"
             ],
             [
              0.4444444444444444,
              "#bd3786"
             ],
             [
              0.5555555555555556,
              "#d8576b"
             ],
             [
              0.6666666666666666,
              "#ed7953"
             ],
             [
              0.7777777777777778,
              "#fb9f3a"
             ],
             [
              0.8888888888888888,
              "#fdca26"
             ],
             [
              1,
              "#f0f921"
             ]
            ],
            "type": "heatmap"
           }
          ],
          "heatmapgl": [
           {
            "colorbar": {
             "outlinewidth": 0,
             "ticks": ""
            },
            "colorscale": [
             [
              0,
              "#0d0887"
             ],
             [
              0.1111111111111111,
              "#46039f"
             ],
             [
              0.2222222222222222,
              "#7201a8"
             ],
             [
              0.3333333333333333,
              "#9c179e"
             ],
             [
              0.4444444444444444,
              "#bd3786"
             ],
             [
              0.5555555555555556,
              "#d8576b"
             ],
             [
              0.6666666666666666,
              "#ed7953"
             ],
             [
              0.7777777777777778,
              "#fb9f3a"
             ],
             [
              0.8888888888888888,
              "#fdca26"
             ],
             [
              1,
              "#f0f921"
             ]
            ],
            "type": "heatmapgl"
           }
          ],
          "histogram": [
           {
            "marker": {
             "pattern": {
              "fillmode": "overlay",
              "size": 10,
              "solidity": 0.2
             }
            },
            "type": "histogram"
           }
          ],
          "histogram2d": [
           {
            "colorbar": {
             "outlinewidth": 0,
             "ticks": ""
            },
            "colorscale": [
             [
              0,
              "#0d0887"
             ],
             [
              0.1111111111111111,
              "#46039f"
             ],
             [
              0.2222222222222222,
              "#7201a8"
             ],
             [
              0.3333333333333333,
              "#9c179e"
             ],
             [
              0.4444444444444444,
              "#bd3786"
             ],
             [
              0.5555555555555556,
              "#d8576b"
             ],
             [
              0.6666666666666666,
              "#ed7953"
             ],
             [
              0.7777777777777778,
              "#fb9f3a"
             ],
             [
              0.8888888888888888,
              "#fdca26"
             ],
             [
              1,
              "#f0f921"
             ]
            ],
            "type": "histogram2d"
           }
          ],
          "histogram2dcontour": [
           {
            "colorbar": {
             "outlinewidth": 0,
             "ticks": ""
            },
            "colorscale": [
             [
              0,
              "#0d0887"
             ],
             [
              0.1111111111111111,
              "#46039f"
             ],
             [
              0.2222222222222222,
              "#7201a8"
             ],
             [
              0.3333333333333333,
              "#9c179e"
             ],
             [
              0.4444444444444444,
              "#bd3786"
             ],
             [
              0.5555555555555556,
              "#d8576b"
             ],
             [
              0.6666666666666666,
              "#ed7953"
             ],
             [
              0.7777777777777778,
              "#fb9f3a"
             ],
             [
              0.8888888888888888,
              "#fdca26"
             ],
             [
              1,
              "#f0f921"
             ]
            ],
            "type": "histogram2dcontour"
           }
          ],
          "mesh3d": [
           {
            "colorbar": {
             "outlinewidth": 0,
             "ticks": ""
            },
            "type": "mesh3d"
           }
          ],
          "parcoords": [
           {
            "line": {
             "colorbar": {
              "outlinewidth": 0,
              "ticks": ""
             }
            },
            "type": "parcoords"
           }
          ],
          "pie": [
           {
            "automargin": true,
            "type": "pie"
           }
          ],
          "scatter": [
           {
            "fillpattern": {
             "fillmode": "overlay",
             "size": 10,
             "solidity": 0.2
            },
            "type": "scatter"
           }
          ],
          "scatter3d": [
           {
            "line": {
             "colorbar": {
              "outlinewidth": 0,
              "ticks": ""
             }
            },
            "marker": {
             "colorbar": {
              "outlinewidth": 0,
              "ticks": ""
             }
            },
            "type": "scatter3d"
           }
          ],
          "scattercarpet": [
           {
            "marker": {
             "colorbar": {
              "outlinewidth": 0,
              "ticks": ""
             }
            },
            "type": "scattercarpet"
           }
          ],
          "scattergeo": [
           {
            "marker": {
             "colorbar": {
              "outlinewidth": 0,
              "ticks": ""
             }
            },
            "type": "scattergeo"
           }
          ],
          "scattergl": [
           {
            "marker": {
             "colorbar": {
              "outlinewidth": 0,
              "ticks": ""
             }
            },
            "type": "scattergl"
           }
          ],
          "scattermapbox": [
           {
            "marker": {
             "colorbar": {
              "outlinewidth": 0,
              "ticks": ""
             }
            },
            "type": "scattermapbox"
           }
          ],
          "scatterpolar": [
           {
            "marker": {
             "colorbar": {
              "outlinewidth": 0,
              "ticks": ""
             }
            },
            "type": "scatterpolar"
           }
          ],
          "scatterpolargl": [
           {
            "marker": {
             "colorbar": {
              "outlinewidth": 0,
              "ticks": ""
             }
            },
            "type": "scatterpolargl"
           }
          ],
          "scatterternary": [
           {
            "marker": {
             "colorbar": {
              "outlinewidth": 0,
              "ticks": ""
             }
            },
            "type": "scatterternary"
           }
          ],
          "surface": [
           {
            "colorbar": {
             "outlinewidth": 0,
             "ticks": ""
            },
            "colorscale": [
             [
              0,
              "#0d0887"
             ],
             [
              0.1111111111111111,
              "#46039f"
             ],
             [
              0.2222222222222222,
              "#7201a8"
             ],
             [
              0.3333333333333333,
              "#9c179e"
             ],
             [
              0.4444444444444444,
              "#bd3786"
             ],
             [
              0.5555555555555556,
              "#d8576b"
             ],
             [
              0.6666666666666666,
              "#ed7953"
             ],
             [
              0.7777777777777778,
              "#fb9f3a"
             ],
             [
              0.8888888888888888,
              "#fdca26"
             ],
             [
              1,
              "#f0f921"
             ]
            ],
            "type": "surface"
           }
          ],
          "table": [
           {
            "cells": {
             "fill": {
              "color": "#EBF0F8"
             },
             "line": {
              "color": "white"
             }
            },
            "header": {
             "fill": {
              "color": "#C8D4E3"
             },
             "line": {
              "color": "white"
             }
            },
            "type": "table"
           }
          ]
         },
         "layout": {
          "annotationdefaults": {
           "arrowcolor": "#2a3f5f",
           "arrowhead": 0,
           "arrowwidth": 1
          },
          "autotypenumbers": "strict",
          "coloraxis": {
           "colorbar": {
            "outlinewidth": 0,
            "ticks": ""
           }
          },
          "colorscale": {
           "diverging": [
            [
             0,
             "#8e0152"
            ],
            [
             0.1,
             "#c51b7d"
            ],
            [
             0.2,
             "#de77ae"
            ],
            [
             0.3,
             "#f1b6da"
            ],
            [
             0.4,
             "#fde0ef"
            ],
            [
             0.5,
             "#f7f7f7"
            ],
            [
             0.6,
             "#e6f5d0"
            ],
            [
             0.7,
             "#b8e186"
            ],
            [
             0.8,
             "#7fbc41"
            ],
            [
             0.9,
             "#4d9221"
            ],
            [
             1,
             "#276419"
            ]
           ],
           "sequential": [
            [
             0,
             "#0d0887"
            ],
            [
             0.1111111111111111,
             "#46039f"
            ],
            [
             0.2222222222222222,
             "#7201a8"
            ],
            [
             0.3333333333333333,
             "#9c179e"
            ],
            [
             0.4444444444444444,
             "#bd3786"
            ],
            [
             0.5555555555555556,
             "#d8576b"
            ],
            [
             0.6666666666666666,
             "#ed7953"
            ],
            [
             0.7777777777777778,
             "#fb9f3a"
            ],
            [
             0.8888888888888888,
             "#fdca26"
            ],
            [
             1,
             "#f0f921"
            ]
           ],
           "sequentialminus": [
            [
             0,
             "#0d0887"
            ],
            [
             0.1111111111111111,
             "#46039f"
            ],
            [
             0.2222222222222222,
             "#7201a8"
            ],
            [
             0.3333333333333333,
             "#9c179e"
            ],
            [
             0.4444444444444444,
             "#bd3786"
            ],
            [
             0.5555555555555556,
             "#d8576b"
            ],
            [
             0.6666666666666666,
             "#ed7953"
            ],
            [
             0.7777777777777778,
             "#fb9f3a"
            ],
            [
             0.8888888888888888,
             "#fdca26"
            ],
            [
             1,
             "#f0f921"
            ]
           ]
          },
          "colorway": [
           "#636efa",
           "#EF553B",
           "#00cc96",
           "#ab63fa",
           "#FFA15A",
           "#19d3f3",
           "#FF6692",
           "#B6E880",
           "#FF97FF",
           "#FECB52"
          ],
          "font": {
           "color": "#2a3f5f"
          },
          "geo": {
           "bgcolor": "white",
           "lakecolor": "white",
           "landcolor": "#E5ECF6",
           "showlakes": true,
           "showland": true,
           "subunitcolor": "white"
          },
          "hoverlabel": {
           "align": "left"
          },
          "hovermode": "closest",
          "mapbox": {
           "style": "light"
          },
          "paper_bgcolor": "white",
          "plot_bgcolor": "#E5ECF6",
          "polar": {
           "angularaxis": {
            "gridcolor": "white",
            "linecolor": "white",
            "ticks": ""
           },
           "bgcolor": "#E5ECF6",
           "radialaxis": {
            "gridcolor": "white",
            "linecolor": "white",
            "ticks": ""
           }
          },
          "scene": {
           "xaxis": {
            "backgroundcolor": "#E5ECF6",
            "gridcolor": "white",
            "gridwidth": 2,
            "linecolor": "white",
            "showbackground": true,
            "ticks": "",
            "zerolinecolor": "white"
           },
           "yaxis": {
            "backgroundcolor": "#E5ECF6",
            "gridcolor": "white",
            "gridwidth": 2,
            "linecolor": "white",
            "showbackground": true,
            "ticks": "",
            "zerolinecolor": "white"
           },
           "zaxis": {
            "backgroundcolor": "#E5ECF6",
            "gridcolor": "white",
            "gridwidth": 2,
            "linecolor": "white",
            "showbackground": true,
            "ticks": "",
            "zerolinecolor": "white"
           }
          },
          "shapedefaults": {
           "line": {
            "color": "#2a3f5f"
           }
          },
          "ternary": {
           "aaxis": {
            "gridcolor": "white",
            "linecolor": "white",
            "ticks": ""
           },
           "baxis": {
            "gridcolor": "white",
            "linecolor": "white",
            "ticks": ""
           },
           "bgcolor": "#E5ECF6",
           "caxis": {
            "gridcolor": "white",
            "linecolor": "white",
            "ticks": ""
           }
          },
          "title": {
           "x": 0.05
          },
          "xaxis": {
           "automargin": true,
           "gridcolor": "white",
           "linecolor": "white",
           "ticks": "",
           "title": {
            "standoff": 15
           },
           "zerolinecolor": "white",
           "zerolinewidth": 2
          },
          "yaxis": {
           "automargin": true,
           "gridcolor": "white",
           "linecolor": "white",
           "ticks": "",
           "title": {
            "standoff": 15
           },
           "zerolinecolor": "white",
           "zerolinewidth": 2
          }
         }
        }
       }
      },
      "image/png": "[encoded data removed]",
      "text/html": [
       "<div>                            <div id=\"18e337ad-35a0-4778-b733-af880595fb80\" class=\"plotly-graph-div\" style=\"height:525px; width:100%;\"></div>            <script type=\"text/javascript\">                require([\"plotly\"], function(Plotly) {                    window.PLOTLYENV=window.PLOTLYENV || {};                                    if (document.getElementById(\"18e337ad-35a0-4778-b733-af880595fb80\")) {                    Plotly.newPlot(                        \"18e337ad-35a0-4778-b733-af880595fb80\",                        [{\"marker\":{\"color\":[0.9532358948903938,0.9298791911889661,0.9073928634405235,0.8766441072293509,0.741155350426537,0.9101686727812192,0.8389134224301233,0.8935928587212657,0.8868218024585129,0.7578828857476368,0.807192891879063,0.8651102304903941,0.9636084838492163,0.8659885544120056,0.7490606326376431,0.8115506930401022,0.7864016375135027,1.00272155090291,1.0349163216584016,0.8561822471720558,0.8792142416920256,1.0756830248633955,1.2379132865088704,1.0185956706794674,0.9156780682008576,0.9770438922136132,0.8741586105758424,1.2019270698016074,1.0646841238726736,1.0507998481351202,1.0554397548446979,0.9133892145245027,1.280631078646752,1.1177820058436478,1.0498699951142,0.8302796961311963,0.6557325089193622,0.7645728650168093,0.7246976484486407,0.6227106716558014,0.7455044652358428,0.7406868545795716,0.7710451418401371,0.7282139269117547,0.5885729299982595,0.7953943917660031,0.7673773532151904,0.7552423105276912,0.7383159630727991,0.6904860847214491,0.7683486907528077,0.8302122690496173,0.9605914366694871,0.8526085765143707,0.7442828632218195,0.7396703599928367,1.0332667182569348,1.1099737244523478,0.9770711298980519,0.7911708447093315,0.8660564688521871,0.8556369668557554,1.098101024499934,0.9826019893902799,0.8984897738644321,1.01709963191041,0.9498990896486181,1.1698264506494722,1.0607891679794401,0.9216246811021201,0.6847980064592278,0.5666631500583764,0.6500906567659551,0.52413736744577,0.6135399584708922,0.6950947160064422,0.5352537960399022,0.5585693485557504,0.734073507624695,0.5982411201574037,0.6389302055636857,0.7612725000838335,0.8018170183857827,0.8274363829099332,0.7430839702674523,0.8568013144606225,0.8101498534661635,0.7849592623326911,0.8113873723064359,0.7908409654923044,0.7660574330736873,0.8820998465238944,1.0500455601119778,0.8334795832438716,0.7927870243922777,0.8114704216133147,0.850386516939183,1.0630266086270268,0.9889321205062719,0.9346515136528804,0.9421306913569784,0.9565592694866473,1.147473473137488,0.9997200113430239,0.9252466504077121,0.5919515556970851,0.5026157076488713,0.6014422001500896,0.6014404330679293,0.6212468078747513,0.6313977670730508,0.5795540657483982,0.5513385880132738,0.6485990578680993,0.6063731034399366,0.5697302595981463,0.6732659094466045,0.6511968125738034,0.715601878300919,0.730767993375959,0.5858413189164265,0.9747686297049575,0.8728904496688047,0.79346945619217,0.870961959848197,0.8304747572010764,0.8273078360307998,0.9457209261838241,0.8761241538994554,0.8242405544189367,0.8199716732656926,0.867072980879971,1.0405168474356596,0.9485692322522881,0.962951895397968,0.91282228569189,0.9496131879585828,1.167287337632352,0.980174526964496,0.9584328361793122,0.535499699335284,0.44233748448179105,0.48095995956689913,0.5236800455729766,0.6134196639180177,0.5520788212045471,0.7097515966513385,0.6791769915955059,0.6733911020363891,0.5666704430667651,0.6657460847482783,0.6983893933633208,0.713551131461551,0.7161391529659131,0.7113135518105181,0.6935529037177921,0.5377485571842563,0.8370712531390075,0.8041651004842947,0.668400323745333,0.8478386615838709,0.8285232847511808,1.1082627013755548,0.9497223840905279,0.9015528672725439,0.8188329760800133,0.788759479017602,1.1267280088363518,0.8801160628089365,0.9165794016960479,0.8253213716088678,0.9992272895572984,1.1388770344765442,0.9987063594001202,0.9653895308509922,0.7156978348361209,0.5548564777380971,0.5484213329621366,0.5771581093768249,0.5867845164261376,0.5904574921047738,0.4805392710995211,0.520593532026443,0.7450493313604224,0.5856395650340199,0.6381056357656787,0.5731753490880378,0.8060812101789151,0.6777580894529993,0.7112967329073516,0.7517113989077993,0.6273690960254374,0.7546271685996236,0.7639712696955121,0.7486966592607225,0.8607437933890736,0.7084348925298174,0.955509483662933,0.7688777430254826,0.8267218726800001,0.7520089322864153,0.7524512697290873,1.1456348947203843,0.9271954142922241,0.9471952268000001,0.7923413465456153,0.7966890854920985,1.167375102495936,0.9627654408466082,0.953322275,0.627830053907465,0.5789000756391913,0.8413753821099919,0.5922133915584387,0.63375780507696,0.5874624373206127,0.5563539736799592,0.9078877925993775,0.7125174245916429,0.6167531343743459,0.7263557806091921,0.7072892484383542,0.8900965729427319,0.7960305637390355,0.6962472186300721,0.6891621589666276,0.6899548740799951,0.8328033713553701,0.8142464071047945,0.737906143643646,0.8551064909118982,0.7991959802110326,0.9272174787651587,1.02166596810072,0.8236039499150001,0.7720375928533032,0.7958028086359207,1.1271018061858,0.9869221199549763,0.92984773824,0.8446089370370939,0.8288398217767584,1.05462232471632,1.10723208592,0.9068017603199999],\"colorbar\":{\"title\":{\"text\":\"Final Total Balance\"}},\"colorscale\":[[0.0,\"#440154\"],[0.1111111111111111,\"#482878\"],[0.2222222222222222,\"#3e4989\"],[0.3333333333333333,\"#31688e\"],[0.4444444444444444,\"#26828e\"],[0.5555555555555556,\"#1f9e89\"],[0.6666666666666666,\"#35b779\"],[0.7777777777777778,\"#6ece58\"],[0.8888888888888888,\"#b5de2b\"],[1.0,\"#fde725\"]],\"size\":8},\"mode\":\"markers\",\"x\":[0.25,0.25,0.25,0.25,0.25,0.25,0.25,0.25,0.25,0.25,0.25,0.25,0.25,0.25,0.25,0.25,0.25,0.25,0.25,0.25,0.25,0.25,0.25,0.25,0.25,0.25,0.25,0.25,0.25,0.25,0.25,0.25,0.25,0.25,0.25,0.5,0.5,0.5,0.5,0.5,0.5,0.5,0.5,0.5,0.5,0.5,0.5,0.5,0.5,0.5,0.5,0.5,0.5,0.5,0.5,0.5,0.5,0.5,0.5,0.5,0.5,0.5,0.5,0.5,0.5,0.5,0.5,0.5,0.5,0.5,0.75,0.75,0.75,0.75,0.75,0.75,0.75,0.75,0.75,0.75,0.75,0.75,0.75,0.75,0.75,0.75,0.75,0.75,0.75,0.75,0.75,0.75,0.75,0.75,0.75,0.75,0.75,0.75,0.75,0.75,0.75,0.75,0.75,0.75,0.75,1.0,1.0,1.0,1.0,1.0,1.0,1.0,1.0,1.0,1.0,1.0,1.0,1.0,1.0,1.0,1.0,1.0,1.0,1.0,1.0,1.0,1.0,1.0,1.0,1.0,1.0,1.0,1.0,1.0,1.0,1.0,1.0,1.0,1.0,1.0,1.25,1.25,1.25,1.25,1.25,1.25,1.25,1.25,1.25,1.25,1.25,1.25,1.25,1.25,1.25,1.25,1.25,1.25,1.25,1.25,1.25,1.25,1.25,1.25,1.25,1.25,1.25,1.25,1.25,1.25,1.25,1.25,1.25,1.25,1.25,1.5,1.5,1.5,1.5,1.5,1.5,1.5,1.5,1.5,1.5,1.5,1.5,1.5,1.5,1.5,1.5,1.5,1.5,1.5,1.5,1.5,1.5,1.5,1.5,1.5,1.5,1.5,1.5,1.5,1.5,1.5,1.5,1.5,1.5,1.5,1.75,1.75,1.75,1.75,1.75,1.75,1.75,1.75,1.75,1.75,1.75,1.75,1.75,1.75,1.75,1.75,1.75,1.75,1.75,1.75,1.75,1.75,1.75,1.75,1.75,1.75,1.75,1.75,1.75,1.75,1.75,1.75,1.75,1.75,1.75],\"y\":[0.25,0.25,0.25,0.25,0.25,0.5,0.5,0.5,0.5,0.5,0.75,0.75,0.75,0.75,0.75,1.0,1.0,1.0,1.0,1.0,1.25,1.25,1.25,1.25,1.25,1.5,1.5,1.5,1.5,1.5,1.75,1.75,1.75,1.75,1.75,0.25,0.25,0.25,0.25,0.25,0.5,0.5,0.5,0.5,0.5,0.75,0.75,0.75,0.75,0.75,1.0,1.0,1.0,1.0,1.0,1.25,1.25,1.25,1.25,1.25,1.5,1.5,1.5,1.5,1.5,1.75,1.75,1.75,1.75,1.75,0.25,0.25,0.25,0.25,0.25,0.5,0.5,0.5,0.5,0.5,0.75,0.75,0.75,0.75,0.75,1.0,1.0,1.0,1.0,1.0,1.25,1.25,1.25,1.25,1.25,1.5,1.5,1.5,1.5,1.5,1.75,1.75,1.75,1.75,1.75,0.25,0.25,0.25,0.25,0.25,0.5,0.5,0.5,0.5,0.5,0.75,0.75,0.75,0.75,0.75,1.0,1.0,1.0,1.0,1.0,1.25,1.25,1.25,1.25,1.25,1.5,1.5,1.5,1.5,1.5,1.75,1.75,1.75,1.75,1.75,0.25,0.25,0.25,0.25,0.25,0.5,0.5,0.5,0.5,0.5,0.75,0.75,0.75,0.75,0.75,1.0,1.0,1.0,1.0,1.0,1.25,1.25,1.25,1.25,1.25,1.5,1.5,1.5,1.5,1.5,1.75,1.75,1.75,1.75,1.75,0.25,0.25,0.25,0.25,0.25,0.5,0.5,0.5,0.5,0.5,0.75,0.75,0.75,0.75,0.75,1.0,1.0,1.0,1.0,1.0,1.25,1.25,1.25,1.25,1.25,1.5,1.5,1.5,1.5,1.5,1.75,1.75,1.75,1.75,1.75,0.25,0.25,0.25,0.25,0.25,0.5,0.5,0.5,0.5,0.5,0.75,0.75,0.75,0.75,0.75,1.0,1.0,1.0,1.0,1.0,1.25,1.25,1.25,1.25,1.25,1.5,1.5,1.5,1.5,1.5,1.75,1.75,1.75,1.75,1.75],\"z\":[500,1000,1500,2000,2500,500,1000,1500,2000,2500,500,1000,1500,2000,2500,500,1000,1500,2000,2500,500,1000,1500,2000,2500,500,1000,1500,2000,2500,500,1000,1500,2000,2500,500,1000,1500,2000,2500,500,1000,1500,2000,2500,500,1000,1500,2000,2500,500,1000,1500,2000,2500,500,1000,1500,2000,2500,500,1000,1500,2000,2500,500,1000,1500,2000,2500,500,1000,1500,2000,2500,500,1000,1500,2000,2500,500,1000,1500,2000,2500,500,1000,1500,2000,2500,500,1000,1500,2000,2500,500,1000,1500,2000,2500,500,1000,1500,2000,2500,500,1000,1500,2000,2500,500,1000,1500,2000,2500,500,1000,1500,2000,2500,500,1000,1500,2000,2500,500,1000,1500,2000,2500,500,1000,1500,2000,2500,500,1000,1500,2000,2500,500,1000,1500,2000,2500,500,1000,1500,2000,2500,500,1000,1500,2000,2500,500,1000,1500,2000,2500,500,1000,1500,2000,2500,500,1000,1500,2000,2500,500,1000,1500,2000,2500,500,1000,1500,2000,2500,500,1000,1500,2000,2500,500,1000,1500,2000,2500,500,1000,1500,2000,2500,500,1000,1500,2000,2500,500,1000,1500,2000,2500,500,1000,1500,2000,2500,500,1000,1500,2000,2500,500,1000,1500,2000,2500,500,1000,1500,2000,2500,500,1000,1500,2000,2500,500,1000,1500,2000,2500,500,1000,1500,2000,2500,500,1000,1500,2000,2500],\"type\":\"scatter3d\"}],                        {\"template\":{\"data\":{\"histogram2dcontour\":[{\"type\":\"histogram2dcontour\",\"colorbar\":{\"outlinewidth\":0,\"ticks\":\"\"},\"colorscale\":[[0.0,\"#0d0887\"],[0.1111111111111111,\"#46039f\"],[0.2222222222222222,\"#7201a8\"],[0.3333333333333333,\"#9c179e\"],[0.4444444444444444,\"#bd3786\"],[0.5555555555555556,\"#d8576b\"],[0.6666666666666666,\"#ed7953\"],[0.7777777777777778,\"#fb9f3a\"],[0.8888888888888888,\"#fdca26\"],[1.0,\"#f0f921\"]]}],\"choropleth\":[{\"type\":\"choropleth\",\"colorbar\":{\"outlinewidth\":0,\"ticks\":\"\"}}],\"histogram2d\":[{\"type\":\"histogram2d\",\"colorbar\":{\"outlinewidth\":0,\"ticks\":\"\"},\"colorscale\":[[0.0,\"#0d0887\"],[0.1111111111111111,\"#46039f\"],[0.2222222222222222,\"#7201a8\"],[0.3333333333333333,\"#9c179e\"],[0.4444444444444444,\"#bd3786\"],[0.5555555555555556,\"#d8576b\"],[0.6666666666666666,\"#ed7953\"],[0.7777777777777778,\"#fb9f3a\"],[0.8888888888888888,\"#fdca26\"],[1.0,\"#f0f921\"]]}],\"heatmap\":[{\"type\":\"heatmap\",\"colorbar\":{\"outlinewidth\":0,\"ticks\":\"\"},\"colorscale\":[[0.0,\"#0d0887\"],[0.1111111111111111,\"#46039f\"],[0.2222222222222222,\"#7201a8\"],[0.3333333333333333,\"#9c179e\"],[0.4444444444444444,\"#bd3786\"],[0.5555555555555556,\"#d8576b\"],[0.6666666666666666,\"#ed7953\"],[0.7777777777777778,\"#fb9f3a\"],[0.8888888888888888,\"#fdca26\"],[1.0,\"#f0f921\"]]}],\"heatmapgl\":[{\"type\":\"heatmapgl\",\"colorbar\":{\"outlinewidth\":0,\"ticks\":\"\"},\"colorscale\":[[0.0,\"#0d0887\"],[0.1111111111111111,\"#46039f\"],[0.2222222222222222,\"#7201a8\"],[0.3333333333333333,\"#9c179e\"],[0.4444444444444444,\"#bd3786\"],[0.5555555555555556,\"#d8576b\"],[0.6666666666666666,\"#ed7953\"],[0.7777777777777778,\"#fb9f3a\"],[0.8888888888888888,\"#fdca26\"],[1.0,\"#f0f921\"]]}],\"contourcarpet\":[{\"type\":\"contourcarpet\",\"colorbar\":{\"outlinewidth\":0,\"ticks\":\"\"}}],\"contour\":[{\"type\":\"contour\",\"colorbar\":{\"outlinewidth\":0,\"ticks\":\"\"},\"colorscale\":[[0.0,\"#0d0887\"],[0.1111111111111111,\"#46039f\"],[0.2222222222222222,\"#7201a8\"],[0.3333333333333333,\"#9c179e\"],[0.4444444444444444,\"#bd3786\"],[0.5555555555555556,\"#d8576b\"],[0.6666666666666666,\"#ed7953\"],[0.7777777777777778,\"#fb9f3a\"],[0.8888888888888888,\"#fdca26\"],[1.0,\"#f0f921\"]]}],\"surface\":[{\"type\":\"surface\",\"colorbar\":{\"outlinewidth\":0,\"ticks\":\"\"},\"colorscale\":[[0.0,\"#0d0887\"],[0.1111111111111111,\"#46039f\"],[0.2222222222222222,\"#7201a8\"],[0.3333333333333333,\"#9c179e\"],[0.4444444444444444,\"#bd3786\"],[0.5555555555555556,\"#d8576b\"],[0.6666666666666666,\"#ed7953\"],[0.7777777777777778,\"#fb9f3a\"],[0.8888888888888888,\"#fdca26\"],[1.0,\"#f0f921\"]]}],\"mesh3d\":[{\"type\":\"mesh3d\",\"colorbar\":{\"outlinewidth\":0,\"ticks\":\"\"}}],\"scatter\":[{\"fillpattern\":{\"fillmode\":\"overlay\",\"size\":10,\"solidity\":0.2},\"type\":\"scatter\"}],\"parcoords\":[{\"type\":\"parcoords\",\"line\":{\"colorbar\":{\"outlinewidth\":0,\"ticks\":\"\"}}}],\"scatterpolargl\":[{\"type\":\"scatterpolargl\",\"marker\":{\"colorbar\":{\"outlinewidth\":0,\"ticks\":\"\"}}}],\"bar\":[{\"error_x\":{\"color\":\"#2a3f5f\"},\"error_y\":{\"color\":\"#2a3f5f\"},\"marker\":{\"line\":{\"color\":\"#E5ECF6\",\"width\":0.5},\"pattern\":{\"fillmode\":\"overlay\",\"size\":10,\"solidity\":0.2}},\"type\":\"bar\"}],\"scattergeo\":[{\"type\":\"scattergeo\",\"marker\":{\"colorbar\":{\"outlinewidth\":0,\"ticks\":\"\"}}}],\"scatterpolar\":[{\"type\":\"scatterpolar\",\"marker\":{\"colorbar\":{\"outlinewidth\":0,\"ticks\":\"\"}}}],\"histogram\":[{\"marker\":{\"pattern\":{\"fillmode\":\"overlay\",\"size\":10,\"solidity\":0.2}},\"type\":\"histogram\"}],\"scattergl\":[{\"type\":\"scattergl\",\"marker\":{\"colorbar\":{\"outlinewidth\":0,\"ticks\":\"\"}}}],\"scatter3d\":[{\"type\":\"scatter3d\",\"line\":{\"colorbar\":{\"outlinewidth\":0,\"ticks\":\"\"}},\"marker\":{\"colorbar\":{\"outlinewidth\":0,\"ticks\":\"\"}}}],\"scattermapbox\":[{\"type\":\"scattermapbox\",\"marker\":{\"colorbar\":{\"outlinewidth\":0,\"ticks\":\"\"}}}],\"scatterternary\":[{\"type\":\"scatterternary\",\"marker\":{\"colorbar\":{\"outlinewidth\":0,\"ticks\":\"\"}}}],\"scattercarpet\":[{\"type\":\"scattercarpet\",\"marker\":{\"colorbar\":{\"outlinewidth\":0,\"ticks\":\"\"}}}],\"carpet\":[{\"aaxis\":{\"endlinecolor\":\"#2a3f5f\",\"gridcolor\":\"white\",\"linecolor\":\"white\",\"minorgridcolor\":\"white\",\"startlinecolor\":\"#2a3f5f\"},\"baxis\":{\"endlinecolor\":\"#2a3f5f\",\"gridcolor\":\"white\",\"linecolor\":\"white\",\"minorgridcolor\":\"white\",\"startlinecolor\":\"#2a3f5f\"},\"type\":\"carpet\"}],\"table\":[{\"cells\":{\"fill\":{\"color\":\"#EBF0F8\"},\"line\":{\"color\":\"white\"}},\"header\":{\"fill\":{\"color\":\"#C8D4E3\"},\"line\":{\"color\":\"white\"}},\"type\":\"table\"}],\"barpolar\":[{\"marker\":{\"line\":{\"color\":\"#E5ECF6\",\"width\":0.5},\"pattern\":{\"fillmode\":\"overlay\",\"size\":10,\"solidity\":0.2}},\"type\":\"barpolar\"}],\"pie\":[{\"automargin\":true,\"type\":\"pie\"}]},\"layout\":{\"autotypenumbers\":\"strict\",\"colorway\":[\"#636efa\",\"#EF553B\",\"#00cc96\",\"#ab63fa\",\"#FFA15A\",\"#19d3f3\",\"#FF6692\",\"#B6E880\",\"#FF97FF\",\"#FECB52\"],\"font\":{\"color\":\"#2a3f5f\"},\"hovermode\":\"closest\",\"hoverlabel\":{\"align\":\"left\"},\"paper_bgcolor\":\"white\",\"plot_bgcolor\":\"#E5ECF6\",\"polar\":{\"bgcolor\":\"#E5ECF6\",\"angularaxis\":{\"gridcolor\":\"white\",\"linecolor\":\"white\",\"ticks\":\"\"},\"radialaxis\":{\"gridcolor\":\"white\",\"linecolor\":\"white\",\"ticks\":\"\"}},\"ternary\":{\"bgcolor\":\"#E5ECF6\",\"aaxis\":{\"gridcolor\":\"white\",\"linecolor\":\"white\",\"ticks\":\"\"},\"baxis\":{\"gridcolor\":\"white\",\"linecolor\":\"white\",\"ticks\":\"\"},\"caxis\":{\"gridcolor\":\"white\",\"linecolor\":\"white\",\"ticks\":\"\"}},\"coloraxis\":{\"colorbar\":{\"outlinewidth\":0,\"ticks\":\"\"}},\"colorscale\":{\"sequential\":[[0.0,\"#0d0887\"],[0.1111111111111111,\"#46039f\"],[0.2222222222222222,\"#7201a8\"],[0.3333333333333333,\"#9c179e\"],[0.4444444444444444,\"#bd3786\"],[0.5555555555555556,\"#d8576b\"],[0.6666666666666666,\"#ed7953\"],[0.7777777777777778,\"#fb9f3a\"],[0.8888888888888888,\"#fdca26\"],[1.0,\"#f0f921\"]],\"sequentialminus\":[[0.0,\"#0d0887\"],[0.1111111111111111,\"#46039f\"],[0.2222222222222222,\"#7201a8\"],[0.3333333333333333,\"#9c179e\"],[0.4444444444444444,\"#bd3786\"],[0.5555555555555556,\"#d8576b\"],[0.6666666666666666,\"#ed7953\"],[0.7777777777777778,\"#fb9f3a\"],[0.8888888888888888,\"#fdca26\"],[1.0,\"#f0f921\"]],\"diverging\":[[0,\"#8e0152\"],[0.1,\"#c51b7d\"],[0.2,\"#de77ae\"],[0.3,\"#f1b6da\"],[0.4,\"#fde0ef\"],[0.5,\"#f7f7f7\"],[0.6,\"#e6f5d0\"],[0.7,\"#b8e186\"],[0.8,\"#7fbc41\"],[0.9,\"#4d9221\"],[1,\"#276419\"]]},\"xaxis\":{\"gridcolor\":\"white\",\"linecolor\":\"white\",\"ticks\":\"\",\"title\":{\"standoff\":15},\"zerolinecolor\":\"white\",\"automargin\":true,\"zerolinewidth\":2},\"yaxis\":{\"gridcolor\":\"white\",\"linecolor\":\"white\",\"ticks\":\"\",\"title\":{\"standoff\":15},\"zerolinecolor\":\"white\",\"automargin\":true,\"zerolinewidth\":2},\"scene\":{\"xaxis\":{\"backgroundcolor\":\"#E5ECF6\",\"gridcolor\":\"white\",\"linecolor\":\"white\",\"showbackground\":true,\"ticks\":\"\",\"zerolinecolor\":\"white\",\"gridwidth\":2},\"yaxis\":{\"backgroundcolor\":\"#E5ECF6\",\"gridcolor\":\"white\",\"linecolor\":\"white\",\"showbackground\":true,\"ticks\":\"\",\"zerolinecolor\":\"white\",\"gridwidth\":2},\"zaxis\":{\"backgroundcolor\":\"#E5ECF6\",\"gridcolor\":\"white\",\"linecolor\":\"white\",\"showbackground\":true,\"ticks\":\"\",\"zerolinecolor\":\"white\",\"gridwidth\":2}},\"shapedefaults\":{\"line\":{\"color\":\"#2a3f5f\"}},\"annotationdefaults\":{\"arrowcolor\":\"#2a3f5f\",\"arrowhead\":0,\"arrowwidth\":1},\"geo\":{\"bgcolor\":\"white\",\"landcolor\":\"#E5ECF6\",\"subunitcolor\":\"white\",\"showland\":true,\"showlakes\":true,\"lakecolor\":\"white\"},\"title\":{\"x\":0.05},\"mapbox\":{\"style\":\"light\"}}},\"scene\":{\"domain\":{\"x\":[0.0,1.0],\"y\":[0.0,1.0]},\"xaxis\":{\"title\":{\"text\":\"std_count_up\"}},\"yaxis\":{\"title\":{\"text\":\"std_count_down\"}},\"zaxis\":{\"title\":{\"text\":\"ma_count\"}}}},                        {\"responsive\": true}                    ).then(function(){\n",
       "                            \n",
       "var gd = document.getElementById('18e337ad-35a0-4778-b733-af880595fb80');\n",
       "var x = new MutationObserver(function (mutations, observer) {{\n",
       "        var display = window.getComputedStyle(gd).display;\n",
       "        if (!display || display === 'none') {{\n",
       "            console.log([gd, 'removed!']);\n",
       "            Plotly.purge(gd);\n",
       "            observer.disconnect();\n",
       "        }}\n",
       "}});\n",
       "\n",
       "// Listen for the removal of the full notebook cells\n",
       "var notebookContainer = gd.closest('#notebook-container');\n",
       "if (notebookContainer) {{\n",
       "    x.observe(notebookContainer, {childList: true});\n",
       "}}\n",
       "\n",
       "// Listen for the clearing of the current output cell\n",
       "var outputEl = gd.closest('.output');\n",
       "if (outputEl) {{\n",
       "    x.observe(outputEl, {childList: true});\n",
       "}}\n",
       "\n",
       "                        })                };                });            </script>        </div>"
      ]
     },
     "metadata": {},
     "output_type": "display_data"
    }
   ],
   "source": [
    "import plotly.graph_objs as go\n",
    "from plotly.subplots import make_subplots\n",
    "\n",
    "step_std_counts_up = 0.25\n",
    "step_std_counts_down = 0.25\n",
    "step_ma_counts = 500\n",
    "std_counts_up = np.arange(0.25, 2, step_std_counts_up)\n",
    "std_counts_down = np.arange(0.25, 2, step_std_counts_down)\n",
    "ma_counts = np.arange(500, 3000, step_ma_counts)\n",
    "\n",
    "parameters = []\n",
    "final_total_balances = []\n",
    "\n",
    "with ThreadPoolExecutor(max_workers=4) as executor:\n",
    "    futures = []\n",
    "    \n",
    "    for std_count_up in std_counts_up:\n",
    "        for std_count_down in std_counts_down:\n",
    "            for ma_count in ma_counts:\n",
    "                future = executor.submit(run_strategy, train_data, std_count_up, std_count_down, ma_count)\n",
    "                futures.append((std_count_up, std_count_down, ma_count, future))\n",
    "\n",
    "    for std_count_up, std_count_down, ma_count, future in futures:\n",
    "        final_total_balance = future.result()\n",
    "        parameters.append((std_count_up, std_count_down, ma_count))\n",
    "        final_total_balances.append(final_total_balance)\n",
    "\n",
    "# Преобразование в DataFrame для удобства работы с данными\n",
    "df_plotly = pd.DataFrame(parameters, columns=['std_count_up', 'std_count_down', 'ma_count'])\n",
    "df_plotly['final_total_balance'] = final_total_balances\n",
    "print(df_plotly)\n",
    "\n",
    "\n",
    "# Создание трехмерного графика в Plotly\n",
    "fig = make_subplots(rows=1, cols=1, specs=[[{'type': 'scatter3d'}]])\n",
    "\n",
    "scatter = go.Scatter3d(\n",
    "    x=df_plotly['std_count_up'],\n",
    "    y=df_plotly['std_count_down'],\n",
    "    z=df_plotly['ma_count'],\n",
    "    mode='markers',\n",
    "    marker=dict(\n",
    "        size=8,\n",
    "        color=df_plotly['final_total_balance'],\n",
    "        colorscale='Viridis',\n",
    "        colorbar=dict(title='Final Total Balance')\n",
    "    )\n",
    ")\n",
    "\n",
    "fig.add_trace(scatter)\n",
    "\n",
    "# Наименование осей\n",
    "fig.update_layout(scene=dict(\n",
    "                    xaxis_title='std_count_up',\n",
    "                    yaxis_title='std_count_down',\n",
    "                    zaxis_title='ma_count')\n",
    "                 )\n",
    "\n",
    "# Отображение графика\n",
    "fig.show()"
   ]
  },
  {
   "cell_type": "code",
   "execution_count": 76,
   "metadata": {
    "execution": {
     "iopub.execute_input": "2023-12-01T22:11:37.976142Z",
     "iopub.status.busy": "2023-12-01T22:11:37.975143Z",
     "iopub.status.idle": "2023-12-01T22:11:45.393954Z",
     "shell.execute_reply": "2023-12-01T22:11:45.392959Z",
     "shell.execute_reply.started": "2023-12-01T22:11:37.975143Z"
    },
    "scrolled": true
   },
   "outputs": [
    {
     "name": "stdout",
     "output_type": "stream",
     "text": [
      "     std_count_up  std_count_down  ma_count  final_total_balance  \\\n",
      "0            0.25            0.25       500             0.953236   \n",
      "1            0.25            0.25      1000             0.929879   \n",
      "2            0.25            0.25      1500             0.907393   \n",
      "3            0.25            0.25      2000             0.876644   \n",
      "4            0.25            0.25      2500             0.741155   \n",
      "..            ...             ...       ...                  ...   \n",
      "240          1.75            1.75       500             0.844609   \n",
      "241          1.75            1.75      1000             0.828840   \n",
      "242          1.75            1.75      1500             1.054622   \n",
      "243          1.75            1.75      2000             1.107232   \n",
      "244          1.75            1.75      2500             0.906802   \n",
      "\n",
      "     final_utility_balance  \n",
      "0                49.978289  \n",
      "1                32.418244  \n",
      "2                12.016464  \n",
      "3                11.797363  \n",
      "4                10.071052  \n",
      "..                     ...  \n",
      "240              25.020130  \n",
      "241              26.188494  \n",
      "242              13.943463  \n",
      "243              14.130270  \n",
      "244              11.286826  \n",
      "\n",
      "[245 rows x 5 columns]\n",
      "1.280631078646752 50.58966722709083\n"
     ]
    }
   ],
   "source": [
    "import numpy as np\n",
    "import pandas as pd\n",
    "import statistics\n",
    "\n",
    "def Utility_fun(income, var):\n",
    "    return income/var\n",
    "\n",
    "def Utility_assess(df_plotly, index_std_count_up, index_std_count_down, index_ma_count, len_std_counts_up, len_std_counts_down, len_ma_counts, radius):\n",
    "    # Используем iloc для явного указания целочисленного индекса\n",
    "    income = df_plotly.loc[\n",
    "        (df_plotly['std_count_up'] == df_plotly['std_count_up'].iloc[index_std_count_up]) &\n",
    "        (df_plotly['std_count_down'] == df_plotly['std_count_down'].iloc[index_std_count_down]) &\n",
    "        (df_plotly['ma_count'] == df_plotly['ma_count'].iloc[index_ma_count])\n",
    "    ]['final_total_balance'].values[0]\n",
    "\n",
    "    index_std_count_up -= radius\n",
    "    index_std_count_down -= radius\n",
    "    index_ma_count -= radius\n",
    "\n",
    "    array_income = np.array([])\n",
    "    for i in range(2 * radius + 1):\n",
    "        for j in range(2 * radius + 1):\n",
    "            for k in range(2 * radius + 1):\n",
    "                if (\n",
    "                    (index_std_count_up + i >= 0) and\n",
    "                    (index_std_count_down + j >= 0) and\n",
    "                    (index_ma_count + k >= 0) and\n",
    "                    (index_std_count_up + i < len_std_counts_up) and\n",
    "                    (index_std_count_down + j < len_std_counts_down) and\n",
    "                    (index_ma_count + k < len_ma_counts)\n",
    "                ):\n",
    "                    # print(df_plotly['std_count_up'])\n",
    "                    # print(df_plotly['std_count_up'][index_std_count_up + i], df_plotly['std_count_down'][index_std_count_down + j], df_plotly['ma_count'][index_std_count_up + k])\n",
    "                    # print(df_plotly.loc[(df_plotly['std_count_up'] == df_plotly['std_count_up'][index_std_count_up + i]) & (df_plotly['std_count_down'] == df_plotly['std_count_down'][index_std_count_down + j]) & (df_plotly['ma_count'] == df_plotly['ma_count'][index_std_count_up + k])]['final_total_balance'].values[0])\n",
    "                    # Используем iloc для явного указания целочисленного индекса\n",
    "                    array_income = np.append(\n",
    "                        array_income,\n",
    "                        df_plotly.loc[\n",
    "                            (df_plotly['std_count_up'] == df_plotly['std_count_up'].iloc[index_std_count_up + i]) &\n",
    "                            (df_plotly['std_count_down'] == df_plotly['std_count_down'].iloc[index_std_count_down + j]) &\n",
    "                            (df_plotly['ma_count'] == df_plotly['ma_count'].iloc[index_ma_count + k])\n",
    "                        ]['final_total_balance'].values[0]\n",
    "                    )\n",
    "\n",
    "    std_of_income = statistics.stdev(array_income) if len(array_income) >= 2 else 0\n",
    "    Utility = Utility_fun(income, std_of_income)\n",
    "    # print(Utility) \n",
    "    return Utility\n",
    "\n",
    "\n",
    "radius = 2\n",
    "\n",
    "array_utility = []\n",
    "for index_std_count_up in range(len(std_counts_up)):\n",
    "    for index_std_count_down in range(len(std_counts_down)):\n",
    "        for index_ma_count in range(len(ma_counts)):\n",
    "            array_utility.append(Utility_assess(df_plotly, index_std_count_up, index_std_count_down, index_ma_count, len(std_counts_up), len(std_counts_down), len(ma_counts), radius))\n",
    "\n",
    "df_plotly['final_utility_balance'] = array_utility\n",
    "print(df_plotly)\n",
    "print(np.max(df_plotly['final_total_balance']), np.max(array_utility))\n"
   ]
  },
  {
   "cell_type": "code",
   "execution_count": 82,
   "metadata": {
    "execution": {
     "iopub.execute_input": "2023-12-01T22:14:49.098760Z",
     "iopub.status.busy": "2023-12-01T22:14:49.098760Z",
     "iopub.status.idle": "2023-12-01T22:14:49.138690Z",
     "shell.execute_reply": "2023-12-01T22:14:49.136692Z",
     "shell.execute_reply.started": "2023-12-01T22:14:49.098760Z"
    }
   },
   "outputs": [
    {
     "data": {
      "application/vnd.plotly.v1+json": {
       "config": {
        "plotlyServerURL": "https://plot.ly"
       },
       "data": [
        {
         "marker": {
          "color": [
           49.97828927437279,
           32.418243596521954,
           12.016463853025163,
           11.797362575922016,
           10.071052388899895,
           50.2179946748762,
           32.53381702404488,
           12.050553180672416,
           11.839421042925956,
           10.119355075554877,
           50.361270271804095,
           32.60296442835207,
           12.070960567316355,
           11.864584559183921,
           10.148226332727974,
           32.25182079454473,
           29.61033966407858,
           12.544850510649807,
           12.365729789619655,
           10.411335529518961,
           27.630924491684965,
           28.526182466431134,
           13.144249223154093,
           12.979898639251953,
           10.697770688328264,
           25.42752656919293,
           25.656134075510625,
           13.276724581751562,
           13.467499034938925,
           11.06415979785936,
           25.02012985028371,
           26.18849443758239,
           13.943462902714158,
           14.130270499942602,
           11.286826447133569,
           50.2179946748762,
           32.53381702404488,
           12.050553180672416,
           11.839421042925956,
           10.119355075554877,
           50.39702552676746,
           32.62022837683666,
           12.076057025456588,
           11.870867103738142,
           10.155431322157236,
           50.504139410681034,
           32.67196548845428,
           12.09133351103999,
           11.889694819143722,
           10.177015685130325,
           32.3433155054458,
           29.673007119711272,
           12.566023269192891,
           12.3919006755922,
           10.440871292489856,
           27.709310250566638,
           28.58655540690956,
           13.166433625813632,
           13.007369354931688,
           10.728119034942548,
           25.51817757532416,
           25.724277977937863,
           13.30482350118692,
           13.50326934770213,
           11.103604342925248,
           25.14013116152277,
           26.281858350244864,
           13.983018905315397,
           14.180645955622122,
           11.340960217880898,
           50.361270271804095,
           32.60296442835207,
           12.070960567316355,
           11.864584559183921,
           10.148226332727974,
           50.504139410681034,
           32.67196548845428,
           12.09133351103999,
           11.889694819143722,
           10.177015685130325,
           50.58966722709083,
           32.713296264610236,
           12.103540817037548,
           11.904735552316213,
           10.194250271033068,
           32.398088305911514,
           29.710544145623356,
           12.578709817875009,
           12.407576710544879,
           10.458552712933454,
           27.75623544972074,
           28.622718046803698,
           13.179726343611888,
           13.023823971700198,
           10.746286904070697,
           25.572413933163123,
           25.76507781004365,
           13.321654404185894,
           13.524686124598183,
           11.127203953699473,
           25.211857787054768,
           26.337717835897756,
           14.006698886555421,
           14.210785513439939,
           11.373316803512651,
           50.361270271804095,
           32.60296442835207,
           12.070960567316355,
           11.864584559183921,
           10.148226332727974,
           50.504139410681034,
           32.67196548845428,
           12.09133351103999,
           11.889694819143722,
           10.177015685130325,
           50.58966722709083,
           32.713296264610236,
           12.103540817037548,
           11.904735552316213,
           10.194250271033068,
           32.398088305911514,
           29.710544145623356,
           12.578709817875009,
           12.407576710544879,
           10.458552712933454,
           27.75623544972074,
           28.622718046803698,
           13.179726343611888,
           13.023823971700198,
           10.746286904070697,
           25.572413933163123,
           25.76507781004365,
           13.321654404185894,
           13.524686124598183,
           11.127203953699473,
           25.211857787054768,
           26.337717835897756,
           14.006698886555421,
           14.210785513439939,
           11.373316803512651,
           50.361270271804095,
           32.60296442835207,
           12.070960567316355,
           11.864584559183921,
           10.148226332727974,
           50.504139410681034,
           32.67196548845428,
           12.09133351103999,
           11.889694819143722,
           10.177015685130325,
           50.58966722709083,
           32.713296264610236,
           12.103540817037548,
           11.904735552316213,
           10.194250271033068,
           32.398088305911514,
           29.710544145623356,
           12.578709817875009,
           12.407576710544879,
           10.458552712933454,
           27.75623544972074,
           28.622718046803698,
           13.179726343611888,
           13.023823971700198,
           10.746286904070697,
           25.572413933163123,
           25.76507781004365,
           13.321654404185894,
           13.524686124598183,
           11.127203953699473,
           25.211857787054768,
           26.337717835897756,
           14.006698886555421,
           14.210785513439939,
           11.373316803512651,
           50.2179946748762,
           32.53381702404488,
           12.050553180672416,
           11.839421042925956,
           10.119355075554877,
           50.39702552676746,
           32.62022837683666,
           12.076057025456588,
           11.870867103738142,
           10.155431322157236,
           50.504139410681034,
           32.67196548845428,
           12.09133351103999,
           11.889694819143722,
           10.177015685130325,
           32.3433155054458,
           29.673007119711272,
           12.566023269192891,
           12.3919006755922,
           10.440871292489856,
           27.709310250566638,
           28.58655540690956,
           13.166433625813632,
           13.007369354931688,
           10.728119034942548,
           25.51817757532416,
           25.724277977937863,
           13.30482350118692,
           13.50326934770213,
           11.103604342925248,
           25.14013116152277,
           26.281858350244864,
           13.983018905315397,
           14.180645955622122,
           11.340960217880898,
           49.97828927437279,
           32.418243596521954,
           12.016463853025163,
           11.797362575922016,
           10.071052388899895,
           50.2179946748762,
           32.53381702404488,
           12.050553180672416,
           11.839421042925956,
           10.119355075554877,
           50.361270271804095,
           32.60296442835207,
           12.070960567316355,
           11.864584559183921,
           10.148226332727974,
           32.25182079454473,
           29.61033966407858,
           12.544850510649807,
           12.365729789619655,
           10.411335529518961,
           27.630924491684965,
           28.526182466431134,
           13.144249223154093,
           12.979898639251953,
           10.697770688328264,
           25.42752656919293,
           25.656134075510625,
           13.276724581751562,
           13.467499034938925,
           11.06415979785936,
           25.02012985028371,
           26.18849443758239,
           13.943462902714158,
           14.130270499942602,
           11.286826447133569
          ],
          "colorbar": {
           "title": {
            "text": "Final Total Balance"
           }
          },
          "colorscale": [
           [
            0,
            "#440154"
           ],
           [
            0.1111111111111111,
            "#482878"
           ],
           [
            0.2222222222222222,
            "#3e4989"
           ],
           [
            0.3333333333333333,
            "#31688e"
           ],
           [
            0.4444444444444444,
            "#26828e"
           ],
           [
            0.5555555555555556,
            "#1f9e89"
           ],
           [
            0.6666666666666666,
            "#35b779"
           ],
           [
            0.7777777777777778,
            "#6ece58"
           ],
           [
            0.8888888888888888,
            "#b5de2b"
           ],
           [
            1,
            "#fde725"
           ]
          ],
          "size": 4
         },
         "mode": "markers",
         "text": [
          " final_utility_balance: 49.97828927437279",
          " final_utility_balance: 32.418243596521954",
          " final_utility_balance: 12.016463853025163",
          " final_utility_balance: 11.797362575922016",
          " final_utility_balance: 10.071052388899895",
          " final_utility_balance: 50.2179946748762",
          " final_utility_balance: 32.53381702404488",
          " final_utility_balance: 12.050553180672416",
          " final_utility_balance: 11.839421042925956",
          " final_utility_balance: 10.119355075554877",
          " final_utility_balance: 50.361270271804095",
          " final_utility_balance: 32.60296442835207",
          " final_utility_balance: 12.070960567316355",
          " final_utility_balance: 11.864584559183921",
          " final_utility_balance: 10.148226332727974",
          " final_utility_balance: 32.25182079454473",
          " final_utility_balance: 29.61033966407858",
          " final_utility_balance: 12.544850510649807",
          " final_utility_balance: 12.365729789619655",
          " final_utility_balance: 10.411335529518961",
          " final_utility_balance: 27.630924491684965",
          " final_utility_balance: 28.526182466431134",
          " final_utility_balance: 13.144249223154093",
          " final_utility_balance: 12.979898639251953",
          " final_utility_balance: 10.697770688328264",
          " final_utility_balance: 25.42752656919293",
          " final_utility_balance: 25.656134075510625",
          " final_utility_balance: 13.276724581751562",
          " final_utility_balance: 13.467499034938925",
          " final_utility_balance: 11.06415979785936",
          " final_utility_balance: 25.02012985028371",
          " final_utility_balance: 26.18849443758239",
          " final_utility_balance: 13.943462902714158",
          " final_utility_balance: 14.130270499942602",
          " final_utility_balance: 11.286826447133569",
          " final_utility_balance: 50.2179946748762",
          " final_utility_balance: 32.53381702404488",
          " final_utility_balance: 12.050553180672416",
          " final_utility_balance: 11.839421042925956",
          " final_utility_balance: 10.119355075554877",
          " final_utility_balance: 50.39702552676746",
          " final_utility_balance: 32.62022837683666",
          " final_utility_balance: 12.076057025456588",
          " final_utility_balance: 11.870867103738142",
          " final_utility_balance: 10.155431322157236",
          " final_utility_balance: 50.504139410681034",
          " final_utility_balance: 32.67196548845428",
          " final_utility_balance: 12.09133351103999",
          " final_utility_balance: 11.889694819143722",
          " final_utility_balance: 10.177015685130325",
          " final_utility_balance: 32.3433155054458",
          " final_utility_balance: 29.673007119711272",
          " final_utility_balance: 12.566023269192891",
          " final_utility_balance: 12.3919006755922",
          " final_utility_balance: 10.440871292489856",
          " final_utility_balance: 27.709310250566638",
          " final_utility_balance: 28.58655540690956",
          " final_utility_balance: 13.166433625813632",
          " final_utility_balance: 13.007369354931688",
          " final_utility_balance: 10.728119034942548",
          " final_utility_balance: 25.51817757532416",
          " final_utility_balance: 25.724277977937863",
          " final_utility_balance: 13.30482350118692",
          " final_utility_balance: 13.50326934770213",
          " final_utility_balance: 11.103604342925248",
          " final_utility_balance: 25.14013116152277",
          " final_utility_balance: 26.281858350244864",
          " final_utility_balance: 13.983018905315397",
          " final_utility_balance: 14.180645955622122",
          " final_utility_balance: 11.340960217880898",
          " final_utility_balance: 50.361270271804095",
          " final_utility_balance: 32.60296442835207",
          " final_utility_balance: 12.070960567316355",
          " final_utility_balance: 11.864584559183921",
          " final_utility_balance: 10.148226332727974",
          " final_utility_balance: 50.504139410681034",
          " final_utility_balance: 32.67196548845428",
          " final_utility_balance: 12.09133351103999",
          " final_utility_balance: 11.889694819143722",
          " final_utility_balance: 10.177015685130325",
          " final_utility_balance: 50.58966722709083",
          " final_utility_balance: 32.713296264610236",
          " final_utility_balance: 12.103540817037548",
          " final_utility_balance: 11.904735552316213",
          " final_utility_balance: 10.194250271033068",
          " final_utility_balance: 32.398088305911514",
          " final_utility_balance: 29.710544145623356",
          " final_utility_balance: 12.578709817875009",
          " final_utility_balance: 12.407576710544879",
          " final_utility_balance: 10.458552712933454",
          " final_utility_balance: 27.75623544972074",
          " final_utility_balance: 28.622718046803698",
          " final_utility_balance: 13.179726343611888",
          " final_utility_balance: 13.023823971700198",
          " final_utility_balance: 10.746286904070697",
          " final_utility_balance: 25.572413933163123",
          " final_utility_balance: 25.76507781004365",
          " final_utility_balance: 13.321654404185894",
          " final_utility_balance: 13.524686124598183",
          " final_utility_balance: 11.127203953699473",
          " final_utility_balance: 25.211857787054768",
          " final_utility_balance: 26.337717835897756",
          " final_utility_balance: 14.006698886555421",
          " final_utility_balance: 14.210785513439939",
          " final_utility_balance: 11.373316803512651",
          " final_utility_balance: 50.361270271804095",
          " final_utility_balance: 32.60296442835207",
          " final_utility_balance: 12.070960567316355",
          " final_utility_balance: 11.864584559183921",
          " final_utility_balance: 10.148226332727974",
          " final_utility_balance: 50.504139410681034",
          " final_utility_balance: 32.67196548845428",
          " final_utility_balance: 12.09133351103999",
          " final_utility_balance: 11.889694819143722",
          " final_utility_balance: 10.177015685130325",
          " final_utility_balance: 50.58966722709083",
          " final_utility_balance: 32.713296264610236",
          " final_utility_balance: 12.103540817037548",
          " final_utility_balance: 11.904735552316213",
          " final_utility_balance: 10.194250271033068",
          " final_utility_balance: 32.398088305911514",
          " final_utility_balance: 29.710544145623356",
          " final_utility_balance: 12.578709817875009",
          " final_utility_balance: 12.407576710544879",
          " final_utility_balance: 10.458552712933454",
          " final_utility_balance: 27.75623544972074",
          " final_utility_balance: 28.622718046803698",
          " final_utility_balance: 13.179726343611888",
          " final_utility_balance: 13.023823971700198",
          " final_utility_balance: 10.746286904070697",
          " final_utility_balance: 25.572413933163123",
          " final_utility_balance: 25.76507781004365",
          " final_utility_balance: 13.321654404185894",
          " final_utility_balance: 13.524686124598183",
          " final_utility_balance: 11.127203953699473",
          " final_utility_balance: 25.211857787054768",
          " final_utility_balance: 26.337717835897756",
          " final_utility_balance: 14.006698886555421",
          " final_utility_balance: 14.210785513439939",
          " final_utility_balance: 11.373316803512651",
          " final_utility_balance: 50.361270271804095",
          " final_utility_balance: 32.60296442835207",
          " final_utility_balance: 12.070960567316355",
          " final_utility_balance: 11.864584559183921",
          " final_utility_balance: 10.148226332727974",
          " final_utility_balance: 50.504139410681034",
          " final_utility_balance: 32.67196548845428",
          " final_utility_balance: 12.09133351103999",
          " final_utility_balance: 11.889694819143722",
          " final_utility_balance: 10.177015685130325",
          " final_utility_balance: 50.58966722709083",
          " final_utility_balance: 32.713296264610236",
          " final_utility_balance: 12.103540817037548",
          " final_utility_balance: 11.904735552316213",
          " final_utility_balance: 10.194250271033068",
          " final_utility_balance: 32.398088305911514",
          " final_utility_balance: 29.710544145623356",
          " final_utility_balance: 12.578709817875009",
          " final_utility_balance: 12.407576710544879",
          " final_utility_balance: 10.458552712933454",
          " final_utility_balance: 27.75623544972074",
          " final_utility_balance: 28.622718046803698",
          " final_utility_balance: 13.179726343611888",
          " final_utility_balance: 13.023823971700198",
          " final_utility_balance: 10.746286904070697",
          " final_utility_balance: 25.572413933163123",
          " final_utility_balance: 25.76507781004365",
          " final_utility_balance: 13.321654404185894",
          " final_utility_balance: 13.524686124598183",
          " final_utility_balance: 11.127203953699473",
          " final_utility_balance: 25.211857787054768",
          " final_utility_balance: 26.337717835897756",
          " final_utility_balance: 14.006698886555421",
          " final_utility_balance: 14.210785513439939",
          " final_utility_balance: 11.373316803512651",
          " final_utility_balance: 50.2179946748762",
          " final_utility_balance: 32.53381702404488",
          " final_utility_balance: 12.050553180672416",
          " final_utility_balance: 11.839421042925956",
          " final_utility_balance: 10.119355075554877",
          " final_utility_balance: 50.39702552676746",
          " final_utility_balance: 32.62022837683666",
          " final_utility_balance: 12.076057025456588",
          " final_utility_balance: 11.870867103738142",
          " final_utility_balance: 10.155431322157236",
          " final_utility_balance: 50.504139410681034",
          " final_utility_balance: 32.67196548845428",
          " final_utility_balance: 12.09133351103999",
          " final_utility_balance: 11.889694819143722",
          " final_utility_balance: 10.177015685130325",
          " final_utility_balance: 32.3433155054458",
          " final_utility_balance: 29.673007119711272",
          " final_utility_balance: 12.566023269192891",
          " final_utility_balance: 12.3919006755922",
          " final_utility_balance: 10.440871292489856",
          " final_utility_balance: 27.709310250566638",
          " final_utility_balance: 28.58655540690956",
          " final_utility_balance: 13.166433625813632",
          " final_utility_balance: 13.007369354931688",
          " final_utility_balance: 10.728119034942548",
          " final_utility_balance: 25.51817757532416",
          " final_utility_balance: 25.724277977937863",
          " final_utility_balance: 13.30482350118692",
          " final_utility_balance: 13.50326934770213",
          " final_utility_balance: 11.103604342925248",
          " final_utility_balance: 25.14013116152277",
          " final_utility_balance: 26.281858350244864",
          " final_utility_balance: 13.983018905315397",
          " final_utility_balance: 14.180645955622122",
          " final_utility_balance: 11.340960217880898",
          " final_utility_balance: 49.97828927437279",
          " final_utility_balance: 32.418243596521954",
          " final_utility_balance: 12.016463853025163",
          " final_utility_balance: 11.797362575922016",
          " final_utility_balance: 10.071052388899895",
          " final_utility_balance: 50.2179946748762",
          " final_utility_balance: 32.53381702404488",
          " final_utility_balance: 12.050553180672416",
          " final_utility_balance: 11.839421042925956",
          " final_utility_balance: 10.119355075554877",
          " final_utility_balance: 50.361270271804095",
          " final_utility_balance: 32.60296442835207",
          " final_utility_balance: 12.070960567316355",
          " final_utility_balance: 11.864584559183921",
          " final_utility_balance: 10.148226332727974",
          " final_utility_balance: 32.25182079454473",
          " final_utility_balance: 29.61033966407858",
          " final_utility_balance: 12.544850510649807",
          " final_utility_balance: 12.365729789619655",
          " final_utility_balance: 10.411335529518961",
          " final_utility_balance: 27.630924491684965",
          " final_utility_balance: 28.526182466431134",
          " final_utility_balance: 13.144249223154093",
          " final_utility_balance: 12.979898639251953",
          " final_utility_balance: 10.697770688328264",
          " final_utility_balance: 25.42752656919293",
          " final_utility_balance: 25.656134075510625",
          " final_utility_balance: 13.276724581751562",
          " final_utility_balance: 13.467499034938925",
          " final_utility_balance: 11.06415979785936",
          " final_utility_balance: 25.02012985028371",
          " final_utility_balance: 26.18849443758239",
          " final_utility_balance: 13.943462902714158",
          " final_utility_balance: 14.130270499942602",
          " final_utility_balance: 11.286826447133569"
         ],
         "type": "scatter3d",
         "x": [
          0.25,
          0.25,
          0.25,
          0.25,
          0.25,
          0.25,
          0.25,
          0.25,
          0.25,
          0.25,
          0.25,
          0.25,
          0.25,
          0.25,
          0.25,
          0.25,
          0.25,
          0.25,
          0.25,
          0.25,
          0.25,
          0.25,
          0.25,
          0.25,
          0.25,
          0.25,
          0.25,
          0.25,
          0.25,
          0.25,
          0.25,
          0.25,
          0.25,
          0.25,
          0.25,
          0.5,
          0.5,
          0.5,
          0.5,
          0.5,
          0.5,
          0.5,
          0.5,
          0.5,
          0.5,
          0.5,
          0.5,
          0.5,
          0.5,
          0.5,
          0.5,
          0.5,
          0.5,
          0.5,
          0.5,
          0.5,
          0.5,
          0.5,
          0.5,
          0.5,
          0.5,
          0.5,
          0.5,
          0.5,
          0.5,
          0.5,
          0.5,
          0.5,
          0.5,
          0.5,
          0.75,
          0.75,
          0.75,
          0.75,
          0.75,
          0.75,
          0.75,
          0.75,
          0.75,
          0.75,
          0.75,
          0.75,
          0.75,
          0.75,
          0.75,
          0.75,
          0.75,
          0.75,
          0.75,
          0.75,
          0.75,
          0.75,
          0.75,
          0.75,
          0.75,
          0.75,
          0.75,
          0.75,
          0.75,
          0.75,
          0.75,
          0.75,
          0.75,
          0.75,
          0.75,
          1,
          1,
          1,
          1,
          1,
          1,
          1,
          1,
          1,
          1,
          1,
          1,
          1,
          1,
          1,
          1,
          1,
          1,
          1,
          1,
          1,
          1,
          1,
          1,
          1,
          1,
          1,
          1,
          1,
          1,
          1,
          1,
          1,
          1,
          1,
          1.25,
          1.25,
          1.25,
          1.25,
          1.25,
          1.25,
          1.25,
          1.25,
          1.25,
          1.25,
          1.25,
          1.25,
          1.25,
          1.25,
          1.25,
          1.25,
          1.25,
          1.25,
          1.25,
          1.25,
          1.25,
          1.25,
          1.25,
          1.25,
          1.25,
          1.25,
          1.25,
          1.25,
          1.25,
          1.25,
          1.25,
          1.25,
          1.25,
          1.25,
          1.25,
          1.5,
          1.5,
          1.5,
          1.5,
          1.5,
          1.5,
          1.5,
          1.5,
          1.5,
          1.5,
          1.5,
          1.5,
          1.5,
          1.5,
          1.5,
          1.5,
          1.5,
          1.5,
          1.5,
          1.5,
          1.5,
          1.5,
          1.5,
          1.5,
          1.5,
          1.5,
          1.5,
          1.5,
          1.5,
          1.5,
          1.5,
          1.5,
          1.5,
          1.5,
          1.5,
          1.75,
          1.75,
          1.75,
          1.75,
          1.75,
          1.75,
          1.75,
          1.75,
          1.75,
          1.75,
          1.75,
          1.75,
          1.75,
          1.75,
          1.75,
          1.75,
          1.75,
          1.75,
          1.75,
          1.75,
          1.75,
          1.75,
          1.75,
          1.75,
          1.75,
          1.75,
          1.75,
          1.75,
          1.75,
          1.75,
          1.75,
          1.75,
          1.75,
          1.75,
          1.75
         ],
         "y": [
          0.25,
          0.25,
          0.25,
          0.25,
          0.25,
          0.5,
          0.5,
          0.5,
          0.5,
          0.5,
          0.75,
          0.75,
          0.75,
          0.75,
          0.75,
          1,
          1,
          1,
          1,
          1,
          1.25,
          1.25,
          1.25,
          1.25,
          1.25,
          1.5,
          1.5,
          1.5,
          1.5,
          1.5,
          1.75,
          1.75,
          1.75,
          1.75,
          1.75,
          0.25,
          0.25,
          0.25,
          0.25,
          0.25,
          0.5,
          0.5,
          0.5,
          0.5,
          0.5,
          0.75,
          0.75,
          0.75,
          0.75,
          0.75,
          1,
          1,
          1,
          1,
          1,
          1.25,
          1.25,
          1.25,
          1.25,
          1.25,
          1.5,
          1.5,
          1.5,
          1.5,
          1.5,
          1.75,
          1.75,
          1.75,
          1.75,
          1.75,
          0.25,
          0.25,
          0.25,
          0.25,
          0.25,
          0.5,
          0.5,
          0.5,
          0.5,
          0.5,
          0.75,
          0.75,
          0.75,
          0.75,
          0.75,
          1,
          1,
          1,
          1,
          1,
          1.25,
          1.25,
          1.25,
          1.25,
          1.25,
          1.5,
          1.5,
          1.5,
          1.5,
          1.5,
          1.75,
          1.75,
          1.75,
          1.75,
          1.75,
          0.25,
          0.25,
          0.25,
          0.25,
          0.25,
          0.5,
          0.5,
          0.5,
          0.5,
          0.5,
          0.75,
          0.75,
          0.75,
          0.75,
          0.75,
          1,
          1,
          1,
          1,
          1,
          1.25,
          1.25,
          1.25,
          1.25,
          1.25,
          1.5,
          1.5,
          1.5,
          1.5,
          1.5,
          1.75,
          1.75,
          1.75,
          1.75,
          1.75,
          0.25,
          0.25,
          0.25,
          0.25,
          0.25,
          0.5,
          0.5,
          0.5,
          0.5,
          0.5,
          0.75,
          0.75,
          0.75,
          0.75,
          0.75,
          1,
          1,
          1,
          1,
          1,
          1.25,
          1.25,
          1.25,
          1.25,
          1.25,
          1.5,
          1.5,
          1.5,
          1.5,
          1.5,
          1.75,
          1.75,
          1.75,
          1.75,
          1.75,
          0.25,
          0.25,
          0.25,
          0.25,
          0.25,
          0.5,
          0.5,
          0.5,
          0.5,
          0.5,
          0.75,
          0.75,
          0.75,
          0.75,
          0.75,
          1,
          1,
          1,
          1,
          1,
          1.25,
          1.25,
          1.25,
          1.25,
          1.25,
          1.5,
          1.5,
          1.5,
          1.5,
          1.5,
          1.75,
          1.75,
          1.75,
          1.75,
          1.75,
          0.25,
          0.25,
          0.25,
          0.25,
          0.25,
          0.5,
          0.5,
          0.5,
          0.5,
          0.5,
          0.75,
          0.75,
          0.75,
          0.75,
          0.75,
          1,
          1,
          1,
          1,
          1,
          1.25,
          1.25,
          1.25,
          1.25,
          1.25,
          1.5,
          1.5,
          1.5,
          1.5,
          1.5,
          1.75,
          1.75,
          1.75,
          1.75,
          1.75
         ],
         "z": [
          500,
          1000,
          1500,
          2000,
          2500,
          500,
          1000,
          1500,
          2000,
          2500,
          500,
          1000,
          1500,
          2000,
          2500,
          500,
          1000,
          1500,
          2000,
          2500,
          500,
          1000,
          1500,
          2000,
          2500,
          500,
          1000,
          1500,
          2000,
          2500,
          500,
          1000,
          1500,
          2000,
          2500,
          500,
          1000,
          1500,
          2000,
          2500,
          500,
          1000,
          1500,
          2000,
          2500,
          500,
          1000,
          1500,
          2000,
          2500,
          500,
          1000,
          1500,
          2000,
          2500,
          500,
          1000,
          1500,
          2000,
          2500,
          500,
          1000,
          1500,
          2000,
          2500,
          500,
          1000,
          1500,
          2000,
          2500,
          500,
          1000,
          1500,
          2000,
          2500,
          500,
          1000,
          1500,
          2000,
          2500,
          500,
          1000,
          1500,
          2000,
          2500,
          500,
          1000,
          1500,
          2000,
          2500,
          500,
          1000,
          1500,
          2000,
          2500,
          500,
          1000,
          1500,
          2000,
          2500,
          500,
          1000,
          1500,
          2000,
          2500,
          500,
          1000,
          1500,
          2000,
          2500,
          500,
          1000,
          1500,
          2000,
          2500,
          500,
          1000,
          1500,
          2000,
          2500,
          500,
          1000,
          1500,
          2000,
          2500,
          500,
          1000,
          1500,
          2000,
          2500,
          500,
          1000,
          1500,
          2000,
          2500,
          500,
          1000,
          1500,
          2000,
          2500,
          500,
          1000,
          1500,
          2000,
          2500,
          500,
          1000,
          1500,
          2000,
          2500,
          500,
          1000,
          1500,
          2000,
          2500,
          500,
          1000,
          1500,
          2000,
          2500,
          500,
          1000,
          1500,
          2000,
          2500,
          500,
          1000,
          1500,
          2000,
          2500,
          500,
          1000,
          1500,
          2000,
          2500,
          500,
          1000,
          1500,
          2000,
          2500,
          500,
          1000,
          1500,
          2000,
          2500,
          500,
          1000,
          1500,
          2000,
          2500,
          500,
          1000,
          1500,
          2000,
          2500,
          500,
          1000,
          1500,
          2000,
          2500,
          500,
          1000,
          1500,
          2000,
          2500,
          500,
          1000,
          1500,
          2000,
          2500,
          500,
          1000,
          1500,
          2000,
          2500,
          500,
          1000,
          1500,
          2000,
          2500,
          500,
          1000,
          1500,
          2000,
          2500,
          500,
          1000,
          1500,
          2000,
          2500,
          500,
          1000,
          1500,
          2000,
          2500,
          500,
          1000,
          1500,
          2000,
          2500,
          500,
          1000,
          1500,
          2000,
          2500
         ]
        }
       ],
       "layout": {
        "autosize": true,
        "scene": {
         "aspectmode": "auto",
         "aspectratio": {
          "x": 1,
          "y": 1,
          "z": 1
         },
         "domain": {
          "x": [
           0,
           1
          ],
          "y": [
           0,
           1
          ]
         },
         "xaxis": {
          "title": {
           "text": "std_count_up"
          },
          "type": "linear"
         },
         "yaxis": {
          "title": {
           "text": "std_count_down"
          },
          "type": "linear"
         },
         "zaxis": {
          "title": {
           "text": "ma_count"
          },
          "type": "linear"
         }
        },
        "template": {
         "data": {
          "bar": [
           {
            "error_x": {
             "color": "#2a3f5f"
            },
            "error_y": {
             "color": "#2a3f5f"
            },
            "marker": {
             "line": {
              "color": "#E5ECF6",
              "width": 0.5
             },
             "pattern": {
              "fillmode": "overlay",
              "size": 10,
              "solidity": 0.2
             }
            },
            "type": "bar"
           }
          ],
          "barpolar": [
           {
            "marker": {
             "line": {
              "color": "#E5ECF6",
              "width": 0.5
             },
             "pattern": {
              "fillmode": "overlay",
              "size": 10,
              "solidity": 0.2
             }
            },
            "type": "barpolar"
           }
          ],
          "carpet": [
           {
            "aaxis": {
             "endlinecolor": "#2a3f5f",
             "gridcolor": "white",
             "linecolor": "white",
             "minorgridcolor": "white",
             "startlinecolor": "#2a3f5f"
            },
            "baxis": {
             "endlinecolor": "#2a3f5f",
             "gridcolor": "white",
             "linecolor": "white",
             "minorgridcolor": "white",
             "startlinecolor": "#2a3f5f"
            },
            "type": "carpet"
           }
          ],
          "choropleth": [
           {
            "colorbar": {
             "outlinewidth": 0,
             "ticks": ""
            },
            "type": "choropleth"
           }
          ],
          "contour": [
           {
            "colorbar": {
             "outlinewidth": 0,
             "ticks": ""
            },
            "colorscale": [
             [
              0,
              "#0d0887"
             ],
             [
              0.1111111111111111,
              "#46039f"
             ],
             [
              0.2222222222222222,
              "#7201a8"
             ],
             [
              0.3333333333333333,
              "#9c179e"
             ],
             [
              0.4444444444444444,
              "#bd3786"
             ],
             [
              0.5555555555555556,
              "#d8576b"
             ],
             [
              0.6666666666666666,
              "#ed7953"
             ],
             [
              0.7777777777777778,
              "#fb9f3a"
             ],
             [
              0.8888888888888888,
              "#fdca26"
             ],
             [
              1,
              "#f0f921"
             ]
            ],
            "type": "contour"
           }
          ],
          "contourcarpet": [
           {
            "colorbar": {
             "outlinewidth": 0,
             "ticks": ""
            },
            "type": "contourcarpet"
           }
          ],
          "heatmap": [
           {
            "colorbar": {
             "outlinewidth": 0,
             "ticks": ""
            },
            "colorscale": [
             [
              0,
              "#0d0887"
             ],
             [
              0.1111111111111111,
              "#46039f"
             ],
             [
              0.2222222222222222,
              "#7201a8"
             ],
             [
              0.3333333333333333,
              "#9c179e"
             ],
             [
              0.4444444444444444,
              "#bd3786"
             ],
             [
              0.5555555555555556,
              "#d8576b"
             ],
             [
              0.6666666666666666,
              "#ed7953"
             ],
             [
              0.7777777777777778,
              "#fb9f3a"
             ],
             [
              0.8888888888888888,
              "#fdca26"
             ],
             [
              1,
              "#f0f921"
             ]
            ],
            "type": "heatmap"
           }
          ],
          "heatmapgl": [
           {
            "colorbar": {
             "outlinewidth": 0,
             "ticks": ""
            },
            "colorscale": [
             [
              0,
              "#0d0887"
             ],
             [
              0.1111111111111111,
              "#46039f"
             ],
             [
              0.2222222222222222,
              "#7201a8"
             ],
             [
              0.3333333333333333,
              "#9c179e"
             ],
             [
              0.4444444444444444,
              "#bd3786"
             ],
             [
              0.5555555555555556,
              "#d8576b"
             ],
             [
              0.6666666666666666,
              "#ed7953"
             ],
             [
              0.7777777777777778,
              "#fb9f3a"
             ],
             [
              0.8888888888888888,
              "#fdca26"
             ],
             [
              1,
              "#f0f921"
             ]
            ],
            "type": "heatmapgl"
           }
          ],
          "histogram": [
           {
            "marker": {
             "pattern": {
              "fillmode": "overlay",
              "size": 10,
              "solidity": 0.2
             }
            },
            "type": "histogram"
           }
          ],
          "histogram2d": [
           {
            "colorbar": {
             "outlinewidth": 0,
             "ticks": ""
            },
            "colorscale": [
             [
              0,
              "#0d0887"
             ],
             [
              0.1111111111111111,
              "#46039f"
             ],
             [
              0.2222222222222222,
              "#7201a8"
             ],
             [
              0.3333333333333333,
              "#9c179e"
             ],
             [
              0.4444444444444444,
              "#bd3786"
             ],
             [
              0.5555555555555556,
              "#d8576b"
             ],
             [
              0.6666666666666666,
              "#ed7953"
             ],
             [
              0.7777777777777778,
              "#fb9f3a"
             ],
             [
              0.8888888888888888,
              "#fdca26"
             ],
             [
              1,
              "#f0f921"
             ]
            ],
            "type": "histogram2d"
           }
          ],
          "histogram2dcontour": [
           {
            "colorbar": {
             "outlinewidth": 0,
             "ticks": ""
            },
            "colorscale": [
             [
              0,
              "#0d0887"
             ],
             [
              0.1111111111111111,
              "#46039f"
             ],
             [
              0.2222222222222222,
              "#7201a8"
             ],
             [
              0.3333333333333333,
              "#9c179e"
             ],
             [
              0.4444444444444444,
              "#bd3786"
             ],
             [
              0.5555555555555556,
              "#d8576b"
             ],
             [
              0.6666666666666666,
              "#ed7953"
             ],
             [
              0.7777777777777778,
              "#fb9f3a"
             ],
             [
              0.8888888888888888,
              "#fdca26"
             ],
             [
              1,
              "#f0f921"
             ]
            ],
            "type": "histogram2dcontour"
           }
          ],
          "mesh3d": [
           {
            "colorbar": {
             "outlinewidth": 0,
             "ticks": ""
            },
            "type": "mesh3d"
           }
          ],
          "parcoords": [
           {
            "line": {
             "colorbar": {
              "outlinewidth": 0,
              "ticks": ""
             }
            },
            "type": "parcoords"
           }
          ],
          "pie": [
           {
            "automargin": true,
            "type": "pie"
           }
          ],
          "scatter": [
           {
            "fillpattern": {
             "fillmode": "overlay",
             "size": 10,
             "solidity": 0.2
            },
            "type": "scatter"
           }
          ],
          "scatter3d": [
           {
            "line": {
             "colorbar": {
              "outlinewidth": 0,
              "ticks": ""
             }
            },
            "marker": {
             "colorbar": {
              "outlinewidth": 0,
              "ticks": ""
             }
            },
            "type": "scatter3d"
           }
          ],
          "scattercarpet": [
           {
            "marker": {
             "colorbar": {
              "outlinewidth": 0,
              "ticks": ""
             }
            },
            "type": "scattercarpet"
           }
          ],
          "scattergeo": [
           {
            "marker": {
             "colorbar": {
              "outlinewidth": 0,
              "ticks": ""
             }
            },
            "type": "scattergeo"
           }
          ],
          "scattergl": [
           {
            "marker": {
             "colorbar": {
              "outlinewidth": 0,
              "ticks": ""
             }
            },
            "type": "scattergl"
           }
          ],
          "scattermapbox": [
           {
            "marker": {
             "colorbar": {
              "outlinewidth": 0,
              "ticks": ""
             }
            },
            "type": "scattermapbox"
           }
          ],
          "scatterpolar": [
           {
            "marker": {
             "colorbar": {
              "outlinewidth": 0,
              "ticks": ""
             }
            },
            "type": "scatterpolar"
           }
          ],
          "scatterpolargl": [
           {
            "marker": {
             "colorbar": {
              "outlinewidth": 0,
              "ticks": ""
             }
            },
            "type": "scatterpolargl"
           }
          ],
          "scatterternary": [
           {
            "marker": {
             "colorbar": {
              "outlinewidth": 0,
              "ticks": ""
             }
            },
            "type": "scatterternary"
           }
          ],
          "surface": [
           {
            "colorbar": {
             "outlinewidth": 0,
             "ticks": ""
            },
            "colorscale": [
             [
              0,
              "#0d0887"
             ],
             [
              0.1111111111111111,
              "#46039f"
             ],
             [
              0.2222222222222222,
              "#7201a8"
             ],
             [
              0.3333333333333333,
              "#9c179e"
             ],
             [
              0.4444444444444444,
              "#bd3786"
             ],
             [
              0.5555555555555556,
              "#d8576b"
             ],
             [
              0.6666666666666666,
              "#ed7953"
             ],
             [
              0.7777777777777778,
              "#fb9f3a"
             ],
             [
              0.8888888888888888,
              "#fdca26"
             ],
             [
              1,
              "#f0f921"
             ]
            ],
            "type": "surface"
           }
          ],
          "table": [
           {
            "cells": {
             "fill": {
              "color": "#EBF0F8"
             },
             "line": {
              "color": "white"
             }
            },
            "header": {
             "fill": {
              "color": "#C8D4E3"
             },
             "line": {
              "color": "white"
             }
            },
            "type": "table"
           }
          ]
         },
         "layout": {
          "annotationdefaults": {
           "arrowcolor": "#2a3f5f",
           "arrowhead": 0,
           "arrowwidth": 1
          },
          "autotypenumbers": "strict",
          "coloraxis": {
           "colorbar": {
            "outlinewidth": 0,
            "ticks": ""
           }
          },
          "colorscale": {
           "diverging": [
            [
             0,
             "#8e0152"
            ],
            [
             0.1,
             "#c51b7d"
            ],
            [
             0.2,
             "#de77ae"
            ],
            [
             0.3,
             "#f1b6da"
            ],
            [
             0.4,
             "#fde0ef"
            ],
            [
             0.5,
             "#f7f7f7"
            ],
            [
             0.6,
             "#e6f5d0"
            ],
            [
             0.7,
             "#b8e186"
            ],
            [
             0.8,
             "#7fbc41"
            ],
            [
             0.9,
             "#4d9221"
            ],
            [
             1,
             "#276419"
            ]
           ],
           "sequential": [
            [
             0,
             "#0d0887"
            ],
            [
             0.1111111111111111,
             "#46039f"
            ],
            [
             0.2222222222222222,
             "#7201a8"
            ],
            [
             0.3333333333333333,
             "#9c179e"
            ],
            [
             0.4444444444444444,
             "#bd3786"
            ],
            [
             0.5555555555555556,
             "#d8576b"
            ],
            [
             0.6666666666666666,
             "#ed7953"
            ],
            [
             0.7777777777777778,
             "#fb9f3a"
            ],
            [
             0.8888888888888888,
             "#fdca26"
            ],
            [
             1,
             "#f0f921"
            ]
           ],
           "sequentialminus": [
            [
             0,
             "#0d0887"
            ],
            [
             0.1111111111111111,
             "#46039f"
            ],
            [
             0.2222222222222222,
             "#7201a8"
            ],
            [
             0.3333333333333333,
             "#9c179e"
            ],
            [
             0.4444444444444444,
             "#bd3786"
            ],
            [
             0.5555555555555556,
             "#d8576b"
            ],
            [
             0.6666666666666666,
             "#ed7953"
            ],
            [
             0.7777777777777778,
             "#fb9f3a"
            ],
            [
             0.8888888888888888,
             "#fdca26"
            ],
            [
             1,
             "#f0f921"
            ]
           ]
          },
          "colorway": [
           "#636efa",
           "#EF553B",
           "#00cc96",
           "#ab63fa",
           "#FFA15A",
           "#19d3f3",
           "#FF6692",
           "#B6E880",
           "#FF97FF",
           "#FECB52"
          ],
          "font": {
           "color": "#2a3f5f"
          },
          "geo": {
           "bgcolor": "white",
           "lakecolor": "white",
           "landcolor": "#E5ECF6",
           "showlakes": true,
           "showland": true,
           "subunitcolor": "white"
          },
          "hoverlabel": {
           "align": "left"
          },
          "hovermode": "closest",
          "mapbox": {
           "style": "light"
          },
          "paper_bgcolor": "white",
          "plot_bgcolor": "#E5ECF6",
          "polar": {
           "angularaxis": {
            "gridcolor": "white",
            "linecolor": "white",
            "ticks": ""
           },
           "bgcolor": "#E5ECF6",
           "radialaxis": {
            "gridcolor": "white",
            "linecolor": "white",
            "ticks": ""
           }
          },
          "scene": {
           "xaxis": {
            "backgroundcolor": "#E5ECF6",
            "gridcolor": "white",
            "gridwidth": 2,
            "linecolor": "white",
            "showbackground": true,
            "ticks": "",
            "zerolinecolor": "white"
           },
           "yaxis": {
            "backgroundcolor": "#E5ECF6",
            "gridcolor": "white",
            "gridwidth": 2,
            "linecolor": "white",
            "showbackground": true,
            "ticks": "",
            "zerolinecolor": "white"
           },
           "zaxis": {
            "backgroundcolor": "#E5ECF6",
            "gridcolor": "white",
            "gridwidth": 2,
            "linecolor": "white",
            "showbackground": true,
            "ticks": "",
            "zerolinecolor": "white"
           }
          },
          "shapedefaults": {
           "line": {
            "color": "#2a3f5f"
           }
          },
          "ternary": {
           "aaxis": {
            "gridcolor": "white",
            "linecolor": "white",
            "ticks": ""
           },
           "baxis": {
            "gridcolor": "white",
            "linecolor": "white",
            "ticks": ""
           },
           "bgcolor": "#E5ECF6",
           "caxis": {
            "gridcolor": "white",
            "linecolor": "white",
            "ticks": ""
           }
          },
          "title": {
           "x": 0.05
          },
          "xaxis": {
           "automargin": true,
           "gridcolor": "white",
           "linecolor": "white",
           "ticks": "",
           "title": {
            "standoff": 15
           },
           "zerolinecolor": "white",
           "zerolinewidth": 2
          },
          "yaxis": {
           "automargin": true,
           "gridcolor": "white",
           "linecolor": "white",
           "ticks": "",
           "title": {
            "standoff": 15
           },
           "zerolinecolor": "white",
           "zerolinewidth": 2
          }
         }
        }
       }
      },
      "image/png": "[encoded data removed]",
      "text/html": [
       "<div>                            <div id=\"51a9143b-9d8b-4206-9984-f88084c5add4\" class=\"plotly-graph-div\" style=\"height:525px; width:100%;\"></div>            <script type=\"text/javascript\">                require([\"plotly\"], function(Plotly) {                    window.PLOTLYENV=window.PLOTLYENV || {};                                    if (document.getElementById(\"51a9143b-9d8b-4206-9984-f88084c5add4\")) {                    Plotly.newPlot(                        \"51a9143b-9d8b-4206-9984-f88084c5add4\",                        [{\"marker\":{\"color\":[49.97828927437279,32.418243596521954,12.016463853025163,11.797362575922016,10.071052388899895,50.2179946748762,32.53381702404488,12.050553180672416,11.839421042925956,10.119355075554877,50.361270271804095,32.60296442835207,12.070960567316355,11.864584559183921,10.148226332727974,32.25182079454473,29.61033966407858,12.544850510649807,12.365729789619655,10.411335529518961,27.630924491684965,28.526182466431134,13.144249223154093,12.979898639251953,10.697770688328264,25.42752656919293,25.656134075510625,13.276724581751562,13.467499034938925,11.06415979785936,25.02012985028371,26.18849443758239,13.943462902714158,14.130270499942602,11.286826447133569,50.2179946748762,32.53381702404488,12.050553180672416,11.839421042925956,10.119355075554877,50.39702552676746,32.62022837683666,12.076057025456588,11.870867103738142,10.155431322157236,50.504139410681034,32.67196548845428,12.09133351103999,11.889694819143722,10.177015685130325,32.3433155054458,29.673007119711272,12.566023269192891,12.3919006755922,10.440871292489856,27.709310250566638,28.58655540690956,13.166433625813632,13.007369354931688,10.728119034942548,25.51817757532416,25.724277977937863,13.30482350118692,13.50326934770213,11.103604342925248,25.14013116152277,26.281858350244864,13.983018905315397,14.180645955622122,11.340960217880898,50.361270271804095,32.60296442835207,12.070960567316355,11.864584559183921,10.148226332727974,50.504139410681034,32.67196548845428,12.09133351103999,11.889694819143722,10.177015685130325,50.58966722709083,32.713296264610236,12.103540817037548,11.904735552316213,10.194250271033068,32.398088305911514,29.710544145623356,12.578709817875009,12.407576710544879,10.458552712933454,27.75623544972074,28.622718046803698,13.179726343611888,13.023823971700198,10.746286904070697,25.572413933163123,25.76507781004365,13.321654404185894,13.524686124598183,11.127203953699473,25.211857787054768,26.337717835897756,14.006698886555421,14.210785513439939,11.373316803512651,50.361270271804095,32.60296442835207,12.070960567316355,11.864584559183921,10.148226332727974,50.504139410681034,32.67196548845428,12.09133351103999,11.889694819143722,10.177015685130325,50.58966722709083,32.713296264610236,12.103540817037548,11.904735552316213,10.194250271033068,32.398088305911514,29.710544145623356,12.578709817875009,12.407576710544879,10.458552712933454,27.75623544972074,28.622718046803698,13.179726343611888,13.023823971700198,10.746286904070697,25.572413933163123,25.76507781004365,13.321654404185894,13.524686124598183,11.127203953699473,25.211857787054768,26.337717835897756,14.006698886555421,14.210785513439939,11.373316803512651,50.361270271804095,32.60296442835207,12.070960567316355,11.864584559183921,10.148226332727974,50.504139410681034,32.67196548845428,12.09133351103999,11.889694819143722,10.177015685130325,50.58966722709083,32.713296264610236,12.103540817037548,11.904735552316213,10.194250271033068,32.398088305911514,29.710544145623356,12.578709817875009,12.407576710544879,10.458552712933454,27.75623544972074,28.622718046803698,13.179726343611888,13.023823971700198,10.746286904070697,25.572413933163123,25.76507781004365,13.321654404185894,13.524686124598183,11.127203953699473,25.211857787054768,26.337717835897756,14.006698886555421,14.210785513439939,11.373316803512651,50.2179946748762,32.53381702404488,12.050553180672416,11.839421042925956,10.119355075554877,50.39702552676746,32.62022837683666,12.076057025456588,11.870867103738142,10.155431322157236,50.504139410681034,32.67196548845428,12.09133351103999,11.889694819143722,10.177015685130325,32.3433155054458,29.673007119711272,12.566023269192891,12.3919006755922,10.440871292489856,27.709310250566638,28.58655540690956,13.166433625813632,13.007369354931688,10.728119034942548,25.51817757532416,25.724277977937863,13.30482350118692,13.50326934770213,11.103604342925248,25.14013116152277,26.281858350244864,13.983018905315397,14.180645955622122,11.340960217880898,49.97828927437279,32.418243596521954,12.016463853025163,11.797362575922016,10.071052388899895,50.2179946748762,32.53381702404488,12.050553180672416,11.839421042925956,10.119355075554877,50.361270271804095,32.60296442835207,12.070960567316355,11.864584559183921,10.148226332727974,32.25182079454473,29.61033966407858,12.544850510649807,12.365729789619655,10.411335529518961,27.630924491684965,28.526182466431134,13.144249223154093,12.979898639251953,10.697770688328264,25.42752656919293,25.656134075510625,13.276724581751562,13.467499034938925,11.06415979785936,25.02012985028371,26.18849443758239,13.943462902714158,14.130270499942602,11.286826447133569],\"colorbar\":{\"title\":{\"text\":\"Final Total Balance\"}},\"colorscale\":[[0.0,\"#440154\"],[0.1111111111111111,\"#482878\"],[0.2222222222222222,\"#3e4989\"],[0.3333333333333333,\"#31688e\"],[0.4444444444444444,\"#26828e\"],[0.5555555555555556,\"#1f9e89\"],[0.6666666666666666,\"#35b779\"],[0.7777777777777778,\"#6ece58\"],[0.8888888888888888,\"#b5de2b\"],[1.0,\"#fde725\"]],\"size\":4},\"mode\":\"markers\",\"text\":[\" final_utility_balance: 49.97828927437279\",\" final_utility_balance: 32.418243596521954\",\" final_utility_balance: 12.016463853025163\",\" final_utility_balance: 11.797362575922016\",\" final_utility_balance: 10.071052388899895\",\" final_utility_balance: 50.2179946748762\",\" final_utility_balance: 32.53381702404488\",\" final_utility_balance: 12.050553180672416\",\" final_utility_balance: 11.839421042925956\",\" final_utility_balance: 10.119355075554877\",\" final_utility_balance: 50.361270271804095\",\" final_utility_balance: 32.60296442835207\",\" final_utility_balance: 12.070960567316355\",\" final_utility_balance: 11.864584559183921\",\" final_utility_balance: 10.148226332727974\",\" final_utility_balance: 32.25182079454473\",\" final_utility_balance: 29.61033966407858\",\" final_utility_balance: 12.544850510649807\",\" final_utility_balance: 12.365729789619655\",\" final_utility_balance: 10.411335529518961\",\" final_utility_balance: 27.630924491684965\",\" final_utility_balance: 28.526182466431134\",\" final_utility_balance: 13.144249223154093\",\" final_utility_balance: 12.979898639251953\",\" final_utility_balance: 10.697770688328264\",\" final_utility_balance: 25.42752656919293\",\" final_utility_balance: 25.656134075510625\",\" final_utility_balance: 13.276724581751562\",\" final_utility_balance: 13.467499034938925\",\" final_utility_balance: 11.06415979785936\",\" final_utility_balance: 25.02012985028371\",\" final_utility_balance: 26.18849443758239\",\" final_utility_balance: 13.943462902714158\",\" final_utility_balance: 14.130270499942602\",\" final_utility_balance: 11.286826447133569\",\" final_utility_balance: 50.2179946748762\",\" final_utility_balance: 32.53381702404488\",\" final_utility_balance: 12.050553180672416\",\" final_utility_balance: 11.839421042925956\",\" final_utility_balance: 10.119355075554877\",\" final_utility_balance: 50.39702552676746\",\" final_utility_balance: 32.62022837683666\",\" final_utility_balance: 12.076057025456588\",\" final_utility_balance: 11.870867103738142\",\" final_utility_balance: 10.155431322157236\",\" final_utility_balance: 50.504139410681034\",\" final_utility_balance: 32.67196548845428\",\" final_utility_balance: 12.09133351103999\",\" final_utility_balance: 11.889694819143722\",\" final_utility_balance: 10.177015685130325\",\" final_utility_balance: 32.3433155054458\",\" final_utility_balance: 29.673007119711272\",\" final_utility_balance: 12.566023269192891\",\" final_utility_balance: 12.3919006755922\",\" final_utility_balance: 10.440871292489856\",\" final_utility_balance: 27.709310250566638\",\" final_utility_balance: 28.58655540690956\",\" final_utility_balance: 13.166433625813632\",\" final_utility_balance: 13.007369354931688\",\" final_utility_balance: 10.728119034942548\",\" final_utility_balance: 25.51817757532416\",\" final_utility_balance: 25.724277977937863\",\" final_utility_balance: 13.30482350118692\",\" final_utility_balance: 13.50326934770213\",\" final_utility_balance: 11.103604342925248\",\" final_utility_balance: 25.14013116152277\",\" final_utility_balance: 26.281858350244864\",\" final_utility_balance: 13.983018905315397\",\" final_utility_balance: 14.180645955622122\",\" final_utility_balance: 11.340960217880898\",\" final_utility_balance: 50.361270271804095\",\" final_utility_balance: 32.60296442835207\",\" final_utility_balance: 12.070960567316355\",\" final_utility_balance: 11.864584559183921\",\" final_utility_balance: 10.148226332727974\",\" final_utility_balance: 50.504139410681034\",\" final_utility_balance: 32.67196548845428\",\" final_utility_balance: 12.09133351103999\",\" final_utility_balance: 11.889694819143722\",\" final_utility_balance: 10.177015685130325\",\" final_utility_balance: 50.58966722709083\",\" final_utility_balance: 32.713296264610236\",\" final_utility_balance: 12.103540817037548\",\" final_utility_balance: 11.904735552316213\",\" final_utility_balance: 10.194250271033068\",\" final_utility_balance: 32.398088305911514\",\" final_utility_balance: 29.710544145623356\",\" final_utility_balance: 12.578709817875009\",\" final_utility_balance: 12.407576710544879\",\" final_utility_balance: 10.458552712933454\",\" final_utility_balance: 27.75623544972074\",\" final_utility_balance: 28.622718046803698\",\" final_utility_balance: 13.179726343611888\",\" final_utility_balance: 13.023823971700198\",\" final_utility_balance: 10.746286904070697\",\" final_utility_balance: 25.572413933163123\",\" final_utility_balance: 25.76507781004365\",\" final_utility_balance: 13.321654404185894\",\" final_utility_balance: 13.524686124598183\",\" final_utility_balance: 11.127203953699473\",\" final_utility_balance: 25.211857787054768\",\" final_utility_balance: 26.337717835897756\",\" final_utility_balance: 14.006698886555421\",\" final_utility_balance: 14.210785513439939\",\" final_utility_balance: 11.373316803512651\",\" final_utility_balance: 50.361270271804095\",\" final_utility_balance: 32.60296442835207\",\" final_utility_balance: 12.070960567316355\",\" final_utility_balance: 11.864584559183921\",\" final_utility_balance: 10.148226332727974\",\" final_utility_balance: 50.504139410681034\",\" final_utility_balance: 32.67196548845428\",\" final_utility_balance: 12.09133351103999\",\" final_utility_balance: 11.889694819143722\",\" final_utility_balance: 10.177015685130325\",\" final_utility_balance: 50.58966722709083\",\" final_utility_balance: 32.713296264610236\",\" final_utility_balance: 12.103540817037548\",\" final_utility_balance: 11.904735552316213\",\" final_utility_balance: 10.194250271033068\",\" final_utility_balance: 32.398088305911514\",\" final_utility_balance: 29.710544145623356\",\" final_utility_balance: 12.578709817875009\",\" final_utility_balance: 12.407576710544879\",\" final_utility_balance: 10.458552712933454\",\" final_utility_balance: 27.75623544972074\",\" final_utility_balance: 28.622718046803698\",\" final_utility_balance: 13.179726343611888\",\" final_utility_balance: 13.023823971700198\",\" final_utility_balance: 10.746286904070697\",\" final_utility_balance: 25.572413933163123\",\" final_utility_balance: 25.76507781004365\",\" final_utility_balance: 13.321654404185894\",\" final_utility_balance: 13.524686124598183\",\" final_utility_balance: 11.127203953699473\",\" final_utility_balance: 25.211857787054768\",\" final_utility_balance: 26.337717835897756\",\" final_utility_balance: 14.006698886555421\",\" final_utility_balance: 14.210785513439939\",\" final_utility_balance: 11.373316803512651\",\" final_utility_balance: 50.361270271804095\",\" final_utility_balance: 32.60296442835207\",\" final_utility_balance: 12.070960567316355\",\" final_utility_balance: 11.864584559183921\",\" final_utility_balance: 10.148226332727974\",\" final_utility_balance: 50.504139410681034\",\" final_utility_balance: 32.67196548845428\",\" final_utility_balance: 12.09133351103999\",\" final_utility_balance: 11.889694819143722\",\" final_utility_balance: 10.177015685130325\",\" final_utility_balance: 50.58966722709083\",\" final_utility_balance: 32.713296264610236\",\" final_utility_balance: 12.103540817037548\",\" final_utility_balance: 11.904735552316213\",\" final_utility_balance: 10.194250271033068\",\" final_utility_balance: 32.398088305911514\",\" final_utility_balance: 29.710544145623356\",\" final_utility_balance: 12.578709817875009\",\" final_utility_balance: 12.407576710544879\",\" final_utility_balance: 10.458552712933454\",\" final_utility_balance: 27.75623544972074\",\" final_utility_balance: 28.622718046803698\",\" final_utility_balance: 13.179726343611888\",\" final_utility_balance: 13.023823971700198\",\" final_utility_balance: 10.746286904070697\",\" final_utility_balance: 25.572413933163123\",\" final_utility_balance: 25.76507781004365\",\" final_utility_balance: 13.321654404185894\",\" final_utility_balance: 13.524686124598183\",\" final_utility_balance: 11.127203953699473\",\" final_utility_balance: 25.211857787054768\",\" final_utility_balance: 26.337717835897756\",\" final_utility_balance: 14.006698886555421\",\" final_utility_balance: 14.210785513439939\",\" final_utility_balance: 11.373316803512651\",\" final_utility_balance: 50.2179946748762\",\" final_utility_balance: 32.53381702404488\",\" final_utility_balance: 12.050553180672416\",\" final_utility_balance: 11.839421042925956\",\" final_utility_balance: 10.119355075554877\",\" final_utility_balance: 50.39702552676746\",\" final_utility_balance: 32.62022837683666\",\" final_utility_balance: 12.076057025456588\",\" final_utility_balance: 11.870867103738142\",\" final_utility_balance: 10.155431322157236\",\" final_utility_balance: 50.504139410681034\",\" final_utility_balance: 32.67196548845428\",\" final_utility_balance: 12.09133351103999\",\" final_utility_balance: 11.889694819143722\",\" final_utility_balance: 10.177015685130325\",\" final_utility_balance: 32.3433155054458\",\" final_utility_balance: 29.673007119711272\",\" final_utility_balance: 12.566023269192891\",\" final_utility_balance: 12.3919006755922\",\" final_utility_balance: 10.440871292489856\",\" final_utility_balance: 27.709310250566638\",\" final_utility_balance: 28.58655540690956\",\" final_utility_balance: 13.166433625813632\",\" final_utility_balance: 13.007369354931688\",\" final_utility_balance: 10.728119034942548\",\" final_utility_balance: 25.51817757532416\",\" final_utility_balance: 25.724277977937863\",\" final_utility_balance: 13.30482350118692\",\" final_utility_balance: 13.50326934770213\",\" final_utility_balance: 11.103604342925248\",\" final_utility_balance: 25.14013116152277\",\" final_utility_balance: 26.281858350244864\",\" final_utility_balance: 13.983018905315397\",\" final_utility_balance: 14.180645955622122\",\" final_utility_balance: 11.340960217880898\",\" final_utility_balance: 49.97828927437279\",\" final_utility_balance: 32.418243596521954\",\" final_utility_balance: 12.016463853025163\",\" final_utility_balance: 11.797362575922016\",\" final_utility_balance: 10.071052388899895\",\" final_utility_balance: 50.2179946748762\",\" final_utility_balance: 32.53381702404488\",\" final_utility_balance: 12.050553180672416\",\" final_utility_balance: 11.839421042925956\",\" final_utility_balance: 10.119355075554877\",\" final_utility_balance: 50.361270271804095\",\" final_utility_balance: 32.60296442835207\",\" final_utility_balance: 12.070960567316355\",\" final_utility_balance: 11.864584559183921\",\" final_utility_balance: 10.148226332727974\",\" final_utility_balance: 32.25182079454473\",\" final_utility_balance: 29.61033966407858\",\" final_utility_balance: 12.544850510649807\",\" final_utility_balance: 12.365729789619655\",\" final_utility_balance: 10.411335529518961\",\" final_utility_balance: 27.630924491684965\",\" final_utility_balance: 28.526182466431134\",\" final_utility_balance: 13.144249223154093\",\" final_utility_balance: 12.979898639251953\",\" final_utility_balance: 10.697770688328264\",\" final_utility_balance: 25.42752656919293\",\" final_utility_balance: 25.656134075510625\",\" final_utility_balance: 13.276724581751562\",\" final_utility_balance: 13.467499034938925\",\" final_utility_balance: 11.06415979785936\",\" final_utility_balance: 25.02012985028371\",\" final_utility_balance: 26.18849443758239\",\" final_utility_balance: 13.943462902714158\",\" final_utility_balance: 14.130270499942602\",\" final_utility_balance: 11.286826447133569\"],\"x\":[0.25,0.25,0.25,0.25,0.25,0.25,0.25,0.25,0.25,0.25,0.25,0.25,0.25,0.25,0.25,0.25,0.25,0.25,0.25,0.25,0.25,0.25,0.25,0.25,0.25,0.25,0.25,0.25,0.25,0.25,0.25,0.25,0.25,0.25,0.25,0.5,0.5,0.5,0.5,0.5,0.5,0.5,0.5,0.5,0.5,0.5,0.5,0.5,0.5,0.5,0.5,0.5,0.5,0.5,0.5,0.5,0.5,0.5,0.5,0.5,0.5,0.5,0.5,0.5,0.5,0.5,0.5,0.5,0.5,0.5,0.75,0.75,0.75,0.75,0.75,0.75,0.75,0.75,0.75,0.75,0.75,0.75,0.75,0.75,0.75,0.75,0.75,0.75,0.75,0.75,0.75,0.75,0.75,0.75,0.75,0.75,0.75,0.75,0.75,0.75,0.75,0.75,0.75,0.75,0.75,1.0,1.0,1.0,1.0,1.0,1.0,1.0,1.0,1.0,1.0,1.0,1.0,1.0,1.0,1.0,1.0,1.0,1.0,1.0,1.0,1.0,1.0,1.0,1.0,1.0,1.0,1.0,1.0,1.0,1.0,1.0,1.0,1.0,1.0,1.0,1.25,1.25,1.25,1.25,1.25,1.25,1.25,1.25,1.25,1.25,1.25,1.25,1.25,1.25,1.25,1.25,1.25,1.25,1.25,1.25,1.25,1.25,1.25,1.25,1.25,1.25,1.25,1.25,1.25,1.25,1.25,1.25,1.25,1.25,1.25,1.5,1.5,1.5,1.5,1.5,1.5,1.5,1.5,1.5,1.5,1.5,1.5,1.5,1.5,1.5,1.5,1.5,1.5,1.5,1.5,1.5,1.5,1.5,1.5,1.5,1.5,1.5,1.5,1.5,1.5,1.5,1.5,1.5,1.5,1.5,1.75,1.75,1.75,1.75,1.75,1.75,1.75,1.75,1.75,1.75,1.75,1.75,1.75,1.75,1.75,1.75,1.75,1.75,1.75,1.75,1.75,1.75,1.75,1.75,1.75,1.75,1.75,1.75,1.75,1.75,1.75,1.75,1.75,1.75,1.75],\"y\":[0.25,0.25,0.25,0.25,0.25,0.5,0.5,0.5,0.5,0.5,0.75,0.75,0.75,0.75,0.75,1.0,1.0,1.0,1.0,1.0,1.25,1.25,1.25,1.25,1.25,1.5,1.5,1.5,1.5,1.5,1.75,1.75,1.75,1.75,1.75,0.25,0.25,0.25,0.25,0.25,0.5,0.5,0.5,0.5,0.5,0.75,0.75,0.75,0.75,0.75,1.0,1.0,1.0,1.0,1.0,1.25,1.25,1.25,1.25,1.25,1.5,1.5,1.5,1.5,1.5,1.75,1.75,1.75,1.75,1.75,0.25,0.25,0.25,0.25,0.25,0.5,0.5,0.5,0.5,0.5,0.75,0.75,0.75,0.75,0.75,1.0,1.0,1.0,1.0,1.0,1.25,1.25,1.25,1.25,1.25,1.5,1.5,1.5,1.5,1.5,1.75,1.75,1.75,1.75,1.75,0.25,0.25,0.25,0.25,0.25,0.5,0.5,0.5,0.5,0.5,0.75,0.75,0.75,0.75,0.75,1.0,1.0,1.0,1.0,1.0,1.25,1.25,1.25,1.25,1.25,1.5,1.5,1.5,1.5,1.5,1.75,1.75,1.75,1.75,1.75,0.25,0.25,0.25,0.25,0.25,0.5,0.5,0.5,0.5,0.5,0.75,0.75,0.75,0.75,0.75,1.0,1.0,1.0,1.0,1.0,1.25,1.25,1.25,1.25,1.25,1.5,1.5,1.5,1.5,1.5,1.75,1.75,1.75,1.75,1.75,0.25,0.25,0.25,0.25,0.25,0.5,0.5,0.5,0.5,0.5,0.75,0.75,0.75,0.75,0.75,1.0,1.0,1.0,1.0,1.0,1.25,1.25,1.25,1.25,1.25,1.5,1.5,1.5,1.5,1.5,1.75,1.75,1.75,1.75,1.75,0.25,0.25,0.25,0.25,0.25,0.5,0.5,0.5,0.5,0.5,0.75,0.75,0.75,0.75,0.75,1.0,1.0,1.0,1.0,1.0,1.25,1.25,1.25,1.25,1.25,1.5,1.5,1.5,1.5,1.5,1.75,1.75,1.75,1.75,1.75],\"z\":[500,1000,1500,2000,2500,500,1000,1500,2000,2500,500,1000,1500,2000,2500,500,1000,1500,2000,2500,500,1000,1500,2000,2500,500,1000,1500,2000,2500,500,1000,1500,2000,2500,500,1000,1500,2000,2500,500,1000,1500,2000,2500,500,1000,1500,2000,2500,500,1000,1500,2000,2500,500,1000,1500,2000,2500,500,1000,1500,2000,2500,500,1000,1500,2000,2500,500,1000,1500,2000,2500,500,1000,1500,2000,2500,500,1000,1500,2000,2500,500,1000,1500,2000,2500,500,1000,1500,2000,2500,500,1000,1500,2000,2500,500,1000,1500,2000,2500,500,1000,1500,2000,2500,500,1000,1500,2000,2500,500,1000,1500,2000,2500,500,1000,1500,2000,2500,500,1000,1500,2000,2500,500,1000,1500,2000,2500,500,1000,1500,2000,2500,500,1000,1500,2000,2500,500,1000,1500,2000,2500,500,1000,1500,2000,2500,500,1000,1500,2000,2500,500,1000,1500,2000,2500,500,1000,1500,2000,2500,500,1000,1500,2000,2500,500,1000,1500,2000,2500,500,1000,1500,2000,2500,500,1000,1500,2000,2500,500,1000,1500,2000,2500,500,1000,1500,2000,2500,500,1000,1500,2000,2500,500,1000,1500,2000,2500,500,1000,1500,2000,2500,500,1000,1500,2000,2500,500,1000,1500,2000,2500,500,1000,1500,2000,2500,500,1000,1500,2000,2500,500,1000,1500,2000,2500,500,1000,1500,2000,2500],\"type\":\"scatter3d\"}],                        {\"template\":{\"data\":{\"histogram2dcontour\":[{\"type\":\"histogram2dcontour\",\"colorbar\":{\"outlinewidth\":0,\"ticks\":\"\"},\"colorscale\":[[0.0,\"#0d0887\"],[0.1111111111111111,\"#46039f\"],[0.2222222222222222,\"#7201a8\"],[0.3333333333333333,\"#9c179e\"],[0.4444444444444444,\"#bd3786\"],[0.5555555555555556,\"#d8576b\"],[0.6666666666666666,\"#ed7953\"],[0.7777777777777778,\"#fb9f3a\"],[0.8888888888888888,\"#fdca26\"],[1.0,\"#f0f921\"]]}],\"choropleth\":[{\"type\":\"choropleth\",\"colorbar\":{\"outlinewidth\":0,\"ticks\":\"\"}}],\"histogram2d\":[{\"type\":\"histogram2d\",\"colorbar\":{\"outlinewidth\":0,\"ticks\":\"\"},\"colorscale\":[[0.0,\"#0d0887\"],[0.1111111111111111,\"#46039f\"],[0.2222222222222222,\"#7201a8\"],[0.3333333333333333,\"#9c179e\"],[0.4444444444444444,\"#bd3786\"],[0.5555555555555556,\"#d8576b\"],[0.6666666666666666,\"#ed7953\"],[0.7777777777777778,\"#fb9f3a\"],[0.8888888888888888,\"#fdca26\"],[1.0,\"#f0f921\"]]}],\"heatmap\":[{\"type\":\"heatmap\",\"colorbar\":{\"outlinewidth\":0,\"ticks\":\"\"},\"colorscale\":[[0.0,\"#0d0887\"],[0.1111111111111111,\"#46039f\"],[0.2222222222222222,\"#7201a8\"],[0.3333333333333333,\"#9c179e\"],[0.4444444444444444,\"#bd3786\"],[0.5555555555555556,\"#d8576b\"],[0.6666666666666666,\"#ed7953\"],[0.7777777777777778,\"#fb9f3a\"],[0.8888888888888888,\"#fdca26\"],[1.0,\"#f0f921\"]]}],\"heatmapgl\":[{\"type\":\"heatmapgl\",\"colorbar\":{\"outlinewidth\":0,\"ticks\":\"\"},\"colorscale\":[[0.0,\"#0d0887\"],[0.1111111111111111,\"#46039f\"],[0.2222222222222222,\"#7201a8\"],[0.3333333333333333,\"#9c179e\"],[0.4444444444444444,\"#bd3786\"],[0.5555555555555556,\"#d8576b\"],[0.6666666666666666,\"#ed7953\"],[0.7777777777777778,\"#fb9f3a\"],[0.8888888888888888,\"#fdca26\"],[1.0,\"#f0f921\"]]}],\"contourcarpet\":[{\"type\":\"contourcarpet\",\"colorbar\":{\"outlinewidth\":0,\"ticks\":\"\"}}],\"contour\":[{\"type\":\"contour\",\"colorbar\":{\"outlinewidth\":0,\"ticks\":\"\"},\"colorscale\":[[0.0,\"#0d0887\"],[0.1111111111111111,\"#46039f\"],[0.2222222222222222,\"#7201a8\"],[0.3333333333333333,\"#9c179e\"],[0.4444444444444444,\"#bd3786\"],[0.5555555555555556,\"#d8576b\"],[0.6666666666666666,\"#ed7953\"],[0.7777777777777778,\"#fb9f3a\"],[0.8888888888888888,\"#fdca26\"],[1.0,\"#f0f921\"]]}],\"surface\":[{\"type\":\"surface\",\"colorbar\":{\"outlinewidth\":0,\"ticks\":\"\"},\"colorscale\":[[0.0,\"#0d0887\"],[0.1111111111111111,\"#46039f\"],[0.2222222222222222,\"#7201a8\"],[0.3333333333333333,\"#9c179e\"],[0.4444444444444444,\"#bd3786\"],[0.5555555555555556,\"#d8576b\"],[0.6666666666666666,\"#ed7953\"],[0.7777777777777778,\"#fb9f3a\"],[0.8888888888888888,\"#fdca26\"],[1.0,\"#f0f921\"]]}],\"mesh3d\":[{\"type\":\"mesh3d\",\"colorbar\":{\"outlinewidth\":0,\"ticks\":\"\"}}],\"scatter\":[{\"fillpattern\":{\"fillmode\":\"overlay\",\"size\":10,\"solidity\":0.2},\"type\":\"scatter\"}],\"parcoords\":[{\"type\":\"parcoords\",\"line\":{\"colorbar\":{\"outlinewidth\":0,\"ticks\":\"\"}}}],\"scatterpolargl\":[{\"type\":\"scatterpolargl\",\"marker\":{\"colorbar\":{\"outlinewidth\":0,\"ticks\":\"\"}}}],\"bar\":[{\"error_x\":{\"color\":\"#2a3f5f\"},\"error_y\":{\"color\":\"#2a3f5f\"},\"marker\":{\"line\":{\"color\":\"#E5ECF6\",\"width\":0.5},\"pattern\":{\"fillmode\":\"overlay\",\"size\":10,\"solidity\":0.2}},\"type\":\"bar\"}],\"scattergeo\":[{\"type\":\"scattergeo\",\"marker\":{\"colorbar\":{\"outlinewidth\":0,\"ticks\":\"\"}}}],\"scatterpolar\":[{\"type\":\"scatterpolar\",\"marker\":{\"colorbar\":{\"outlinewidth\":0,\"ticks\":\"\"}}}],\"histogram\":[{\"marker\":{\"pattern\":{\"fillmode\":\"overlay\",\"size\":10,\"solidity\":0.2}},\"type\":\"histogram\"}],\"scattergl\":[{\"type\":\"scattergl\",\"marker\":{\"colorbar\":{\"outlinewidth\":0,\"ticks\":\"\"}}}],\"scatter3d\":[{\"type\":\"scatter3d\",\"line\":{\"colorbar\":{\"outlinewidth\":0,\"ticks\":\"\"}},\"marker\":{\"colorbar\":{\"outlinewidth\":0,\"ticks\":\"\"}}}],\"scattermapbox\":[{\"type\":\"scattermapbox\",\"marker\":{\"colorbar\":{\"outlinewidth\":0,\"ticks\":\"\"}}}],\"scatterternary\":[{\"type\":\"scatterternary\",\"marker\":{\"colorbar\":{\"outlinewidth\":0,\"ticks\":\"\"}}}],\"scattercarpet\":[{\"type\":\"scattercarpet\",\"marker\":{\"colorbar\":{\"outlinewidth\":0,\"ticks\":\"\"}}}],\"carpet\":[{\"aaxis\":{\"endlinecolor\":\"#2a3f5f\",\"gridcolor\":\"white\",\"linecolor\":\"white\",\"minorgridcolor\":\"white\",\"startlinecolor\":\"#2a3f5f\"},\"baxis\":{\"endlinecolor\":\"#2a3f5f\",\"gridcolor\":\"white\",\"linecolor\":\"white\",\"minorgridcolor\":\"white\",\"startlinecolor\":\"#2a3f5f\"},\"type\":\"carpet\"}],\"table\":[{\"cells\":{\"fill\":{\"color\":\"#EBF0F8\"},\"line\":{\"color\":\"white\"}},\"header\":{\"fill\":{\"color\":\"#C8D4E3\"},\"line\":{\"color\":\"white\"}},\"type\":\"table\"}],\"barpolar\":[{\"marker\":{\"line\":{\"color\":\"#E5ECF6\",\"width\":0.5},\"pattern\":{\"fillmode\":\"overlay\",\"size\":10,\"solidity\":0.2}},\"type\":\"barpolar\"}],\"pie\":[{\"automargin\":true,\"type\":\"pie\"}]},\"layout\":{\"autotypenumbers\":\"strict\",\"colorway\":[\"#636efa\",\"#EF553B\",\"#00cc96\",\"#ab63fa\",\"#FFA15A\",\"#19d3f3\",\"#FF6692\",\"#B6E880\",\"#FF97FF\",\"#FECB52\"],\"font\":{\"color\":\"#2a3f5f\"},\"hovermode\":\"closest\",\"hoverlabel\":{\"align\":\"left\"},\"paper_bgcolor\":\"white\",\"plot_bgcolor\":\"#E5ECF6\",\"polar\":{\"bgcolor\":\"#E5ECF6\",\"angularaxis\":{\"gridcolor\":\"white\",\"linecolor\":\"white\",\"ticks\":\"\"},\"radialaxis\":{\"gridcolor\":\"white\",\"linecolor\":\"white\",\"ticks\":\"\"}},\"ternary\":{\"bgcolor\":\"#E5ECF6\",\"aaxis\":{\"gridcolor\":\"white\",\"linecolor\":\"white\",\"ticks\":\"\"},\"baxis\":{\"gridcolor\":\"white\",\"linecolor\":\"white\",\"ticks\":\"\"},\"caxis\":{\"gridcolor\":\"white\",\"linecolor\":\"white\",\"ticks\":\"\"}},\"coloraxis\":{\"colorbar\":{\"outlinewidth\":0,\"ticks\":\"\"}},\"colorscale\":{\"sequential\":[[0.0,\"#0d0887\"],[0.1111111111111111,\"#46039f\"],[0.2222222222222222,\"#7201a8\"],[0.3333333333333333,\"#9c179e\"],[0.4444444444444444,\"#bd3786\"],[0.5555555555555556,\"#d8576b\"],[0.6666666666666666,\"#ed7953\"],[0.7777777777777778,\"#fb9f3a\"],[0.8888888888888888,\"#fdca26\"],[1.0,\"#f0f921\"]],\"sequentialminus\":[[0.0,\"#0d0887\"],[0.1111111111111111,\"#46039f\"],[0.2222222222222222,\"#7201a8\"],[0.3333333333333333,\"#9c179e\"],[0.4444444444444444,\"#bd3786\"],[0.5555555555555556,\"#d8576b\"],[0.6666666666666666,\"#ed7953\"],[0.7777777777777778,\"#fb9f3a\"],[0.8888888888888888,\"#fdca26\"],[1.0,\"#f0f921\"]],\"diverging\":[[0,\"#8e0152\"],[0.1,\"#c51b7d\"],[0.2,\"#de77ae\"],[0.3,\"#f1b6da\"],[0.4,\"#fde0ef\"],[0.5,\"#f7f7f7\"],[0.6,\"#e6f5d0\"],[0.7,\"#b8e186\"],[0.8,\"#7fbc41\"],[0.9,\"#4d9221\"],[1,\"#276419\"]]},\"xaxis\":{\"gridcolor\":\"white\",\"linecolor\":\"white\",\"ticks\":\"\",\"title\":{\"standoff\":15},\"zerolinecolor\":\"white\",\"automargin\":true,\"zerolinewidth\":2},\"yaxis\":{\"gridcolor\":\"white\",\"linecolor\":\"white\",\"ticks\":\"\",\"title\":{\"standoff\":15},\"zerolinecolor\":\"white\",\"automargin\":true,\"zerolinewidth\":2},\"scene\":{\"xaxis\":{\"backgroundcolor\":\"#E5ECF6\",\"gridcolor\":\"white\",\"linecolor\":\"white\",\"showbackground\":true,\"ticks\":\"\",\"zerolinecolor\":\"white\",\"gridwidth\":2},\"yaxis\":{\"backgroundcolor\":\"#E5ECF6\",\"gridcolor\":\"white\",\"linecolor\":\"white\",\"showbackground\":true,\"ticks\":\"\",\"zerolinecolor\":\"white\",\"gridwidth\":2},\"zaxis\":{\"backgroundcolor\":\"#E5ECF6\",\"gridcolor\":\"white\",\"linecolor\":\"white\",\"showbackground\":true,\"ticks\":\"\",\"zerolinecolor\":\"white\",\"gridwidth\":2}},\"shapedefaults\":{\"line\":{\"color\":\"#2a3f5f\"}},\"annotationdefaults\":{\"arrowcolor\":\"#2a3f5f\",\"arrowhead\":0,\"arrowwidth\":1},\"geo\":{\"bgcolor\":\"white\",\"landcolor\":\"#E5ECF6\",\"subunitcolor\":\"white\",\"showland\":true,\"showlakes\":true,\"lakecolor\":\"white\"},\"title\":{\"x\":0.05},\"mapbox\":{\"style\":\"light\"}}},\"scene\":{\"domain\":{\"x\":[0.0,1.0],\"y\":[0.0,1.0]},\"xaxis\":{\"title\":{\"text\":\"std_count_up\"}},\"yaxis\":{\"title\":{\"text\":\"std_count_down\"}},\"zaxis\":{\"title\":{\"text\":\"ma_count\"}}}},                        {\"responsive\": true}                    ).then(function(){\n",
       "                            \n",
       "var gd = document.getElementById('51a9143b-9d8b-4206-9984-f88084c5add4');\n",
       "var x = new MutationObserver(function (mutations, observer) {{\n",
       "        var display = window.getComputedStyle(gd).display;\n",
       "        if (!display || display === 'none') {{\n",
       "            console.log([gd, 'removed!']);\n",
       "            Plotly.purge(gd);\n",
       "            observer.disconnect();\n",
       "        }}\n",
       "}});\n",
       "\n",
       "// Listen for the removal of the full notebook cells\n",
       "var notebookContainer = gd.closest('#notebook-container');\n",
       "if (notebookContainer) {{\n",
       "    x.observe(notebookContainer, {childList: true});\n",
       "}}\n",
       "\n",
       "// Listen for the clearing of the current output cell\n",
       "var outputEl = gd.closest('.output');\n",
       "if (outputEl) {{\n",
       "    x.observe(outputEl, {childList: true});\n",
       "}}\n",
       "\n",
       "                        })                };                });            </script>        </div>"
      ]
     },
     "metadata": {},
     "output_type": "display_data"
    }
   ],
   "source": [
    "import plotly.graph_objs as go\n",
    "from plotly.subplots import make_subplots\n",
    "\n",
    "# Создание трехмерного графика в Plotly\n",
    "fig = make_subplots(rows=1, cols=1, specs=[[{'type': 'scatter3d'}]])\n",
    "\n",
    "scatter = go.Scatter3d(\n",
    "    x=df_plotly['std_count_up'],\n",
    "    y=df_plotly['std_count_down'],\n",
    "    z=df_plotly['ma_count'],\n",
    "    mode='markers',\n",
    "    marker=dict(\n",
    "        size=4,\n",
    "        color=df_plotly['final_utility_balance'],\n",
    "        colorscale='Viridis',\n",
    "        colorbar=dict(title='Final Total Balance')\n",
    "    ),\n",
    "    text=df_plotly.apply(lambda row: f' final_utility_balance: {row[\"final_utility_balance\"]}', axis=1)\n",
    ")\n",
    "\n",
    "fig.add_trace(scatter)\n",
    "\n",
    "# Наименование осей\n",
    "fig.update_layout(scene=dict(\n",
    "                    xaxis_title='std_count_up',\n",
    "                    yaxis_title='std_count_down',\n",
    "                    zaxis_title='ma_count')\n",
    "                 )\n",
    "\n",
    "# Отображение графика\n",
    "fig.show()\n"
   ]
  },
  {
   "cell_type": "code",
   "execution_count": null,
   "metadata": {},
   "outputs": [],
   "source": []
  }
 ],
 "metadata": {
  "kernelspec": {
   "display_name": "Python 3 (ipykernel)",
   "language": "python",
   "name": "python3"
  },
  "language_info": {
   "codemirror_mode": {
    "name": "ipython",
    "version": 3
   },
   "file_extension": ".py",
   "mimetype": "text/x-python",
   "name": "python",
   "nbconvert_exporter": "python",
   "pygments_lexer": "ipython3",
   "version": "3.12.0"
  }
 },
 "nbformat": 4,
 "nbformat_minor": 4
}

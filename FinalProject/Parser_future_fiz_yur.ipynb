{
 "cells": [
  {
   "cell_type": "code",
   "execution_count": 1,
   "id": "f92d2f79-7bfe-4592-ba1a-65b5608bcb04",
   "metadata": {
    "execution": {
     "iopub.execute_input": "2023-12-09T18:14:57.430524Z",
     "iopub.status.busy": "2023-12-09T18:14:57.429724Z",
     "iopub.status.idle": "2023-12-09T18:14:58.506116Z",
     "shell.execute_reply": "2023-12-09T18:14:58.504803Z",
     "shell.execute_reply.started": "2023-12-09T18:14:57.430475Z"
    }
   },
   "outputs": [
    {
     "name": "stdout",
     "output_type": "stream",
     "text": [
      "Requirement already satisfied: pandas==2.1.1 in /home/roman/myenv/lib/python3.10/site-packages (from -r requirements.txt (line 1)) (2.1.1)\n",
      "Requirement already satisfied: requests==2.31.0 in /home/roman/myenv/lib/python3.10/site-packages (from -r requirements.txt (line 2)) (2.31.0)\n",
      "Requirement already satisfied: numpy==1.26.0 in /home/roman/myenv/lib/python3.10/site-packages (from -r requirements.txt (line 3)) (1.26.0)\n",
      "Requirement already satisfied: mpmath==1.3.0 in /home/roman/myenv/lib/python3.10/site-packages (from -r requirements.txt (line 4)) (1.3.0)\n",
      "Requirement already satisfied: plotly==5.18.0 in /home/roman/myenv/lib/python3.10/site-packages (from -r requirements.txt (line 5)) (5.18.0)\n",
      "Requirement already satisfied: tqdm==4.66.1 in /home/roman/myenv/lib/python3.10/site-packages (from -r requirements.txt (line 6)) (4.66.1)\n",
      "Requirement already satisfied: tzdata>=2022.1 in /home/roman/myenv/lib/python3.10/site-packages (from pandas==2.1.1->-r requirements.txt (line 1)) (2023.3)\n",
      "Requirement already satisfied: pytz>=2020.1 in /home/roman/myenv/lib/python3.10/site-packages (from pandas==2.1.1->-r requirements.txt (line 1)) (2023.3.post1)\n",
      "Requirement already satisfied: python-dateutil>=2.8.2 in /home/roman/myenv/lib/python3.10/site-packages (from pandas==2.1.1->-r requirements.txt (line 1)) (2.8.2)\n",
      "Requirement already satisfied: urllib3<3,>=1.21.1 in /home/roman/myenv/lib/python3.10/site-packages (from requests==2.31.0->-r requirements.txt (line 2)) (2.1.0)\n",
      "Requirement already satisfied: charset-normalizer<4,>=2 in /home/roman/myenv/lib/python3.10/site-packages (from requests==2.31.0->-r requirements.txt (line 2)) (3.3.2)\n",
      "Requirement already satisfied: idna<4,>=2.5 in /home/roman/myenv/lib/python3.10/site-packages (from requests==2.31.0->-r requirements.txt (line 2)) (3.6)\n",
      "Requirement already satisfied: certifi>=2017.4.17 in /home/roman/myenv/lib/python3.10/site-packages (from requests==2.31.0->-r requirements.txt (line 2)) (2023.11.17)\n",
      "Requirement already satisfied: tenacity>=6.2.0 in /home/roman/myenv/lib/python3.10/site-packages (from plotly==5.18.0->-r requirements.txt (line 5)) (8.2.3)\n",
      "Requirement already satisfied: packaging in /home/roman/myenv/lib/python3.10/site-packages (from plotly==5.18.0->-r requirements.txt (line 5)) (23.2)\n",
      "Requirement already satisfied: six>=1.5 in /home/roman/myenv/lib/python3.10/site-packages (from python-dateutil>=2.8.2->pandas==2.1.1->-r requirements.txt (line 1)) (1.16.0)\n",
      "Note: you may need to restart the kernel to use updated packages.\n"
     ]
    }
   ],
   "source": [
    "pip install -r requirements.txt || true"
   ]
  },
  {
   "cell_type": "code",
   "execution_count": 2,
   "id": "5b2a7ffd-1029-4b68-8bc4-2cc6ae12b796",
   "metadata": {
    "execution": {
     "iopub.execute_input": "2023-12-09T18:14:58.508252Z",
     "iopub.status.busy": "2023-12-09T18:14:58.507820Z",
     "iopub.status.idle": "2023-12-09T18:14:58.818161Z",
     "shell.execute_reply": "2023-12-09T18:14:58.817399Z",
     "shell.execute_reply.started": "2023-12-09T18:14:58.508205Z"
    }
   },
   "outputs": [],
   "source": [
    "import pandas as pd\n",
    "import requests as rq\n",
    "import numpy as np\n",
    "from datetime import datetime, timedelta\n",
    "import os"
   ]
  },
  {
   "cell_type": "markdown",
   "id": "bcff6015-372c-4028-870a-b0bdbe53f022",
   "metadata": {},
   "source": [
    "# Демонстрация того, как будет происходить процесс совмещения на двух днях"
   ]
  },
  {
   "cell_type": "code",
   "execution_count": 3,
   "id": "d9412618-5e19-4454-a0cf-e22c0d95ad24",
   "metadata": {
    "execution": {
     "iopub.execute_input": "2023-12-09T18:14:58.820175Z",
     "iopub.status.busy": "2023-12-09T18:14:58.819792Z",
     "iopub.status.idle": "2023-12-09T18:14:58.823053Z",
     "shell.execute_reply": "2023-12-09T18:14:58.822523Z",
     "shell.execute_reply.started": "2023-12-09T18:14:58.820154Z"
    }
   },
   "outputs": [],
   "source": [
    "# Ссылка на данные\n",
    "url1 = \"https://iss.moex.com/iss/analyticalproducts/futoi/securities/si.json?from=2023-11-07&till=2023-11-08&table_type=full\"\n",
    "url2 = \"https://iss.moex.com/iss/analyticalproducts/futoi/securities/si.json?from=2023-11-06&till=2023-11-07&table_type=full\""
   ]
  },
  {
   "cell_type": "code",
   "execution_count": 4,
   "id": "6df49ced-8d39-4ebf-9824-9a875770d548",
   "metadata": {
    "execution": {
     "iopub.execute_input": "2023-12-09T18:14:58.825034Z",
     "iopub.status.busy": "2023-12-09T18:14:58.824732Z",
     "iopub.status.idle": "2023-12-09T18:14:59.110097Z",
     "shell.execute_reply": "2023-12-09T18:14:59.109176Z",
     "shell.execute_reply.started": "2023-12-09T18:14:58.825009Z"
    }
   },
   "outputs": [],
   "source": [
    "# Отправляем GET-запрос по указанной ссылке\n",
    "response = rq.get(url1)\n",
    "\n",
    "# Проверяем статус ответа\n",
    "if response.status_code == 200:\n",
    "    # Загружаем данные из ответа в переменную data в случае успеха\n",
    "    data = response.json()\n",
    "else:\n",
    "    print(\"Ошибка при получении данных\")\n",
    "    \n",
    "\n",
    "columns = response.json()[\"futoi\"]['columns']\n",
    "\n",
    "data = response.json()[\"futoi\"][\"data\"]\n",
    "\n",
    "df1 = pd.DataFrame(data, columns=columns)\n",
    "\n",
    "\n",
    "# Отправляем GET-запрос по указанной ссылке\n",
    "response = rq.get(url2)\n",
    "\n",
    "# Проверяем статус ответа\n",
    "if response.status_code == 200:\n",
    "    # Загружаем данные из ответа в переменную data в случае успеха\n",
    "    data = response.json()\n",
    "else:\n",
    "    print(\"Ошибка при получении данных\")\n",
    "\n",
    "\n",
    "columns = response.json()[\"futoi\"]['columns']\n",
    "\n",
    "data = response.json()[\"futoi\"][\"data\"]\n",
    "\n",
    "df2 = pd.DataFrame(data, columns=columns)"
   ]
  },
  {
   "cell_type": "code",
   "execution_count": 5,
   "id": "984879f5-fc18-4cb3-a5a7-17aec9331ec0",
   "metadata": {
    "execution": {
     "iopub.execute_input": "2023-12-09T18:14:59.111051Z",
     "iopub.status.busy": "2023-12-09T18:14:59.110904Z",
     "iopub.status.idle": "2023-12-09T18:14:59.127267Z",
     "shell.execute_reply": "2023-12-09T18:14:59.126636Z",
     "shell.execute_reply.started": "2023-12-09T18:14:59.111034Z"
    }
   },
   "outputs": [
    {
     "name": "stdout",
     "output_type": "stream",
     "text": [
      "     sess_id  seqnum   tradedate tradetime ticker clgroup     pos  pos_long  \\\n",
      "0       6922      59  2023-11-07  09:05:00     Si     FIZ -155138    439394   \n",
      "1       6922      59  2023-11-07  09:05:00     Si     YUR  155138   3192186   \n",
      "2       6922      60  2023-11-07  09:10:00     Si     FIZ -155331    439692   \n",
      "3       6922      60  2023-11-07  09:10:00     Si     YUR  155331   3192080   \n",
      "4       6922      61  2023-11-07  09:15:00     Si     FIZ -155165    439792   \n",
      "..       ...     ...         ...       ...    ...     ...     ...       ...   \n",
      "695     6924      56  2023-11-08  23:40:00     Si     YUR  140369   3221244   \n",
      "696     6924      57  2023-11-08  23:45:00     Si     FIZ -140319    456549   \n",
      "697     6924      57  2023-11-08  23:45:00     Si     YUR  140325   3221244   \n",
      "698     6924      58  2023-11-08  23:50:00     Si     FIZ -140215    455996   \n",
      "699     6924      58  2023-11-08  23:50:00     Si     YUR  140215   3221177   \n",
      "\n",
      "     pos_short  pos_long_num  pos_short_num              systime  \n",
      "0      -594532          7372          13209  2023-11-07 09:05:02  \n",
      "1     -3037048           231            196  2023-11-07 09:05:02  \n",
      "2      -595023          7403          13239  2023-11-07 09:10:06  \n",
      "3     -3036749           233            195  2023-11-07 09:10:06  \n",
      "4      -594957          7415          13266  2023-11-07 09:15:05  \n",
      "..         ...           ...            ...                  ...  \n",
      "695   -3080875           249            182  2023-11-08 23:40:06  \n",
      "696    -596868          7368          13637  2023-11-08 23:45:06  \n",
      "697   -3080919           249            182  2023-11-08 23:45:06  \n",
      "698    -596211          7344          13611  2023-11-08 23:50:07  \n",
      "699   -3080962           249            182  2023-11-08 23:50:07  \n",
      "\n",
      "[700 rows x 12 columns]\n",
      "700\n"
     ]
    }
   ],
   "source": [
    "print(df1.sort_values(by=['ticker', 'tradedate','tradetime']).reset_index().drop('index', axis=1))\n",
    "print(len(np.array(df1['ticker'])))"
   ]
  },
  {
   "cell_type": "code",
   "execution_count": 6,
   "id": "2e55ad53-d4c4-460e-b946-a0c329193bda",
   "metadata": {
    "execution": {
     "iopub.execute_input": "2023-12-09T18:14:59.128444Z",
     "iopub.status.busy": "2023-12-09T18:14:59.128124Z",
     "iopub.status.idle": "2023-12-09T18:14:59.150368Z",
     "shell.execute_reply": "2023-12-09T18:14:59.149634Z",
     "shell.execute_reply.started": "2023-12-09T18:14:59.128419Z"
    }
   },
   "outputs": [
    {
     "data": {
      "text/html": [
       "<div>\n",
       "<style scoped>\n",
       "    .dataframe tbody tr th:only-of-type {\n",
       "        vertical-align: middle;\n",
       "    }\n",
       "\n",
       "    .dataframe tbody tr th {\n",
       "        vertical-align: top;\n",
       "    }\n",
       "\n",
       "    .dataframe thead th {\n",
       "        text-align: right;\n",
       "    }\n",
       "</style>\n",
       "<table border=\"1\" class=\"dataframe\">\n",
       "  <thead>\n",
       "    <tr style=\"text-align: right;\">\n",
       "      <th></th>\n",
       "      <th>sess_id</th>\n",
       "      <th>seqnum</th>\n",
       "      <th>tradedate</th>\n",
       "      <th>tradetime</th>\n",
       "      <th>ticker</th>\n",
       "      <th>clgroup</th>\n",
       "      <th>pos</th>\n",
       "      <th>pos_long</th>\n",
       "      <th>pos_short</th>\n",
       "      <th>pos_long_num</th>\n",
       "      <th>pos_short_num</th>\n",
       "      <th>systime</th>\n",
       "    </tr>\n",
       "  </thead>\n",
       "  <tbody>\n",
       "    <tr>\n",
       "      <th>0</th>\n",
       "      <td>6921</td>\n",
       "      <td>59</td>\n",
       "      <td>2023-11-06</td>\n",
       "      <td>09:05:00</td>\n",
       "      <td>Si</td>\n",
       "      <td>FIZ</td>\n",
       "      <td>-152370</td>\n",
       "      <td>438179</td>\n",
       "      <td>-590549</td>\n",
       "      <td>7646</td>\n",
       "      <td>12891</td>\n",
       "      <td>2023-11-06 09:05:03</td>\n",
       "    </tr>\n",
       "    <tr>\n",
       "      <th>1</th>\n",
       "      <td>6921</td>\n",
       "      <td>59</td>\n",
       "      <td>2023-11-06</td>\n",
       "      <td>09:05:00</td>\n",
       "      <td>Si</td>\n",
       "      <td>YUR</td>\n",
       "      <td>152370</td>\n",
       "      <td>3193000</td>\n",
       "      <td>-3040630</td>\n",
       "      <td>234</td>\n",
       "      <td>188</td>\n",
       "      <td>2023-11-06 09:05:03</td>\n",
       "    </tr>\n",
       "    <tr>\n",
       "      <th>2</th>\n",
       "      <td>6921</td>\n",
       "      <td>60</td>\n",
       "      <td>2023-11-06</td>\n",
       "      <td>09:10:00</td>\n",
       "      <td>Si</td>\n",
       "      <td>FIZ</td>\n",
       "      <td>-152566</td>\n",
       "      <td>437884</td>\n",
       "      <td>-590450</td>\n",
       "      <td>7660</td>\n",
       "      <td>12881</td>\n",
       "      <td>2023-11-06 09:10:05</td>\n",
       "    </tr>\n",
       "    <tr>\n",
       "      <th>3</th>\n",
       "      <td>6921</td>\n",
       "      <td>60</td>\n",
       "      <td>2023-11-06</td>\n",
       "      <td>09:10:00</td>\n",
       "      <td>Si</td>\n",
       "      <td>YUR</td>\n",
       "      <td>152566</td>\n",
       "      <td>3192851</td>\n",
       "      <td>-3040285</td>\n",
       "      <td>237</td>\n",
       "      <td>185</td>\n",
       "      <td>2023-11-06 09:10:05</td>\n",
       "    </tr>\n",
       "    <tr>\n",
       "      <th>4</th>\n",
       "      <td>6921</td>\n",
       "      <td>61</td>\n",
       "      <td>2023-11-06</td>\n",
       "      <td>09:15:00</td>\n",
       "      <td>Si</td>\n",
       "      <td>FIZ</td>\n",
       "      <td>-152331</td>\n",
       "      <td>437356</td>\n",
       "      <td>-589687</td>\n",
       "      <td>7675</td>\n",
       "      <td>12905</td>\n",
       "      <td>2023-11-06 09:15:05</td>\n",
       "    </tr>\n",
       "    <tr>\n",
       "      <th>...</th>\n",
       "      <td>...</td>\n",
       "      <td>...</td>\n",
       "      <td>...</td>\n",
       "      <td>...</td>\n",
       "      <td>...</td>\n",
       "      <td>...</td>\n",
       "      <td>...</td>\n",
       "      <td>...</td>\n",
       "      <td>...</td>\n",
       "      <td>...</td>\n",
       "      <td>...</td>\n",
       "      <td>...</td>\n",
       "    </tr>\n",
       "    <tr>\n",
       "      <th>695</th>\n",
       "      <td>6923</td>\n",
       "      <td>56</td>\n",
       "      <td>2023-11-07</td>\n",
       "      <td>23:40:00</td>\n",
       "      <td>Si</td>\n",
       "      <td>YUR</td>\n",
       "      <td>117102</td>\n",
       "      <td>3193534</td>\n",
       "      <td>-3076432</td>\n",
       "      <td>241</td>\n",
       "      <td>183</td>\n",
       "      <td>2023-11-07 23:40:06</td>\n",
       "    </tr>\n",
       "    <tr>\n",
       "      <th>696</th>\n",
       "      <td>6923</td>\n",
       "      <td>57</td>\n",
       "      <td>2023-11-07</td>\n",
       "      <td>23:45:00</td>\n",
       "      <td>Si</td>\n",
       "      <td>FIZ</td>\n",
       "      <td>-117198</td>\n",
       "      <td>460148</td>\n",
       "      <td>-577346</td>\n",
       "      <td>7857</td>\n",
       "      <td>12383</td>\n",
       "      <td>2023-11-07 23:45:06</td>\n",
       "    </tr>\n",
       "    <tr>\n",
       "      <th>697</th>\n",
       "      <td>6923</td>\n",
       "      <td>57</td>\n",
       "      <td>2023-11-07</td>\n",
       "      <td>23:45:00</td>\n",
       "      <td>Si</td>\n",
       "      <td>YUR</td>\n",
       "      <td>117198</td>\n",
       "      <td>3193535</td>\n",
       "      <td>-3076337</td>\n",
       "      <td>242</td>\n",
       "      <td>182</td>\n",
       "      <td>2023-11-07 23:45:06</td>\n",
       "    </tr>\n",
       "    <tr>\n",
       "      <th>698</th>\n",
       "      <td>6923</td>\n",
       "      <td>58</td>\n",
       "      <td>2023-11-07</td>\n",
       "      <td>23:50:00</td>\n",
       "      <td>Si</td>\n",
       "      <td>FIZ</td>\n",
       "      <td>-117280</td>\n",
       "      <td>459912</td>\n",
       "      <td>-577192</td>\n",
       "      <td>7844</td>\n",
       "      <td>12367</td>\n",
       "      <td>2023-11-07 23:50:06</td>\n",
       "    </tr>\n",
       "    <tr>\n",
       "      <th>699</th>\n",
       "      <td>6923</td>\n",
       "      <td>58</td>\n",
       "      <td>2023-11-07</td>\n",
       "      <td>23:50:00</td>\n",
       "      <td>Si</td>\n",
       "      <td>YUR</td>\n",
       "      <td>117280</td>\n",
       "      <td>3193508</td>\n",
       "      <td>-3076228</td>\n",
       "      <td>241</td>\n",
       "      <td>183</td>\n",
       "      <td>2023-11-07 23:50:06</td>\n",
       "    </tr>\n",
       "  </tbody>\n",
       "</table>\n",
       "<p>700 rows × 12 columns</p>\n",
       "</div>"
      ],
      "text/plain": [
       "     sess_id  seqnum   tradedate tradetime ticker clgroup     pos  pos_long  \\\n",
       "0       6921      59  2023-11-06  09:05:00     Si     FIZ -152370    438179   \n",
       "1       6921      59  2023-11-06  09:05:00     Si     YUR  152370   3193000   \n",
       "2       6921      60  2023-11-06  09:10:00     Si     FIZ -152566    437884   \n",
       "3       6921      60  2023-11-06  09:10:00     Si     YUR  152566   3192851   \n",
       "4       6921      61  2023-11-06  09:15:00     Si     FIZ -152331    437356   \n",
       "..       ...     ...         ...       ...    ...     ...     ...       ...   \n",
       "695     6923      56  2023-11-07  23:40:00     Si     YUR  117102   3193534   \n",
       "696     6923      57  2023-11-07  23:45:00     Si     FIZ -117198    460148   \n",
       "697     6923      57  2023-11-07  23:45:00     Si     YUR  117198   3193535   \n",
       "698     6923      58  2023-11-07  23:50:00     Si     FIZ -117280    459912   \n",
       "699     6923      58  2023-11-07  23:50:00     Si     YUR  117280   3193508   \n",
       "\n",
       "     pos_short  pos_long_num  pos_short_num              systime  \n",
       "0      -590549          7646          12891  2023-11-06 09:05:03  \n",
       "1     -3040630           234            188  2023-11-06 09:05:03  \n",
       "2      -590450          7660          12881  2023-11-06 09:10:05  \n",
       "3     -3040285           237            185  2023-11-06 09:10:05  \n",
       "4      -589687          7675          12905  2023-11-06 09:15:05  \n",
       "..         ...           ...            ...                  ...  \n",
       "695   -3076432           241            183  2023-11-07 23:40:06  \n",
       "696    -577346          7857          12383  2023-11-07 23:45:06  \n",
       "697   -3076337           242            182  2023-11-07 23:45:06  \n",
       "698    -577192          7844          12367  2023-11-07 23:50:06  \n",
       "699   -3076228           241            183  2023-11-07 23:50:06  \n",
       "\n",
       "[700 rows x 12 columns]"
      ]
     },
     "execution_count": 6,
     "metadata": {},
     "output_type": "execute_result"
    }
   ],
   "source": [
    "df2.sort_values(by=['ticker', 'tradedate', 'tradetime']).reset_index().drop('index', axis=1)"
   ]
  },
  {
   "cell_type": "code",
   "execution_count": 7,
   "id": "b0b913bf-ddef-44df-b662-480d0126b6b4",
   "metadata": {
    "execution": {
     "iopub.execute_input": "2023-12-09T18:14:59.151802Z",
     "iopub.status.busy": "2023-12-09T18:14:59.151323Z",
     "iopub.status.idle": "2023-12-09T18:14:59.155926Z",
     "shell.execute_reply": "2023-12-09T18:14:59.155238Z",
     "shell.execute_reply.started": "2023-12-09T18:14:59.151767Z"
    }
   },
   "outputs": [
    {
     "name": "stdout",
     "output_type": "stream",
     "text": [
      "700\n"
     ]
    }
   ],
   "source": [
    "print(len(np.array(df2['ticker'])))"
   ]
  },
  {
   "cell_type": "code",
   "execution_count": 8,
   "id": "e46119e7-10c9-4258-9a9a-4256d841722d",
   "metadata": {
    "execution": {
     "iopub.execute_input": "2023-12-09T18:14:59.157071Z",
     "iopub.status.busy": "2023-12-09T18:14:59.156666Z",
     "iopub.status.idle": "2023-12-09T18:14:59.173809Z",
     "shell.execute_reply": "2023-12-09T18:14:59.173118Z",
     "shell.execute_reply.started": "2023-12-09T18:14:59.157028Z"
    }
   },
   "outputs": [
    {
     "name": "stdout",
     "output_type": "stream",
     "text": [
      "      sess_id  seqnum   tradedate tradetime ticker clgroup     pos  pos_long  \\\n",
      "0        6921      59  2023-11-06  09:05:00     Si     FIZ -152370    438179   \n",
      "1        6921      59  2023-11-06  09:05:00     Si     YUR  152370   3193000   \n",
      "2        6921      60  2023-11-06  09:10:00     Si     FIZ -152566    437884   \n",
      "3        6921      60  2023-11-06  09:10:00     Si     YUR  152566   3192851   \n",
      "4        6921      61  2023-11-06  09:15:00     Si     FIZ -152331    437356   \n",
      "...       ...     ...         ...       ...    ...     ...     ...       ...   \n",
      "1395     6924      56  2023-11-08  23:40:00     Si     YUR  140369   3221244   \n",
      "1396     6924      57  2023-11-08  23:45:00     Si     FIZ -140319    456549   \n",
      "1397     6924      57  2023-11-08  23:45:00     Si     YUR  140325   3221244   \n",
      "1398     6924      58  2023-11-08  23:50:00     Si     FIZ -140215    455996   \n",
      "1399     6924      58  2023-11-08  23:50:00     Si     YUR  140215   3221177   \n",
      "\n",
      "      pos_short  pos_long_num  pos_short_num              systime  \n",
      "0       -590549          7646          12891  2023-11-06 09:05:03  \n",
      "1      -3040630           234            188  2023-11-06 09:05:03  \n",
      "2       -590450          7660          12881  2023-11-06 09:10:05  \n",
      "3      -3040285           237            185  2023-11-06 09:10:05  \n",
      "4       -589687          7675          12905  2023-11-06 09:15:05  \n",
      "...         ...           ...            ...                  ...  \n",
      "1395   -3080875           249            182  2023-11-08 23:40:06  \n",
      "1396    -596868          7368          13637  2023-11-08 23:45:06  \n",
      "1397   -3080919           249            182  2023-11-08 23:45:06  \n",
      "1398    -596211          7344          13611  2023-11-08 23:50:07  \n",
      "1399   -3080962           249            182  2023-11-08 23:50:07  \n",
      "\n",
      "[1400 rows x 12 columns]\n",
      "1400\n"
     ]
    }
   ],
   "source": [
    "frames = [df1, df2]\n",
    "\n",
    "result = pd.concat(frames).sort_values(by=['ticker', 'tradedate', 'tradetime']).reset_index().drop('index', axis=1)\n",
    "filename = \"aboba_date.csv\"\n",
    "result.to_csv(filename, sep=',', index=False, encoding='utf-8')\n",
    "\n",
    "print(result)\n",
    "\n",
    "print(len(np.array(result['ticker'])))"
   ]
  },
  {
   "cell_type": "markdown",
   "id": "dbd96785-8d91-40b0-939d-b2179b04869c",
   "metadata": {},
   "source": [
    "Далее будет пробегать по массиву дат и таким образом сформируем всю таблицу"
   ]
  },
  {
   "cell_type": "markdown",
   "id": "d8510040-967f-4be1-9e00-8a6631aa510d",
   "metadata": {},
   "source": [
    "Ниже я задаю массив всех дат"
   ]
  },
  {
   "cell_type": "markdown",
   "id": "0e13737b-776e-4f66-a1f1-3e418ea79bcf",
   "metadata": {},
   "source": [
    "# Парсинг данных о позиций"
   ]
  },
  {
   "cell_type": "markdown",
   "id": "abde0d12-4db4-4fbc-9ab7-f7d06d3ad487",
   "metadata": {},
   "source": [
    "Сначала мы создаём массив, который содержить все даты, за которые мы хотим получить данные"
   ]
  },
  {
   "cell_type": "code",
   "execution_count": 9,
   "id": "6a0d48f5-16bd-4ba9-9b74-5675afafd480",
   "metadata": {
    "execution": {
     "iopub.execute_input": "2023-12-09T18:14:59.174565Z",
     "iopub.status.busy": "2023-12-09T18:14:59.174389Z",
     "iopub.status.idle": "2023-12-09T18:14:59.182035Z",
     "shell.execute_reply": "2023-12-09T18:14:59.181515Z",
     "shell.execute_reply.started": "2023-12-09T18:14:59.174548Z"
    },
    "scrolled": true
   },
   "outputs": [],
   "source": [
    "start_date = datetime(2020, 5, 8)\n",
    "end_date = datetime.now()\n",
    "\n",
    "current_date = start_date\n",
    "array_date = []\n",
    "while current_date <= end_date:\n",
    "    array_date += [current_date.strftime(\"%Y-%m-%d\")]\n",
    "    current_date += timedelta(days=1)"
   ]
  },
  {
   "cell_type": "markdown",
   "id": "0ba53871-b369-45c3-a011-b358dca6c333",
   "metadata": {},
   "source": [
    "Тут мы формируем массив из дней, а затем, если сервер работает хорошо, то возвращаем данные за весь промежуток от 5 августа 2020 до сегодняшнего дня. "
   ]
  },
  {
   "cell_type": "markdown",
   "id": "dbf91a1a-a841-435b-93b8-f76aa355790a",
   "metadata": {},
   "source": [
    "Если сервер перестаёт отвечать, тогда полученные данные мы собираем в файл и при повторном запуске программа проверить наши файлы и начнёт с последнего записанного дня."
   ]
  },
  {
   "cell_type": "markdown",
   "id": "5edcff02-0488-4eaf-a786-9e3a30a59d62",
   "metadata": {
    "execution": {
     "iopub.execute_input": "2023-12-01T19:32:17.593040Z",
     "iopub.status.busy": "2023-12-01T19:32:17.592042Z",
     "iopub.status.idle": "2023-12-01T19:32:17.613037Z",
     "shell.execute_reply": "2023-12-01T19:32:17.612038Z",
     "shell.execute_reply.started": "2023-12-01T19:32:17.593040Z"
    }
   },
   "source": [
    "В качестве отладки печатается дата дня, который мы сейчас получаем. "
   ]
  },
  {
   "cell_type": "code",
   "execution_count": 10,
   "id": "84838e65-1b77-4d33-b6a5-afbd54555f22",
   "metadata": {
    "execution": {
     "iopub.execute_input": "2023-12-09T18:14:59.182789Z",
     "iopub.status.busy": "2023-12-09T18:14:59.182622Z",
     "iopub.status.idle": "2023-12-09T18:15:25.919179Z",
     "shell.execute_reply": "2023-12-09T18:15:25.918217Z",
     "shell.execute_reply.started": "2023-12-09T18:14:59.182773Z"
    },
    "scrolled": true
   },
   "outputs": [
    {
     "name": "stdout",
     "output_type": "stream",
     "text": [
      "Файл 'sr_full_date.csv' не существует.\n",
      "2020-05-08\n",
      "2020-05-09\n",
      "2020-05-10\n",
      "2020-05-11\n",
      "2020-05-12\n",
      "2020-05-13\n",
      "2020-05-14\n",
      "2020-05-15\n",
      "2020-05-16\n",
      "2020-05-17\n",
      "2020-05-18\n",
      "2020-05-19\n",
      "2020-05-20\n",
      "2020-05-21\n",
      "2020-05-22\n",
      "2020-05-23\n",
      "2020-05-24\n",
      "2020-05-25\n",
      "2020-05-26\n",
      "2020-05-27\n",
      "2020-05-28\n",
      "2020-05-29\n",
      "2020-05-30\n",
      "2020-05-31\n",
      "2020-06-01\n",
      "2020-06-02\n",
      "2020-06-03\n",
      "2020-06-04\n",
      "2020-06-05\n",
      "2020-06-06\n",
      "2020-06-07\n",
      "2020-06-08\n",
      "2020-06-09\n",
      "2020-06-10\n",
      "2020-06-11\n",
      "2020-06-12\n",
      "2020-06-13\n",
      "2020-06-14\n",
      "2020-06-15\n",
      "2020-06-16\n",
      "2020-06-17\n",
      "2020-06-18\n",
      "2020-06-19\n",
      "2020-06-20\n",
      "2020-06-21\n",
      "2020-06-22\n",
      "2020-06-23\n",
      "2020-06-24\n",
      "2020-06-25\n",
      "2020-06-26\n",
      "2020-06-27\n",
      "2020-06-28\n",
      "2020-06-29\n",
      "2020-06-30\n",
      "2020-07-01\n",
      "2020-07-02\n",
      "2020-07-03\n",
      "2020-07-04\n",
      "2020-07-05\n",
      "2020-07-06\n",
      "2020-07-07\n",
      "2020-07-08\n",
      "2020-07-09\n",
      "2020-07-10\n",
      "2020-07-11\n",
      "2020-07-12\n",
      "2020-07-13\n",
      "2020-07-14\n",
      "2020-07-15\n",
      "2020-07-16\n",
      "2020-07-17\n",
      "2020-07-18\n",
      "2020-07-19\n",
      "2020-07-20\n",
      "2020-07-21\n",
      "2020-07-22\n",
      "2020-07-23\n",
      "2020-07-24\n",
      "2020-07-25\n",
      "2020-07-26\n",
      "2020-07-27\n",
      "2020-07-28\n",
      "2020-07-29\n",
      "2020-07-30\n",
      "2020-07-31\n",
      "2020-08-01\n",
      "2020-08-02\n",
      "2020-08-03\n",
      "2020-08-04\n",
      "2020-08-05\n",
      "2020-08-06\n",
      "2020-08-07\n",
      "2020-08-08\n",
      "2020-08-09\n",
      "2020-08-10\n",
      "2020-08-11\n",
      "2020-08-12\n",
      "2020-08-13\n",
      "2020-08-14\n",
      "2020-08-15\n",
      "2020-08-16\n",
      "2020-08-17\n",
      "2020-08-18\n",
      "2020-08-19\n",
      "2020-08-20\n",
      "2020-08-21\n",
      "2020-08-22\n",
      "2020-08-23\n",
      "2020-08-24\n",
      "2020-08-25\n",
      "2020-08-26\n",
      "2020-08-27\n"
     ]
    },
    {
     "ename": "KeyboardInterrupt",
     "evalue": "",
     "output_type": "error",
     "traceback": [
      "\u001b[0;31m---------------------------------------------------------------------------\u001b[0m",
      "\u001b[0;31mKeyboardInterrupt\u001b[0m                         Traceback (most recent call last)",
      "Cell \u001b[0;32mIn[10], line 51\u001b[0m\n\u001b[1;32m     49\u001b[0m df_array \u001b[38;5;241m=\u001b[39m []\n\u001b[1;32m     50\u001b[0m \u001b[38;5;28;01mfor\u001b[39;00m date \u001b[38;5;129;01min\u001b[39;00m array_date:\n\u001b[0;32m---> 51\u001b[0m     df_array \u001b[38;5;241m+\u001b[39m\u001b[38;5;241m=\u001b[39m [\u001b[43madd_new_day\u001b[49m\u001b[43m(\u001b[49m\u001b[43mdate\u001b[49m\u001b[43m,\u001b[49m\u001b[43m \u001b[49m\u001b[43mticker_name\u001b[49m\u001b[43m)\u001b[49m]\n\u001b[1;32m     52\u001b[0m     \u001b[38;5;28mprint\u001b[39m(date)\n\u001b[1;32m     53\u001b[0m df \u001b[38;5;241m=\u001b[39m pd\u001b[38;5;241m.\u001b[39mconcat(df_array)\u001b[38;5;241m.\u001b[39msort_values(by\u001b[38;5;241m=\u001b[39m[\u001b[38;5;124m'\u001b[39m\u001b[38;5;124mticker\u001b[39m\u001b[38;5;124m'\u001b[39m, \u001b[38;5;124m'\u001b[39m\u001b[38;5;124mtradedate\u001b[39m\u001b[38;5;124m'\u001b[39m, \u001b[38;5;124m'\u001b[39m\u001b[38;5;124mtradetime\u001b[39m\u001b[38;5;124m'\u001b[39m])\u001b[38;5;241m.\u001b[39mreset_index()\u001b[38;5;241m.\u001b[39mdrop(\u001b[38;5;124m'\u001b[39m\u001b[38;5;124mindex\u001b[39m\u001b[38;5;124m'\u001b[39m, axis\u001b[38;5;241m=\u001b[39m\u001b[38;5;241m1\u001b[39m)\n",
      "Cell \u001b[0;32mIn[10], line 8\u001b[0m, in \u001b[0;36madd_new_day\u001b[0;34m(date_today, ticker_name)\u001b[0m\n\u001b[1;32m      5\u001b[0m \u001b[38;5;28;01mwhile\u001b[39;00m \u001b[38;5;28;01mTrue\u001b[39;00m:\n\u001b[1;32m      6\u001b[0m     \u001b[38;5;28;01mtry\u001b[39;00m:\n\u001b[1;32m      7\u001b[0m         \u001b[38;5;66;03m# Ваш код, который может вызвать ошибку\u001b[39;00m\n\u001b[0;32m----> 8\u001b[0m         response \u001b[38;5;241m=\u001b[39m \u001b[43mrq\u001b[49m\u001b[38;5;241;43m.\u001b[39;49m\u001b[43mget\u001b[49m\u001b[43m(\u001b[49m\u001b[43murl\u001b[49m\u001b[43m)\u001b[49m\n\u001b[1;32m      9\u001b[0m         \u001b[38;5;66;03m# break  # Если ошибки не возникло, выходим из цикла\u001b[39;00m\n\u001b[1;32m     10\u001b[0m     \u001b[38;5;28;01mexcept\u001b[39;00m \u001b[38;5;167;01mException\u001b[39;00m \u001b[38;5;28;01mas\u001b[39;00m e:\n\u001b[1;32m     11\u001b[0m         \u001b[38;5;66;03m# Обработка других исключений\u001b[39;00m\n",
      "File \u001b[0;32m~/myenv/lib/python3.10/site-packages/requests/api.py:73\u001b[0m, in \u001b[0;36mget\u001b[0;34m(url, params, **kwargs)\u001b[0m\n\u001b[1;32m     62\u001b[0m \u001b[38;5;28;01mdef\u001b[39;00m \u001b[38;5;21mget\u001b[39m(url, params\u001b[38;5;241m=\u001b[39m\u001b[38;5;28;01mNone\u001b[39;00m, \u001b[38;5;241m*\u001b[39m\u001b[38;5;241m*\u001b[39mkwargs):\n\u001b[1;32m     63\u001b[0m \u001b[38;5;250m    \u001b[39m\u001b[38;5;124mr\u001b[39m\u001b[38;5;124;03m\"\"\"Sends a GET request.\u001b[39;00m\n\u001b[1;32m     64\u001b[0m \n\u001b[1;32m     65\u001b[0m \u001b[38;5;124;03m    :param url: URL for the new :class:`Request` object.\u001b[39;00m\n\u001b[0;32m   (...)\u001b[0m\n\u001b[1;32m     70\u001b[0m \u001b[38;5;124;03m    :rtype: requests.Response\u001b[39;00m\n\u001b[1;32m     71\u001b[0m \u001b[38;5;124;03m    \"\"\"\u001b[39;00m\n\u001b[0;32m---> 73\u001b[0m     \u001b[38;5;28;01mreturn\u001b[39;00m \u001b[43mrequest\u001b[49m\u001b[43m(\u001b[49m\u001b[38;5;124;43m\"\u001b[39;49m\u001b[38;5;124;43mget\u001b[39;49m\u001b[38;5;124;43m\"\u001b[39;49m\u001b[43m,\u001b[49m\u001b[43m \u001b[49m\u001b[43murl\u001b[49m\u001b[43m,\u001b[49m\u001b[43m \u001b[49m\u001b[43mparams\u001b[49m\u001b[38;5;241;43m=\u001b[39;49m\u001b[43mparams\u001b[49m\u001b[43m,\u001b[49m\u001b[43m \u001b[49m\u001b[38;5;241;43m*\u001b[39;49m\u001b[38;5;241;43m*\u001b[39;49m\u001b[43mkwargs\u001b[49m\u001b[43m)\u001b[49m\n",
      "File \u001b[0;32m~/myenv/lib/python3.10/site-packages/requests/api.py:59\u001b[0m, in \u001b[0;36mrequest\u001b[0;34m(method, url, **kwargs)\u001b[0m\n\u001b[1;32m     55\u001b[0m \u001b[38;5;66;03m# By using the 'with' statement we are sure the session is closed, thus we\u001b[39;00m\n\u001b[1;32m     56\u001b[0m \u001b[38;5;66;03m# avoid leaving sockets open which can trigger a ResourceWarning in some\u001b[39;00m\n\u001b[1;32m     57\u001b[0m \u001b[38;5;66;03m# cases, and look like a memory leak in others.\u001b[39;00m\n\u001b[1;32m     58\u001b[0m \u001b[38;5;28;01mwith\u001b[39;00m sessions\u001b[38;5;241m.\u001b[39mSession() \u001b[38;5;28;01mas\u001b[39;00m session:\n\u001b[0;32m---> 59\u001b[0m     \u001b[38;5;28;01mreturn\u001b[39;00m \u001b[43msession\u001b[49m\u001b[38;5;241;43m.\u001b[39;49m\u001b[43mrequest\u001b[49m\u001b[43m(\u001b[49m\u001b[43mmethod\u001b[49m\u001b[38;5;241;43m=\u001b[39;49m\u001b[43mmethod\u001b[49m\u001b[43m,\u001b[49m\u001b[43m \u001b[49m\u001b[43murl\u001b[49m\u001b[38;5;241;43m=\u001b[39;49m\u001b[43murl\u001b[49m\u001b[43m,\u001b[49m\u001b[43m \u001b[49m\u001b[38;5;241;43m*\u001b[39;49m\u001b[38;5;241;43m*\u001b[39;49m\u001b[43mkwargs\u001b[49m\u001b[43m)\u001b[49m\n",
      "File \u001b[0;32m~/myenv/lib/python3.10/site-packages/requests/sessions.py:589\u001b[0m, in \u001b[0;36mSession.request\u001b[0;34m(self, method, url, params, data, headers, cookies, files, auth, timeout, allow_redirects, proxies, hooks, stream, verify, cert, json)\u001b[0m\n\u001b[1;32m    584\u001b[0m send_kwargs \u001b[38;5;241m=\u001b[39m {\n\u001b[1;32m    585\u001b[0m     \u001b[38;5;124m\"\u001b[39m\u001b[38;5;124mtimeout\u001b[39m\u001b[38;5;124m\"\u001b[39m: timeout,\n\u001b[1;32m    586\u001b[0m     \u001b[38;5;124m\"\u001b[39m\u001b[38;5;124mallow_redirects\u001b[39m\u001b[38;5;124m\"\u001b[39m: allow_redirects,\n\u001b[1;32m    587\u001b[0m }\n\u001b[1;32m    588\u001b[0m send_kwargs\u001b[38;5;241m.\u001b[39mupdate(settings)\n\u001b[0;32m--> 589\u001b[0m resp \u001b[38;5;241m=\u001b[39m \u001b[38;5;28;43mself\u001b[39;49m\u001b[38;5;241;43m.\u001b[39;49m\u001b[43msend\u001b[49m\u001b[43m(\u001b[49m\u001b[43mprep\u001b[49m\u001b[43m,\u001b[49m\u001b[43m \u001b[49m\u001b[38;5;241;43m*\u001b[39;49m\u001b[38;5;241;43m*\u001b[39;49m\u001b[43msend_kwargs\u001b[49m\u001b[43m)\u001b[49m\n\u001b[1;32m    591\u001b[0m \u001b[38;5;28;01mreturn\u001b[39;00m resp\n",
      "File \u001b[0;32m~/myenv/lib/python3.10/site-packages/requests/sessions.py:703\u001b[0m, in \u001b[0;36mSession.send\u001b[0;34m(self, request, **kwargs)\u001b[0m\n\u001b[1;32m    700\u001b[0m start \u001b[38;5;241m=\u001b[39m preferred_clock()\n\u001b[1;32m    702\u001b[0m \u001b[38;5;66;03m# Send the request\u001b[39;00m\n\u001b[0;32m--> 703\u001b[0m r \u001b[38;5;241m=\u001b[39m \u001b[43madapter\u001b[49m\u001b[38;5;241;43m.\u001b[39;49m\u001b[43msend\u001b[49m\u001b[43m(\u001b[49m\u001b[43mrequest\u001b[49m\u001b[43m,\u001b[49m\u001b[43m \u001b[49m\u001b[38;5;241;43m*\u001b[39;49m\u001b[38;5;241;43m*\u001b[39;49m\u001b[43mkwargs\u001b[49m\u001b[43m)\u001b[49m\n\u001b[1;32m    705\u001b[0m \u001b[38;5;66;03m# Total elapsed time of the request (approximately)\u001b[39;00m\n\u001b[1;32m    706\u001b[0m elapsed \u001b[38;5;241m=\u001b[39m preferred_clock() \u001b[38;5;241m-\u001b[39m start\n",
      "File \u001b[0;32m~/myenv/lib/python3.10/site-packages/requests/adapters.py:486\u001b[0m, in \u001b[0;36mHTTPAdapter.send\u001b[0;34m(self, request, stream, timeout, verify, cert, proxies)\u001b[0m\n\u001b[1;32m    483\u001b[0m     timeout \u001b[38;5;241m=\u001b[39m TimeoutSauce(connect\u001b[38;5;241m=\u001b[39mtimeout, read\u001b[38;5;241m=\u001b[39mtimeout)\n\u001b[1;32m    485\u001b[0m \u001b[38;5;28;01mtry\u001b[39;00m:\n\u001b[0;32m--> 486\u001b[0m     resp \u001b[38;5;241m=\u001b[39m \u001b[43mconn\u001b[49m\u001b[38;5;241;43m.\u001b[39;49m\u001b[43murlopen\u001b[49m\u001b[43m(\u001b[49m\n\u001b[1;32m    487\u001b[0m \u001b[43m        \u001b[49m\u001b[43mmethod\u001b[49m\u001b[38;5;241;43m=\u001b[39;49m\u001b[43mrequest\u001b[49m\u001b[38;5;241;43m.\u001b[39;49m\u001b[43mmethod\u001b[49m\u001b[43m,\u001b[49m\n\u001b[1;32m    488\u001b[0m \u001b[43m        \u001b[49m\u001b[43murl\u001b[49m\u001b[38;5;241;43m=\u001b[39;49m\u001b[43murl\u001b[49m\u001b[43m,\u001b[49m\n\u001b[1;32m    489\u001b[0m \u001b[43m        \u001b[49m\u001b[43mbody\u001b[49m\u001b[38;5;241;43m=\u001b[39;49m\u001b[43mrequest\u001b[49m\u001b[38;5;241;43m.\u001b[39;49m\u001b[43mbody\u001b[49m\u001b[43m,\u001b[49m\n\u001b[1;32m    490\u001b[0m \u001b[43m        \u001b[49m\u001b[43mheaders\u001b[49m\u001b[38;5;241;43m=\u001b[39;49m\u001b[43mrequest\u001b[49m\u001b[38;5;241;43m.\u001b[39;49m\u001b[43mheaders\u001b[49m\u001b[43m,\u001b[49m\n\u001b[1;32m    491\u001b[0m \u001b[43m        \u001b[49m\u001b[43mredirect\u001b[49m\u001b[38;5;241;43m=\u001b[39;49m\u001b[38;5;28;43;01mFalse\u001b[39;49;00m\u001b[43m,\u001b[49m\n\u001b[1;32m    492\u001b[0m \u001b[43m        \u001b[49m\u001b[43massert_same_host\u001b[49m\u001b[38;5;241;43m=\u001b[39;49m\u001b[38;5;28;43;01mFalse\u001b[39;49;00m\u001b[43m,\u001b[49m\n\u001b[1;32m    493\u001b[0m \u001b[43m        \u001b[49m\u001b[43mpreload_content\u001b[49m\u001b[38;5;241;43m=\u001b[39;49m\u001b[38;5;28;43;01mFalse\u001b[39;49;00m\u001b[43m,\u001b[49m\n\u001b[1;32m    494\u001b[0m \u001b[43m        \u001b[49m\u001b[43mdecode_content\u001b[49m\u001b[38;5;241;43m=\u001b[39;49m\u001b[38;5;28;43;01mFalse\u001b[39;49;00m\u001b[43m,\u001b[49m\n\u001b[1;32m    495\u001b[0m \u001b[43m        \u001b[49m\u001b[43mretries\u001b[49m\u001b[38;5;241;43m=\u001b[39;49m\u001b[38;5;28;43mself\u001b[39;49m\u001b[38;5;241;43m.\u001b[39;49m\u001b[43mmax_retries\u001b[49m\u001b[43m,\u001b[49m\n\u001b[1;32m    496\u001b[0m \u001b[43m        \u001b[49m\u001b[43mtimeout\u001b[49m\u001b[38;5;241;43m=\u001b[39;49m\u001b[43mtimeout\u001b[49m\u001b[43m,\u001b[49m\n\u001b[1;32m    497\u001b[0m \u001b[43m        \u001b[49m\u001b[43mchunked\u001b[49m\u001b[38;5;241;43m=\u001b[39;49m\u001b[43mchunked\u001b[49m\u001b[43m,\u001b[49m\n\u001b[1;32m    498\u001b[0m \u001b[43m    \u001b[49m\u001b[43m)\u001b[49m\n\u001b[1;32m    500\u001b[0m \u001b[38;5;28;01mexcept\u001b[39;00m (ProtocolError, \u001b[38;5;167;01mOSError\u001b[39;00m) \u001b[38;5;28;01mas\u001b[39;00m err:\n\u001b[1;32m    501\u001b[0m     \u001b[38;5;28;01mraise\u001b[39;00m \u001b[38;5;167;01mConnectionError\u001b[39;00m(err, request\u001b[38;5;241m=\u001b[39mrequest)\n",
      "File \u001b[0;32m~/myenv/lib/python3.10/site-packages/urllib3/connectionpool.py:790\u001b[0m, in \u001b[0;36mHTTPConnectionPool.urlopen\u001b[0;34m(self, method, url, body, headers, retries, redirect, assert_same_host, timeout, pool_timeout, release_conn, chunked, body_pos, preload_content, decode_content, **response_kw)\u001b[0m\n\u001b[1;32m    787\u001b[0m response_conn \u001b[38;5;241m=\u001b[39m conn \u001b[38;5;28;01mif\u001b[39;00m \u001b[38;5;129;01mnot\u001b[39;00m release_conn \u001b[38;5;28;01melse\u001b[39;00m \u001b[38;5;28;01mNone\u001b[39;00m\n\u001b[1;32m    789\u001b[0m \u001b[38;5;66;03m# Make the request on the HTTPConnection object\u001b[39;00m\n\u001b[0;32m--> 790\u001b[0m response \u001b[38;5;241m=\u001b[39m \u001b[38;5;28;43mself\u001b[39;49m\u001b[38;5;241;43m.\u001b[39;49m\u001b[43m_make_request\u001b[49m\u001b[43m(\u001b[49m\n\u001b[1;32m    791\u001b[0m \u001b[43m    \u001b[49m\u001b[43mconn\u001b[49m\u001b[43m,\u001b[49m\n\u001b[1;32m    792\u001b[0m \u001b[43m    \u001b[49m\u001b[43mmethod\u001b[49m\u001b[43m,\u001b[49m\n\u001b[1;32m    793\u001b[0m \u001b[43m    \u001b[49m\u001b[43murl\u001b[49m\u001b[43m,\u001b[49m\n\u001b[1;32m    794\u001b[0m \u001b[43m    \u001b[49m\u001b[43mtimeout\u001b[49m\u001b[38;5;241;43m=\u001b[39;49m\u001b[43mtimeout_obj\u001b[49m\u001b[43m,\u001b[49m\n\u001b[1;32m    795\u001b[0m \u001b[43m    \u001b[49m\u001b[43mbody\u001b[49m\u001b[38;5;241;43m=\u001b[39;49m\u001b[43mbody\u001b[49m\u001b[43m,\u001b[49m\n\u001b[1;32m    796\u001b[0m \u001b[43m    \u001b[49m\u001b[43mheaders\u001b[49m\u001b[38;5;241;43m=\u001b[39;49m\u001b[43mheaders\u001b[49m\u001b[43m,\u001b[49m\n\u001b[1;32m    797\u001b[0m \u001b[43m    \u001b[49m\u001b[43mchunked\u001b[49m\u001b[38;5;241;43m=\u001b[39;49m\u001b[43mchunked\u001b[49m\u001b[43m,\u001b[49m\n\u001b[1;32m    798\u001b[0m \u001b[43m    \u001b[49m\u001b[43mretries\u001b[49m\u001b[38;5;241;43m=\u001b[39;49m\u001b[43mretries\u001b[49m\u001b[43m,\u001b[49m\n\u001b[1;32m    799\u001b[0m \u001b[43m    \u001b[49m\u001b[43mresponse_conn\u001b[49m\u001b[38;5;241;43m=\u001b[39;49m\u001b[43mresponse_conn\u001b[49m\u001b[43m,\u001b[49m\n\u001b[1;32m    800\u001b[0m \u001b[43m    \u001b[49m\u001b[43mpreload_content\u001b[49m\u001b[38;5;241;43m=\u001b[39;49m\u001b[43mpreload_content\u001b[49m\u001b[43m,\u001b[49m\n\u001b[1;32m    801\u001b[0m \u001b[43m    \u001b[49m\u001b[43mdecode_content\u001b[49m\u001b[38;5;241;43m=\u001b[39;49m\u001b[43mdecode_content\u001b[49m\u001b[43m,\u001b[49m\n\u001b[1;32m    802\u001b[0m \u001b[43m    \u001b[49m\u001b[38;5;241;43m*\u001b[39;49m\u001b[38;5;241;43m*\u001b[39;49m\u001b[43mresponse_kw\u001b[49m\u001b[43m,\u001b[49m\n\u001b[1;32m    803\u001b[0m \u001b[43m\u001b[49m\u001b[43m)\u001b[49m\n\u001b[1;32m    805\u001b[0m \u001b[38;5;66;03m# Everything went great!\u001b[39;00m\n\u001b[1;32m    806\u001b[0m clean_exit \u001b[38;5;241m=\u001b[39m \u001b[38;5;28;01mTrue\u001b[39;00m\n",
      "File \u001b[0;32m~/myenv/lib/python3.10/site-packages/urllib3/connectionpool.py:536\u001b[0m, in \u001b[0;36mHTTPConnectionPool._make_request\u001b[0;34m(self, conn, method, url, body, headers, retries, timeout, chunked, response_conn, preload_content, decode_content, enforce_content_length)\u001b[0m\n\u001b[1;32m    534\u001b[0m \u001b[38;5;66;03m# Receive the response from the server\u001b[39;00m\n\u001b[1;32m    535\u001b[0m \u001b[38;5;28;01mtry\u001b[39;00m:\n\u001b[0;32m--> 536\u001b[0m     response \u001b[38;5;241m=\u001b[39m \u001b[43mconn\u001b[49m\u001b[38;5;241;43m.\u001b[39;49m\u001b[43mgetresponse\u001b[49m\u001b[43m(\u001b[49m\u001b[43m)\u001b[49m\n\u001b[1;32m    537\u001b[0m \u001b[38;5;28;01mexcept\u001b[39;00m (BaseSSLError, \u001b[38;5;167;01mOSError\u001b[39;00m) \u001b[38;5;28;01mas\u001b[39;00m e:\n\u001b[1;32m    538\u001b[0m     \u001b[38;5;28mself\u001b[39m\u001b[38;5;241m.\u001b[39m_raise_timeout(err\u001b[38;5;241m=\u001b[39me, url\u001b[38;5;241m=\u001b[39murl, timeout_value\u001b[38;5;241m=\u001b[39mread_timeout)\n",
      "File \u001b[0;32m~/myenv/lib/python3.10/site-packages/urllib3/connection.py:461\u001b[0m, in \u001b[0;36mHTTPConnection.getresponse\u001b[0;34m(self)\u001b[0m\n\u001b[1;32m    458\u001b[0m \u001b[38;5;28;01mfrom\u001b[39;00m \u001b[38;5;21;01m.\u001b[39;00m\u001b[38;5;21;01mresponse\u001b[39;00m \u001b[38;5;28;01mimport\u001b[39;00m HTTPResponse\n\u001b[1;32m    460\u001b[0m \u001b[38;5;66;03m# Get the response from http.client.HTTPConnection\u001b[39;00m\n\u001b[0;32m--> 461\u001b[0m httplib_response \u001b[38;5;241m=\u001b[39m \u001b[38;5;28;43msuper\u001b[39;49m\u001b[43m(\u001b[49m\u001b[43m)\u001b[49m\u001b[38;5;241;43m.\u001b[39;49m\u001b[43mgetresponse\u001b[49m\u001b[43m(\u001b[49m\u001b[43m)\u001b[49m\n\u001b[1;32m    463\u001b[0m \u001b[38;5;28;01mtry\u001b[39;00m:\n\u001b[1;32m    464\u001b[0m     assert_header_parsing(httplib_response\u001b[38;5;241m.\u001b[39mmsg)\n",
      "File \u001b[0;32m/usr/lib/python3.10/http/client.py:1375\u001b[0m, in \u001b[0;36mHTTPConnection.getresponse\u001b[0;34m(self)\u001b[0m\n\u001b[1;32m   1373\u001b[0m \u001b[38;5;28;01mtry\u001b[39;00m:\n\u001b[1;32m   1374\u001b[0m     \u001b[38;5;28;01mtry\u001b[39;00m:\n\u001b[0;32m-> 1375\u001b[0m         \u001b[43mresponse\u001b[49m\u001b[38;5;241;43m.\u001b[39;49m\u001b[43mbegin\u001b[49m\u001b[43m(\u001b[49m\u001b[43m)\u001b[49m\n\u001b[1;32m   1376\u001b[0m     \u001b[38;5;28;01mexcept\u001b[39;00m \u001b[38;5;167;01mConnectionError\u001b[39;00m:\n\u001b[1;32m   1377\u001b[0m         \u001b[38;5;28mself\u001b[39m\u001b[38;5;241m.\u001b[39mclose()\n",
      "File \u001b[0;32m/usr/lib/python3.10/http/client.py:318\u001b[0m, in \u001b[0;36mHTTPResponse.begin\u001b[0;34m(self)\u001b[0m\n\u001b[1;32m    316\u001b[0m \u001b[38;5;66;03m# read until we get a non-100 response\u001b[39;00m\n\u001b[1;32m    317\u001b[0m \u001b[38;5;28;01mwhile\u001b[39;00m \u001b[38;5;28;01mTrue\u001b[39;00m:\n\u001b[0;32m--> 318\u001b[0m     version, status, reason \u001b[38;5;241m=\u001b[39m \u001b[38;5;28;43mself\u001b[39;49m\u001b[38;5;241;43m.\u001b[39;49m\u001b[43m_read_status\u001b[49m\u001b[43m(\u001b[49m\u001b[43m)\u001b[49m\n\u001b[1;32m    319\u001b[0m     \u001b[38;5;28;01mif\u001b[39;00m status \u001b[38;5;241m!=\u001b[39m CONTINUE:\n\u001b[1;32m    320\u001b[0m         \u001b[38;5;28;01mbreak\u001b[39;00m\n",
      "File \u001b[0;32m/usr/lib/python3.10/http/client.py:279\u001b[0m, in \u001b[0;36mHTTPResponse._read_status\u001b[0;34m(self)\u001b[0m\n\u001b[1;32m    278\u001b[0m \u001b[38;5;28;01mdef\u001b[39;00m \u001b[38;5;21m_read_status\u001b[39m(\u001b[38;5;28mself\u001b[39m):\n\u001b[0;32m--> 279\u001b[0m     line \u001b[38;5;241m=\u001b[39m \u001b[38;5;28mstr\u001b[39m(\u001b[38;5;28;43mself\u001b[39;49m\u001b[38;5;241;43m.\u001b[39;49m\u001b[43mfp\u001b[49m\u001b[38;5;241;43m.\u001b[39;49m\u001b[43mreadline\u001b[49m\u001b[43m(\u001b[49m\u001b[43m_MAXLINE\u001b[49m\u001b[43m \u001b[49m\u001b[38;5;241;43m+\u001b[39;49m\u001b[43m \u001b[49m\u001b[38;5;241;43m1\u001b[39;49m\u001b[43m)\u001b[49m, \u001b[38;5;124m\"\u001b[39m\u001b[38;5;124miso-8859-1\u001b[39m\u001b[38;5;124m\"\u001b[39m)\n\u001b[1;32m    280\u001b[0m     \u001b[38;5;28;01mif\u001b[39;00m \u001b[38;5;28mlen\u001b[39m(line) \u001b[38;5;241m>\u001b[39m _MAXLINE:\n\u001b[1;32m    281\u001b[0m         \u001b[38;5;28;01mraise\u001b[39;00m LineTooLong(\u001b[38;5;124m\"\u001b[39m\u001b[38;5;124mstatus line\u001b[39m\u001b[38;5;124m\"\u001b[39m)\n",
      "File \u001b[0;32m/usr/lib/python3.10/socket.py:705\u001b[0m, in \u001b[0;36mSocketIO.readinto\u001b[0;34m(self, b)\u001b[0m\n\u001b[1;32m    703\u001b[0m \u001b[38;5;28;01mwhile\u001b[39;00m \u001b[38;5;28;01mTrue\u001b[39;00m:\n\u001b[1;32m    704\u001b[0m     \u001b[38;5;28;01mtry\u001b[39;00m:\n\u001b[0;32m--> 705\u001b[0m         \u001b[38;5;28;01mreturn\u001b[39;00m \u001b[38;5;28;43mself\u001b[39;49m\u001b[38;5;241;43m.\u001b[39;49m\u001b[43m_sock\u001b[49m\u001b[38;5;241;43m.\u001b[39;49m\u001b[43mrecv_into\u001b[49m\u001b[43m(\u001b[49m\u001b[43mb\u001b[49m\u001b[43m)\u001b[49m\n\u001b[1;32m    706\u001b[0m     \u001b[38;5;28;01mexcept\u001b[39;00m timeout:\n\u001b[1;32m    707\u001b[0m         \u001b[38;5;28mself\u001b[39m\u001b[38;5;241m.\u001b[39m_timeout_occurred \u001b[38;5;241m=\u001b[39m \u001b[38;5;28;01mTrue\u001b[39;00m\n",
      "File \u001b[0;32m/usr/lib/python3.10/ssl.py:1303\u001b[0m, in \u001b[0;36mSSLSocket.recv_into\u001b[0;34m(self, buffer, nbytes, flags)\u001b[0m\n\u001b[1;32m   1299\u001b[0m     \u001b[38;5;28;01mif\u001b[39;00m flags \u001b[38;5;241m!=\u001b[39m \u001b[38;5;241m0\u001b[39m:\n\u001b[1;32m   1300\u001b[0m         \u001b[38;5;28;01mraise\u001b[39;00m \u001b[38;5;167;01mValueError\u001b[39;00m(\n\u001b[1;32m   1301\u001b[0m           \u001b[38;5;124m\"\u001b[39m\u001b[38;5;124mnon-zero flags not allowed in calls to recv_into() on \u001b[39m\u001b[38;5;132;01m%s\u001b[39;00m\u001b[38;5;124m\"\u001b[39m \u001b[38;5;241m%\u001b[39m\n\u001b[1;32m   1302\u001b[0m           \u001b[38;5;28mself\u001b[39m\u001b[38;5;241m.\u001b[39m\u001b[38;5;18m__class__\u001b[39m)\n\u001b[0;32m-> 1303\u001b[0m     \u001b[38;5;28;01mreturn\u001b[39;00m \u001b[38;5;28;43mself\u001b[39;49m\u001b[38;5;241;43m.\u001b[39;49m\u001b[43mread\u001b[49m\u001b[43m(\u001b[49m\u001b[43mnbytes\u001b[49m\u001b[43m,\u001b[49m\u001b[43m \u001b[49m\u001b[43mbuffer\u001b[49m\u001b[43m)\u001b[49m\n\u001b[1;32m   1304\u001b[0m \u001b[38;5;28;01melse\u001b[39;00m:\n\u001b[1;32m   1305\u001b[0m     \u001b[38;5;28;01mreturn\u001b[39;00m \u001b[38;5;28msuper\u001b[39m()\u001b[38;5;241m.\u001b[39mrecv_into(buffer, nbytes, flags)\n",
      "File \u001b[0;32m/usr/lib/python3.10/ssl.py:1159\u001b[0m, in \u001b[0;36mSSLSocket.read\u001b[0;34m(self, len, buffer)\u001b[0m\n\u001b[1;32m   1157\u001b[0m \u001b[38;5;28;01mtry\u001b[39;00m:\n\u001b[1;32m   1158\u001b[0m     \u001b[38;5;28;01mif\u001b[39;00m buffer \u001b[38;5;129;01mis\u001b[39;00m \u001b[38;5;129;01mnot\u001b[39;00m \u001b[38;5;28;01mNone\u001b[39;00m:\n\u001b[0;32m-> 1159\u001b[0m         \u001b[38;5;28;01mreturn\u001b[39;00m \u001b[38;5;28;43mself\u001b[39;49m\u001b[38;5;241;43m.\u001b[39;49m\u001b[43m_sslobj\u001b[49m\u001b[38;5;241;43m.\u001b[39;49m\u001b[43mread\u001b[49m\u001b[43m(\u001b[49m\u001b[38;5;28;43mlen\u001b[39;49m\u001b[43m,\u001b[49m\u001b[43m \u001b[49m\u001b[43mbuffer\u001b[49m\u001b[43m)\u001b[49m\n\u001b[1;32m   1160\u001b[0m     \u001b[38;5;28;01melse\u001b[39;00m:\n\u001b[1;32m   1161\u001b[0m         \u001b[38;5;28;01mreturn\u001b[39;00m \u001b[38;5;28mself\u001b[39m\u001b[38;5;241m.\u001b[39m_sslobj\u001b[38;5;241m.\u001b[39mread(\u001b[38;5;28mlen\u001b[39m)\n",
      "\u001b[0;31mKeyboardInterrupt\u001b[0m: "
     ]
    }
   ],
   "source": [
    "def add_new_day(date_today: str, ticker_name: str):\n",
    "    date_yesterday = (datetime.strptime(date_today, '%Y-%m-%d') - timedelta(days=1)).strftime(\"%Y-%m-%d\")\n",
    "    url = f\"https://iss.moex.com/iss/analyticalproducts/futoi/securities/{ticker_name}.json?from={date_today}&till={date_today}&table_type=full\"\n",
    "\n",
    "    while True:\n",
    "        try:\n",
    "            # Ваш код, который может вызвать ошибку\n",
    "            response = rq.get(url)\n",
    "            # break  # Если ошибки не возникло, выходим из цикла\n",
    "        except Exception as e:\n",
    "            # Обработка других исключений\n",
    "            print(f\"Произошла ошибка: {e}\")\n",
    "        else:\n",
    "            break\n",
    "\n",
    "    # Проверяем статус ответа\n",
    "    if response.status_code != 200:\n",
    "        print(\"Ошибка при получении данных\")\n",
    "        add_new_day(date_today)\n",
    "\n",
    "    df_for_add = pd.DataFrame(response.json()[\"futoi\"][\"data\"], columns=response.json()[\"futoi\"]['columns'])\n",
    "    df_for_add.sort_values(by=['ticker', 'tradedate','tradetime']).reset_index().drop('index', axis=1)\n",
    "   \n",
    "    return df_for_add\n",
    "\n",
    "# ticker_names=['si', 'br', 'ri', 'eu', 'mx', 'sr', 'ox', 'gz', 'yn', 'fv', 'vi', 'lk']\n",
    "ticker_names=['sr', 'gz', 'lk', 'vb', 'rn', 'mn', 'af', 'al', 'sn', 'yn', 'tt', 'nm', 'hy', 'me', 'fv', 'gk', 'mg', 'ml']\n",
    "\n",
    "for ticker_name in ticker_names:\n",
    "    if os.path.exists(f\"{ticker_name}_full_date.csv\"):\n",
    "        df = pd.read_csv(f\"{ticker_name}_full_date.csv\")\n",
    "        last_valid_date_index = df['tradedate'].last_valid_index()\n",
    "        last_valid_date_value  = df['tradedate'][last_valid_date_index]\n",
    "        date_tomorrow = (datetime.strptime(last_valid_date_value, '%Y-%m-%d') + timedelta(days=1)).strftime(\"%Y-%m-%d\")\n",
    "        print(date_tomorrow)\n",
    "        if(not date_tomorrow in array_date):\n",
    "            pass\n",
    "        else:\n",
    "            df_array = [df]\n",
    "            for date in array_date[array_date.index(date_tomorrow)+1:]:\n",
    "                df_array += [add_new_day(date, ticker_name)]\n",
    "                print(date)\n",
    "            df = pd.concat(df_array).sort_values(by=['ticker', 'tradedate', 'tradetime']).reset_index().drop('index', axis=1)\n",
    "            print(df)\n",
    "            filename = f\"{ticker_name}_full_date.csv\"\n",
    "            df.to_csv(filename, sep=',', index=False, encoding='utf-8')\n",
    "    else:\n",
    "        print(f\"Файл '{ticker_name}_full_date.csv' не существует.\")\n",
    "        df_array = []\n",
    "        for date in array_date:\n",
    "            df_array += [add_new_day(date, ticker_name)]\n",
    "            print(date)\n",
    "        df = pd.concat(df_array).sort_values(by=['ticker', 'tradedate', 'tradetime']).reset_index().drop('index', axis=1)\n",
    "        print(df)\n",
    "        filename = f\"{ticker_name}_full_date.csv\"\n",
    "        df.to_csv(filename, sep=',', index=False, encoding='utf-8')\n",
    "\n",
    "    "
   ]
  },
  {
   "cell_type": "markdown",
   "id": "f392f195-2f64-4d24-af80-c7bab93ab885",
   "metadata": {},
   "source": [
    "Удаление повторяющихся данных (в силу того, как МосБиржа возвращала данные (в выходные дни вместо пустого запроса она возвращает последнюю цену за последний рабочий день, то есть 14*20 одинаковых записей, в силу чего эта ячейка позволяла сэкономить, примерно, 300 МБ))"
   ]
  },
  {
   "cell_type": "code",
   "execution_count": null,
   "id": "8da8fc23-3c8d-409b-b49b-239032dca593",
   "metadata": {
    "execution": {
     "iopub.status.busy": "2023-12-09T18:15:25.919706Z",
     "iopub.status.idle": "2023-12-09T18:15:25.919904Z",
     "shell.execute_reply": "2023-12-09T18:15:25.919815Z",
     "shell.execute_reply.started": "2023-12-09T18:15:25.919806Z"
    }
   },
   "outputs": [],
   "source": [
    "# ticker_names=['si', 'br', 'ri', 'eu', 'mx', 'sr', 'ox', 'gz', 'yn', 'fv', 'vi', 'lk']\n",
    "\n",
    "for ticker_name in ticker_names:\n",
    "    your_file = f\"{ticker_name}_full_date.csv\" \n",
    "# Загрузка данных\n",
    "    df = pd.read_csv(your_file)\n",
    "\n",
    "# Удаление повторяющихся строк\n",
    "    unique_rows = df.drop_duplicates()\n",
    "\n",
    "# Сохранение результата\n",
    "    unique_rows.to_csv(your_file, index=False)"
   ]
  },
  {
   "cell_type": "markdown",
   "id": "9c7e086b-8c36-4911-b493-25120e3d0626",
   "metadata": {},
   "source": [
    "Итоговые данные не идеальны, поэтому мы их будем обрабатывать в других данных."
   ]
  }
 ],
 "metadata": {
  "kernelspec": {
   "display_name": "Python 3 (ipykernel)",
   "language": "python",
   "name": "python3"
  },
  "language_info": {
   "codemirror_mode": {
    "name": "ipython",
    "version": 3
   },
   "file_extension": ".py",
   "mimetype": "text/x-python",
   "name": "python",
   "nbconvert_exporter": "python",
   "pygments_lexer": "ipython3",
   "version": "3.10.12"
  }
 },
 "nbformat": 4,
 "nbformat_minor": 5
}

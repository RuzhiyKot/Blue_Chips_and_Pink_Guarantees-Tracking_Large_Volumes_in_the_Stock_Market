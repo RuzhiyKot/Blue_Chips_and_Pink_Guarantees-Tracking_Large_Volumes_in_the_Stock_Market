{
  "nbformat": 4,
  "nbformat_minor": 0,
  "metadata": {
    "colab": {
      "provenance": [],
      "collapsed_sections": [
        "mTGTXDD7c9F5",
        "uF4Yl482gTsV",
        "MeQDC3ovfFt5"
      ],
      "authorship_tag": "ABX9TyPNGoutpRwlUasH8UXO04iq"
    },
    "kernelspec": {
      "name": "python3",
      "display_name": "Python 3"
    },
    "language_info": {
      "name": "python"
    }
  },
  "cells": [
    {
      "cell_type": "code",
      "source": [
        "import pandas as pd\n",
        "import numpy as np\n",
        "import seaborn as sns\n",
        "from matplotlib import pyplot as plt\n",
        "import matplotlib\n",
        "import requests as rq\n",
        "import csv\n",
        "import json"
      ],
      "metadata": {
        "id": "zNJ_8xvnfW7h"
      },
      "execution_count": 53,
      "outputs": []
    },
    {
      "cell_type": "markdown",
      "source": [
        "# Реализация через csv-файл"
      ],
      "metadata": {
        "id": "mTGTXDD7c9F5"
      }
    },
    {
      "cell_type": "markdown",
      "source": [
        "## Загрузка и первоначльная обработка данных"
      ],
      "metadata": {
        "id": "uF4Yl482gTsV"
      }
    },
    {
      "cell_type": "code",
      "source": [
        "# Ссылка на данные\n",
        "url = \"https://iss.moex.com/iss/analyticalproducts/futoi/securities.csv\""
      ],
      "metadata": {
        "id": "LEXJbIAcdpFu"
      },
      "execution_count": 48,
      "outputs": []
    },
    {
      "cell_type": "code",
      "execution_count": 49,
      "metadata": {
        "id": "eyJYi7lDSnQ1"
      },
      "outputs": [],
      "source": [
        "# Отправляем GET-запрос по указанному URL\n",
        "response = rq.get(url)\n",
        "\n",
        "# Проверяем, был ли запрос успешным (код состояния HTTP 200)\n",
        "if response.status_code == 200:\n",
        "    # Открываем файл для записи в бинарном режиме\n",
        "    with open(\"securities.csv\", \"wb\") as csv_file:\n",
        "        # Записываем содержимое ответа (CSV-файла) в локальный файл\n",
        "        csv_file.write(response.content)\n",
        "else:\n",
        "    print(\"Не удалось скачать файл. Код состояния HTTP:\", response.status_code)"
      ]
    },
    {
      "cell_type": "code",
      "source": [
        "# Разделяем информацию в файле\n",
        "with open('securities.csv', 'r', newline='') as csv_file:\n",
        "  spamreader = csv.reader(csv_file, delimiter=' ', quotechar='|')\n",
        "  for row in spamreader:\n",
        "    print('; '.join(row))"
      ],
      "metadata": {
        "id": "CVxfRjY9T6dd"
      },
      "execution_count": null,
      "outputs": []
    },
    {
      "cell_type": "code",
      "source": [
        "# Удаляем ненужные строк с мусором в начале и конце файла\n",
        "with open('securities.csv', 'r') as csv_file:\n",
        "    # Создаем объект для чтения csv файла\n",
        "    reader = csv.reader(csv_file)\n",
        "    # Указываем количество пропускаемых в конце строчек\n",
        "    rows_to_skip = len(list(reader)) - 7\n",
        "    # Переносик каретку (указатель) чтения на начало файла\n",
        "    csv_file.seek(0)\n",
        "    # Пропускаем первую строку\n",
        "    next(reader)\n",
        "    # Создаем объект для чтения csv файла снова\n",
        "    reader = csv.reader(csv_file)\n",
        "    # Открываем csv файл для записи\n",
        "    with open('new_file.csv', 'w') as new_csv_file:\n",
        "        # Создаем объект для записи в csv файл\n",
        "        writer = csv.writer(new_csv_file)\n",
        "        # Записываем оставшиеся строки из исходного файла в новый файл\n",
        "        for i, row in enumerate(reader):\n",
        "            if i < rows_to_skip:\n",
        "                writer.writerow(row)"
      ],
      "metadata": {
        "id": "UKTtibJmT9ur"
      },
      "execution_count": 51,
      "outputs": []
    },
    {
      "cell_type": "code",
      "source": [
        "# Выводим файл, указывая разделитель ';'\n",
        "df = pd.read_csv('new_file.csv', sep=\";\")\n",
        "#data"
      ],
      "metadata": {
        "id": "pcrgUwEaYmaV"
      },
      "execution_count": 58,
      "outputs": []
    },
    {
      "cell_type": "markdown",
      "source": [
        "## Обработка данных"
      ],
      "metadata": {
        "id": "T6obB60XgOaH"
      }
    },
    {
      "cell_type": "code",
      "source": [
        "plt.style.use('ggplot')\n",
        "%matplotlib inline\n",
        "matplotlib.rcParams['figure.figsize'] = (8,6)\n",
        "\n",
        "pd.options.mode.chained_assignment = None"
      ],
      "metadata": {
        "id": "-KGoKdtIgiLv"
      },
      "execution_count": 63,
      "outputs": []
    },
    {
      "cell_type": "code",
      "source": [
        "print(df.shape)\n",
        "print(df.dtypes)\n",
        "\n",
        "# отбор числовых колонок\n",
        "df_numeric = df.select_dtypes(include=[np.number])\n",
        "numeric_cols = df_numeric.columns.values\n",
        "print(numeric_cols)\n",
        "\n",
        "# отбор нечисловых колонок\n",
        "df_non_numeric = df.select_dtypes(exclude=[np.number])\n",
        "non_numeric_cols = df_non_numeric.columns.values\n",
        "print(non_numeric_cols)"
      ],
      "metadata": {
        "colab": {
          "base_uri": "https://localhost:8080/"
        },
        "id": "kkQVGBqrgiJl",
        "outputId": "2d63d1fe-1535-4644-ae91-82737ab4387e"
      },
      "execution_count": 64,
      "outputs": [
        {
          "output_type": "stream",
          "name": "stdout",
          "text": [
            "(1000, 12)\n",
            "sess_id           int64\n",
            "seqnum            int64\n",
            "tradedate        object\n",
            "tradetime        object\n",
            "ticker           object\n",
            "clgroup          object\n",
            "pos               int64\n",
            "pos_long          int64\n",
            "pos_short         int64\n",
            "pos_long_num      int64\n",
            "pos_short_num     int64\n",
            "systime          object\n",
            "dtype: object\n",
            "['sess_id' 'seqnum' 'pos' 'pos_long' 'pos_short' 'pos_long_num'\n",
            " 'pos_short_num']\n",
            "['tradedate' 'tradetime' 'ticker' 'clgroup' 'systime']\n"
          ]
        }
      ]
    },
    {
      "cell_type": "markdown",
      "source": [
        "### Отсутствующие данные"
      ],
      "metadata": {
        "id": "WmfhlOfIi_bs"
      }
    },
    {
      "cell_type": "code",
      "source": [
        "cols = df.columns[:1000] # первые 1000 колонок\n",
        "# определяем цвета\n",
        "# желтый - пропущенные данные, синий - не пропущенные\n",
        "colours = ['#000099', '#ffff00']\n",
        "sns.heatmap(df[cols].isnull(), cmap=sns.color_palette(colours))"
      ],
      "metadata": {
        "colab": {
          "base_uri": "https://localhost:8080/",
          "height": 637
        },
        "id": "hGThlLGNgiFP",
        "outputId": "8dd68fcb-ca2c-4d78-9fa2-7aac2da06701"
      },
      "execution_count": 65,
      "outputs": [
        {
          "output_type": "execute_result",
          "data": {
            "text/plain": [
              "<Axes: >"
            ]
          },
          "metadata": {},
          "execution_count": 65
        },
        {
          "output_type": "display_data",
          "data": {
            "text/plain": [
              "<Figure size 800x600 with 2 Axes>"
            ],
            "image/png": "[encoded data removed]"
          },
          "metadata": {}
        }
      ]
    },
    {
      "cell_type": "markdown",
      "source": [
        "В нашем случае никаких пропущенных данных нет, значит эту статистику можно пропустить"
      ],
      "metadata": {
        "id": "5pnxI2MhjVZD"
      }
    },
    {
      "cell_type": "markdown",
      "source": [
        "### Аномальные значения\n",
        "Для поиска аномальных значений будем использовать boxplot-график и описательную статистику (квартили распределения)\n",
        "\n",
        "***Есть ещё кластеризация и z-оценки, надо решить, будем ли их использовать***"
      ],
      "metadata": {
        "id": "9JQ96Z40jr1S"
      }
    },
    {
      "cell_type": "code",
      "source": [
        "df.boxplot(column=['pos', 'pos_long', 'pos_short', 'pos_long_num', 'pos_short_num'])"
      ],
      "metadata": {
        "colab": {
          "base_uri": "https://localhost:8080/",
          "height": 555
        },
        "id": "L-3Yxe6sgiCl",
        "outputId": "eae515d5-ae11-4534-9496-b87e1a0d9521"
      },
      "execution_count": 66,
      "outputs": [
        {
          "output_type": "execute_result",
          "data": {
            "text/plain": [
              "<Axes: >"
            ]
          },
          "metadata": {},
          "execution_count": 66
        },
        {
          "output_type": "display_data",
          "data": {
            "text/plain": [
              "<Figure size 800x600 with 1 Axes>"
            ],
            "image/png": "[encoded data removed]"
          },
          "metadata": {}
        }
      ]
    },
    {
      "cell_type": "code",
      "source": [
        "df[['pos', 'pos_long', 'pos_short', 'pos_long_num', 'pos_short_num']].describe()"
      ],
      "metadata": {
        "colab": {
          "base_uri": "https://localhost:8080/",
          "height": 300
        },
        "id": "q3UYzoOfgiAE",
        "outputId": "36a048b2-9edc-43ab-8c57-97ad0217abaf"
      },
      "execution_count": 67,
      "outputs": [
        {
          "output_type": "execute_result",
          "data": {
            "text/plain": [
              "                pos      pos_long     pos_short  pos_long_num  pos_short_num\n",
              "count  1.000000e+03  1.000000e+03  1.000000e+03   1000.000000    1000.000000\n",
              "mean   2.212600e+01  2.007265e+05 -2.007044e+05   1157.440000     915.810000\n",
              "std    5.284036e+05  6.945461e+05  5.785303e+05   2358.450294    2351.789508\n",
              "min   -3.087840e+06  5.000000e+00 -3.702084e+06      1.000000       2.000000\n",
              "25%   -1.016925e+04  6.879000e+03 -1.200148e+05     18.000000      21.000000\n",
              "50%    0.000000e+00  2.264800e+04 -2.335300e+04    212.500000      64.000000\n",
              "75%    1.176000e+04  1.010652e+05 -5.564000e+03   1092.000000     517.500000\n",
              "max    3.087840e+06  5.053721e+06 -1.000000e+01  13201.000000   16669.000000"
            ],
            "text/html": [
              "\n",
              "  <div id=\"df-726c905e-04be-441f-9751-342e5a423b5c\" class=\"colab-df-container\">\n",
              "    <div>\n",
              "<style scoped>\n",
              "    .dataframe tbody tr th:only-of-type {\n",
              "        vertical-align: middle;\n",
              "    }\n",
              "\n",
              "    .dataframe tbody tr th {\n",
              "        vertical-align: top;\n",
              "    }\n",
              "\n",
              "    .dataframe thead th {\n",
              "        text-align: right;\n",
              "    }\n",
              "</style>\n",
              "<table border=\"1\" class=\"dataframe\">\n",
              "  <thead>\n",
              "    <tr style=\"text-align: right;\">\n",
              "      <th></th>\n",
              "      <th>pos</th>\n",
              "      <th>pos_long</th>\n",
              "      <th>pos_short</th>\n",
              "      <th>pos_long_num</th>\n",
              "      <th>pos_short_num</th>\n",
              "    </tr>\n",
              "  </thead>\n",
              "  <tbody>\n",
              "    <tr>\n",
              "      <th>count</th>\n",
              "      <td>1.000000e+03</td>\n",
              "      <td>1.000000e+03</td>\n",
              "      <td>1.000000e+03</td>\n",
              "      <td>1000.000000</td>\n",
              "      <td>1000.000000</td>\n",
              "    </tr>\n",
              "    <tr>\n",
              "      <th>mean</th>\n",
              "      <td>2.212600e+01</td>\n",
              "      <td>2.007265e+05</td>\n",
              "      <td>-2.007044e+05</td>\n",
              "      <td>1157.440000</td>\n",
              "      <td>915.810000</td>\n",
              "    </tr>\n",
              "    <tr>\n",
              "      <th>std</th>\n",
              "      <td>5.284036e+05</td>\n",
              "      <td>6.945461e+05</td>\n",
              "      <td>5.785303e+05</td>\n",
              "      <td>2358.450294</td>\n",
              "      <td>2351.789508</td>\n",
              "    </tr>\n",
              "    <tr>\n",
              "      <th>min</th>\n",
              "      <td>-3.087840e+06</td>\n",
              "      <td>5.000000e+00</td>\n",
              "      <td>-3.702084e+06</td>\n",
              "      <td>1.000000</td>\n",
              "      <td>2.000000</td>\n",
              "    </tr>\n",
              "    <tr>\n",
              "      <th>25%</th>\n",
              "      <td>-1.016925e+04</td>\n",
              "      <td>6.879000e+03</td>\n",
              "      <td>-1.200148e+05</td>\n",
              "      <td>18.000000</td>\n",
              "      <td>21.000000</td>\n",
              "    </tr>\n",
              "    <tr>\n",
              "      <th>50%</th>\n",
              "      <td>0.000000e+00</td>\n",
              "      <td>2.264800e+04</td>\n",
              "      <td>-2.335300e+04</td>\n",
              "      <td>212.500000</td>\n",
              "      <td>64.000000</td>\n",
              "    </tr>\n",
              "    <tr>\n",
              "      <th>75%</th>\n",
              "      <td>1.176000e+04</td>\n",
              "      <td>1.010652e+05</td>\n",
              "      <td>-5.564000e+03</td>\n",
              "      <td>1092.000000</td>\n",
              "      <td>517.500000</td>\n",
              "    </tr>\n",
              "    <tr>\n",
              "      <th>max</th>\n",
              "      <td>3.087840e+06</td>\n",
              "      <td>5.053721e+06</td>\n",
              "      <td>-1.000000e+01</td>\n",
              "      <td>13201.000000</td>\n",
              "      <td>16669.000000</td>\n",
              "    </tr>\n",
              "  </tbody>\n",
              "</table>\n",
              "</div>\n",
              "    <div class=\"colab-df-buttons\">\n",
              "\n",
              "  <div class=\"colab-df-container\">\n",
              "    <button class=\"colab-df-convert\" onclick=\"convertToInteractive('df-726c905e-04be-441f-9751-342e5a423b5c')\"\n",
              "            title=\"Convert this dataframe to an interactive table.\"\n",
              "            style=\"display:none;\">\n",
              "\n",
              "  <svg xmlns=\"http://www.w3.org/2000/svg\" height=\"24px\" viewBox=\"0 -960 960 960\">\n",
              "    <path d=\"M120-120v-720h720v720H120Zm60-500h600v-160H180v160Zm220 220h160v-160H400v160Zm0 220h160v-160H400v160ZM180-400h160v-160H180v160Zm440 0h160v-160H620v160ZM180-180h160v-160H180v160Zm440 0h160v-160H620v160Z\"/>\n",
              "  </svg>\n",
              "    </button>\n",
              "\n",
              "  <style>\n",
              "    .colab-df-container {\n",
              "      display:flex;\n",
              "      gap: 12px;\n",
              "    }\n",
              "\n",
              "    .colab-df-convert {\n",
              "      background-color: #E8F0FE;\n",
              "      border: none;\n",
              "      border-radius: 50%;\n",
              "      cursor: pointer;\n",
              "      display: none;\n",
              "      fill: #1967D2;\n",
              "      height: 32px;\n",
              "      padding: 0 0 0 0;\n",
              "      width: 32px;\n",
              "    }\n",
              "\n",
              "    .colab-df-convert:hover {\n",
              "      background-color: #E2EBFA;\n",
              "      box-shadow: 0px 1px 2px rgba(60, 64, 67, 0.3), 0px 1px 3px 1px rgba(60, 64, 67, 0.15);\n",
              "      fill: #174EA6;\n",
              "    }\n",
              "\n",
              "    .colab-df-buttons div {\n",
              "      margin-bottom: 4px;\n",
              "    }\n",
              "\n",
              "    [theme=dark] .colab-df-convert {\n",
              "      background-color: #3B4455;\n",
              "      fill: #D2E3FC;\n",
              "    }\n",
              "\n",
              "    [theme=dark] .colab-df-convert:hover {\n",
              "      background-color: #434B5C;\n",
              "      box-shadow: 0px 1px 3px 1px rgba(0, 0, 0, 0.15);\n",
              "      filter: drop-shadow(0px 1px 2px rgba(0, 0, 0, 0.3));\n",
              "      fill: #FFFFFF;\n",
              "    }\n",
              "  </style>\n",
              "\n",
              "    <script>\n",
              "      const buttonEl =\n",
              "        document.querySelector('#df-726c905e-04be-441f-9751-342e5a423b5c button.colab-df-convert');\n",
              "      buttonEl.style.display =\n",
              "        google.colab.kernel.accessAllowed ? 'block' : 'none';\n",
              "\n",
              "      async function convertToInteractive(key) {\n",
              "        const element = document.querySelector('#df-726c905e-04be-441f-9751-342e5a423b5c');\n",
              "        const dataTable =\n",
              "          await google.colab.kernel.invokeFunction('convertToInteractive',\n",
              "                                                    [key], {});\n",
              "        if (!dataTable) return;\n",
              "\n",
              "        const docLinkHtml = 'Like what you see? Visit the ' +\n",
              "          '<a target=\"_blank\" href=https://colab.research.google.com/notebooks/data_table.ipynb>data table notebook</a>'\n",
              "          + ' to learn more about interactive tables.';\n",
              "        element.innerHTML = '';\n",
              "        dataTable['output_type'] = 'display_data';\n",
              "        await google.colab.output.renderOutput(dataTable, element);\n",
              "        const docLink = document.createElement('div');\n",
              "        docLink.innerHTML = docLinkHtml;\n",
              "        element.appendChild(docLink);\n",
              "      }\n",
              "    </script>\n",
              "  </div>\n",
              "\n",
              "\n",
              "<div id=\"df-bcf9bc7e-6095-4b3e-83dc-8239826c35c7\">\n",
              "  <button class=\"colab-df-quickchart\" onclick=\"quickchart('df-bcf9bc7e-6095-4b3e-83dc-8239826c35c7')\"\n",
              "            title=\"Suggest charts.\"\n",
              "            style=\"display:none;\">\n",
              "\n",
              "<svg xmlns=\"http://www.w3.org/2000/svg\" height=\"24px\"viewBox=\"0 0 24 24\"\n",
              "     width=\"24px\">\n",
              "    <g>\n",
              "        <path d=\"M19 3H5c-1.1 0-2 .9-2 2v14c0 1.1.9 2 2 2h14c1.1 0 2-.9 2-2V5c0-1.1-.9-2-2-2zM9 17H7v-7h2v7zm4 0h-2V7h2v10zm4 0h-2v-4h2v4z\"/>\n",
              "    </g>\n",
              "</svg>\n",
              "  </button>\n",
              "\n",
              "<style>\n",
              "  .colab-df-quickchart {\n",
              "      --bg-color: #E8F0FE;\n",
              "      --fill-color: #1967D2;\n",
              "      --hover-bg-color: #E2EBFA;\n",
              "      --hover-fill-color: #174EA6;\n",
              "      --disabled-fill-color: #AAA;\n",
              "      --disabled-bg-color: #DDD;\n",
              "  }\n",
              "\n",
              "  [theme=dark] .colab-df-quickchart {\n",
              "      --bg-color: #3B4455;\n",
              "      --fill-color: #D2E3FC;\n",
              "      --hover-bg-color: #434B5C;\n",
              "      --hover-fill-color: #FFFFFF;\n",
              "      --disabled-bg-color: #3B4455;\n",
              "      --disabled-fill-color: #666;\n",
              "  }\n",
              "\n",
              "  .colab-df-quickchart {\n",
              "    background-color: var(--bg-color);\n",
              "    border: none;\n",
              "    border-radius: 50%;\n",
              "    cursor: pointer;\n",
              "    display: none;\n",
              "    fill: var(--fill-color);\n",
              "    height: 32px;\n",
              "    padding: 0;\n",
              "    width: 32px;\n",
              "  }\n",
              "\n",
              "  .colab-df-quickchart:hover {\n",
              "    background-color: var(--hover-bg-color);\n",
              "    box-shadow: 0 1px 2px rgba(60, 64, 67, 0.3), 0 1px 3px 1px rgba(60, 64, 67, 0.15);\n",
              "    fill: var(--button-hover-fill-color);\n",
              "  }\n",
              "\n",
              "  .colab-df-quickchart-complete:disabled,\n",
              "  .colab-df-quickchart-complete:disabled:hover {\n",
              "    background-color: var(--disabled-bg-color);\n",
              "    fill: var(--disabled-fill-color);\n",
              "    box-shadow: none;\n",
              "  }\n",
              "\n",
              "  .colab-df-spinner {\n",
              "    border: 2px solid var(--fill-color);\n",
              "    border-color: transparent;\n",
              "    border-bottom-color: var(--fill-color);\n",
              "    animation:\n",
              "      spin 1s steps(1) infinite;\n",
              "  }\n",
              "\n",
              "  @keyframes spin {\n",
              "    0% {\n",
              "      border-color: transparent;\n",
              "      border-bottom-color: var(--fill-color);\n",
              "      border-left-color: var(--fill-color);\n",
              "    }\n",
              "    20% {\n",
              "      border-color: transparent;\n",
              "      border-left-color: var(--fill-color);\n",
              "      border-top-color: var(--fill-color);\n",
              "    }\n",
              "    30% {\n",
              "      border-color: transparent;\n",
              "      border-left-color: var(--fill-color);\n",
              "      border-top-color: var(--fill-color);\n",
              "      border-right-color: var(--fill-color);\n",
              "    }\n",
              "    40% {\n",
              "      border-color: transparent;\n",
              "      border-right-color: var(--fill-color);\n",
              "      border-top-color: var(--fill-color);\n",
              "    }\n",
              "    60% {\n",
              "      border-color: transparent;\n",
              "      border-right-color: var(--fill-color);\n",
              "    }\n",
              "    80% {\n",
              "      border-color: transparent;\n",
              "      border-right-color: var(--fill-color);\n",
              "      border-bottom-color: var(--fill-color);\n",
              "    }\n",
              "    90% {\n",
              "      border-color: transparent;\n",
              "      border-bottom-color: var(--fill-color);\n",
              "    }\n",
              "  }\n",
              "</style>\n",
              "\n",
              "  <script>\n",
              "    async function quickchart(key) {\n",
              "      const quickchartButtonEl =\n",
              "        document.querySelector('#' + key + ' button');\n",
              "      quickchartButtonEl.disabled = true;  // To prevent multiple clicks.\n",
              "      quickchartButtonEl.classList.add('colab-df-spinner');\n",
              "      try {\n",
              "        const charts = await google.colab.kernel.invokeFunction(\n",
              "            'suggestCharts', [key], {});\n",
              "      } catch (error) {\n",
              "        console.error('Error during call to suggestCharts:', error);\n",
              "      }\n",
              "      quickchartButtonEl.classList.remove('colab-df-spinner');\n",
              "      quickchartButtonEl.classList.add('colab-df-quickchart-complete');\n",
              "    }\n",
              "    (() => {\n",
              "      let quickchartButtonEl =\n",
              "        document.querySelector('#df-bcf9bc7e-6095-4b3e-83dc-8239826c35c7 button');\n",
              "      quickchartButtonEl.style.display =\n",
              "        google.colab.kernel.accessAllowed ? 'block' : 'none';\n",
              "    })();\n",
              "  </script>\n",
              "</div>\n",
              "    </div>\n",
              "  </div>\n"
            ]
          },
          "metadata": {},
          "execution_count": 67
        }
      ]
    },
    {
      "cell_type": "markdown",
      "source": [
        "Видно, что у нас есть явные выбросы по pos_long_num и pos_short_num."
      ],
      "metadata": {
        "id": "UM_RomV0kfrA"
      }
    },
    {
      "cell_type": "markdown",
      "source": [
        "### Неинформативные признаки\n",
        "Будем откидывать признаки, у которых больше 95% одинаковых значений"
      ],
      "metadata": {
        "id": "ZhTOBuwdlPtl"
      }
    },
    {
      "cell_type": "code",
      "source": [
        "num_rows = len(df.index)\n",
        "low_information_cols = []\n",
        "\n",
        "for col in df.columns:\n",
        "    cnts = df[col].value_counts(dropna=False)\n",
        "    top_pct = (cnts/num_rows).iloc[0]\n",
        "\n",
        "    if top_pct > 0.95:\n",
        "        low_information_cols.append(col)\n",
        "        print('{0}: {1:.5f}%'.format(col, top_pct*100))\n",
        "        print(cnts)\n",
        "        print()"
      ],
      "metadata": {
        "colab": {
          "base_uri": "https://localhost:8080/"
        },
        "id": "JjfkiGupgh1c",
        "outputId": "d800b5ca-dc98-4545-96f7-de36fcb283b2"
      },
      "execution_count": 68,
      "outputs": [
        {
          "output_type": "stream",
          "name": "stdout",
          "text": [
            "sess_id: 100.00000%\n",
            "6911    1000\n",
            "Name: sess_id, dtype: int64\n",
            "\n",
            "tradedate: 100.00000%\n",
            "2023-10-20    1000\n",
            "Name: tradedate, dtype: int64\n",
            "\n"
          ]
        }
      ]
    },
    {
      "cell_type": "code",
      "source": [
        "# Откидываем их\n",
        "df.drop(['sess_id', 'tradedate'], axis=1)"
      ],
      "metadata": {
        "colab": {
          "base_uri": "https://localhost:8080/",
          "height": 423
        },
        "id": "cXNKb0hSleek",
        "outputId": "0bc9673b-4017-4cf0-f87f-66f92e856060"
      },
      "execution_count": 74,
      "outputs": [
        {
          "output_type": "execute_result",
          "data": {
            "text/plain": [
              "     seqnum tradetime   ticker clgroup      pos  pos_long  pos_short  \\\n",
              "0        58  23:50:00  USDRUBF     YUR     1175    115746    -114571   \n",
              "1        58  23:50:00       YN     FIZ    16004     23008      -7004   \n",
              "2        58  23:50:00       AF     FIZ     -370      9218      -9588   \n",
              "3        58  23:50:00       SF     FIZ  -228772     48654    -277426   \n",
              "4        58  23:50:00       MX     FIZ   -16509     29206     -45715   \n",
              "..      ...       ...      ...     ...      ...       ...        ...   \n",
              "995      45  22:45:00       CR     FIZ -3087007    614947   -3701954   \n",
              "996      45  22:45:00       GZ     FIZ   136430    170857     -34427   \n",
              "997      45  22:45:00       AL     FIZ   -11760     27448     -39208   \n",
              "998      45  22:45:00       BR     YUR      -65     38682     -38747   \n",
              "999      45  22:45:00       AL     YUR    11760     67438     -55678   \n",
              "\n",
              "     pos_long_num  pos_short_num              systime  \n",
              "0              48             25  2023-10-20 23:50:06  \n",
              "1            1360            272  2023-10-20 23:50:06  \n",
              "2             298            215  2023-10-20 23:50:06  \n",
              "3            1999           4318  2023-10-20 23:50:06  \n",
              "4            1093           2844  2023-10-20 23:50:06  \n",
              "..            ...            ...                  ...  \n",
              "995          2537           8654  2023-10-20 22:45:07  \n",
              "996          5231           1609  2023-10-20 22:45:07  \n",
              "997           643            418  2023-10-20 22:45:07  \n",
              "998            70             46  2023-10-20 22:45:07  \n",
              "999             7             21  2023-10-20 22:45:07  \n",
              "\n",
              "[1000 rows x 10 columns]"
            ],
            "text/html": [
              "\n",
              "  <div id=\"df-5e893359-e228-44f4-a04f-a33aabe22d38\" class=\"colab-df-container\">\n",
              "    <div>\n",
              "<style scoped>\n",
              "    .dataframe tbody tr th:only-of-type {\n",
              "        vertical-align: middle;\n",
              "    }\n",
              "\n",
              "    .dataframe tbody tr th {\n",
              "        vertical-align: top;\n",
              "    }\n",
              "\n",
              "    .dataframe thead th {\n",
              "        text-align: right;\n",
              "    }\n",
              "</style>\n",
              "<table border=\"1\" class=\"dataframe\">\n",
              "  <thead>\n",
              "    <tr style=\"text-align: right;\">\n",
              "      <th></th>\n",
              "      <th>seqnum</th>\n",
              "      <th>tradetime</th>\n",
              "      <th>ticker</th>\n",
              "      <th>clgroup</th>\n",
              "      <th>pos</th>\n",
              "      <th>pos_long</th>\n",
              "      <th>pos_short</th>\n",
              "      <th>pos_long_num</th>\n",
              "      <th>pos_short_num</th>\n",
              "      <th>systime</th>\n",
              "    </tr>\n",
              "  </thead>\n",
              "  <tbody>\n",
              "    <tr>\n",
              "      <th>0</th>\n",
              "      <td>58</td>\n",
              "      <td>23:50:00</td>\n",
              "      <td>USDRUBF</td>\n",
              "      <td>YUR</td>\n",
              "      <td>1175</td>\n",
              "      <td>115746</td>\n",
              "      <td>-114571</td>\n",
              "      <td>48</td>\n",
              "      <td>25</td>\n",
              "      <td>2023-10-20 23:50:06</td>\n",
              "    </tr>\n",
              "    <tr>\n",
              "      <th>1</th>\n",
              "      <td>58</td>\n",
              "      <td>23:50:00</td>\n",
              "      <td>YN</td>\n",
              "      <td>FIZ</td>\n",
              "      <td>16004</td>\n",
              "      <td>23008</td>\n",
              "      <td>-7004</td>\n",
              "      <td>1360</td>\n",
              "      <td>272</td>\n",
              "      <td>2023-10-20 23:50:06</td>\n",
              "    </tr>\n",
              "    <tr>\n",
              "      <th>2</th>\n",
              "      <td>58</td>\n",
              "      <td>23:50:00</td>\n",
              "      <td>AF</td>\n",
              "      <td>FIZ</td>\n",
              "      <td>-370</td>\n",
              "      <td>9218</td>\n",
              "      <td>-9588</td>\n",
              "      <td>298</td>\n",
              "      <td>215</td>\n",
              "      <td>2023-10-20 23:50:06</td>\n",
              "    </tr>\n",
              "    <tr>\n",
              "      <th>3</th>\n",
              "      <td>58</td>\n",
              "      <td>23:50:00</td>\n",
              "      <td>SF</td>\n",
              "      <td>FIZ</td>\n",
              "      <td>-228772</td>\n",
              "      <td>48654</td>\n",
              "      <td>-277426</td>\n",
              "      <td>1999</td>\n",
              "      <td>4318</td>\n",
              "      <td>2023-10-20 23:50:06</td>\n",
              "    </tr>\n",
              "    <tr>\n",
              "      <th>4</th>\n",
              "      <td>58</td>\n",
              "      <td>23:50:00</td>\n",
              "      <td>MX</td>\n",
              "      <td>FIZ</td>\n",
              "      <td>-16509</td>\n",
              "      <td>29206</td>\n",
              "      <td>-45715</td>\n",
              "      <td>1093</td>\n",
              "      <td>2844</td>\n",
              "      <td>2023-10-20 23:50:06</td>\n",
              "    </tr>\n",
              "    <tr>\n",
              "      <th>...</th>\n",
              "      <td>...</td>\n",
              "      <td>...</td>\n",
              "      <td>...</td>\n",
              "      <td>...</td>\n",
              "      <td>...</td>\n",
              "      <td>...</td>\n",
              "      <td>...</td>\n",
              "      <td>...</td>\n",
              "      <td>...</td>\n",
              "      <td>...</td>\n",
              "    </tr>\n",
              "    <tr>\n",
              "      <th>995</th>\n",
              "      <td>45</td>\n",
              "      <td>22:45:00</td>\n",
              "      <td>CR</td>\n",
              "      <td>FIZ</td>\n",
              "      <td>-3087007</td>\n",
              "      <td>614947</td>\n",
              "      <td>-3701954</td>\n",
              "      <td>2537</td>\n",
              "      <td>8654</td>\n",
              "      <td>2023-10-20 22:45:07</td>\n",
              "    </tr>\n",
              "    <tr>\n",
              "      <th>996</th>\n",
              "      <td>45</td>\n",
              "      <td>22:45:00</td>\n",
              "      <td>GZ</td>\n",
              "      <td>FIZ</td>\n",
              "      <td>136430</td>\n",
              "      <td>170857</td>\n",
              "      <td>-34427</td>\n",
              "      <td>5231</td>\n",
              "      <td>1609</td>\n",
              "      <td>2023-10-20 22:45:07</td>\n",
              "    </tr>\n",
              "    <tr>\n",
              "      <th>997</th>\n",
              "      <td>45</td>\n",
              "      <td>22:45:00</td>\n",
              "      <td>AL</td>\n",
              "      <td>FIZ</td>\n",
              "      <td>-11760</td>\n",
              "      <td>27448</td>\n",
              "      <td>-39208</td>\n",
              "      <td>643</td>\n",
              "      <td>418</td>\n",
              "      <td>2023-10-20 22:45:07</td>\n",
              "    </tr>\n",
              "    <tr>\n",
              "      <th>998</th>\n",
              "      <td>45</td>\n",
              "      <td>22:45:00</td>\n",
              "      <td>BR</td>\n",
              "      <td>YUR</td>\n",
              "      <td>-65</td>\n",
              "      <td>38682</td>\n",
              "      <td>-38747</td>\n",
              "      <td>70</td>\n",
              "      <td>46</td>\n",
              "      <td>2023-10-20 22:45:07</td>\n",
              "    </tr>\n",
              "    <tr>\n",
              "      <th>999</th>\n",
              "      <td>45</td>\n",
              "      <td>22:45:00</td>\n",
              "      <td>AL</td>\n",
              "      <td>YUR</td>\n",
              "      <td>11760</td>\n",
              "      <td>67438</td>\n",
              "      <td>-55678</td>\n",
              "      <td>7</td>\n",
              "      <td>21</td>\n",
              "      <td>2023-10-20 22:45:07</td>\n",
              "    </tr>\n",
              "  </tbody>\n",
              "</table>\n",
              "<p>1000 rows × 10 columns</p>\n",
              "</div>\n",
              "    <div class=\"colab-df-buttons\">\n",
              "\n",
              "  <div class=\"colab-df-container\">\n",
              "    <button class=\"colab-df-convert\" onclick=\"convertToInteractive('df-5e893359-e228-44f4-a04f-a33aabe22d38')\"\n",
              "            title=\"Convert this dataframe to an interactive table.\"\n",
              "            style=\"display:none;\">\n",
              "\n",
              "  <svg xmlns=\"http://www.w3.org/2000/svg\" height=\"24px\" viewBox=\"0 -960 960 960\">\n",
              "    <path d=\"M120-120v-720h720v720H120Zm60-500h600v-160H180v160Zm220 220h160v-160H400v160Zm0 220h160v-160H400v160ZM180-400h160v-160H180v160Zm440 0h160v-160H620v160ZM180-180h160v-160H180v160Zm440 0h160v-160H620v160Z\"/>\n",
              "  </svg>\n",
              "    </button>\n",
              "\n",
              "  <style>\n",
              "    .colab-df-container {\n",
              "      display:flex;\n",
              "      gap: 12px;\n",
              "    }\n",
              "\n",
              "    .colab-df-convert {\n",
              "      background-color: #E8F0FE;\n",
              "      border: none;\n",
              "      border-radius: 50%;\n",
              "      cursor: pointer;\n",
              "      display: none;\n",
              "      fill: #1967D2;\n",
              "      height: 32px;\n",
              "      padding: 0 0 0 0;\n",
              "      width: 32px;\n",
              "    }\n",
              "\n",
              "    .colab-df-convert:hover {\n",
              "      background-color: #E2EBFA;\n",
              "      box-shadow: 0px 1px 2px rgba(60, 64, 67, 0.3), 0px 1px 3px 1px rgba(60, 64, 67, 0.15);\n",
              "      fill: #174EA6;\n",
              "    }\n",
              "\n",
              "    .colab-df-buttons div {\n",
              "      margin-bottom: 4px;\n",
              "    }\n",
              "\n",
              "    [theme=dark] .colab-df-convert {\n",
              "      background-color: #3B4455;\n",
              "      fill: #D2E3FC;\n",
              "    }\n",
              "\n",
              "    [theme=dark] .colab-df-convert:hover {\n",
              "      background-color: #434B5C;\n",
              "      box-shadow: 0px 1px 3px 1px rgba(0, 0, 0, 0.15);\n",
              "      filter: drop-shadow(0px 1px 2px rgba(0, 0, 0, 0.3));\n",
              "      fill: #FFFFFF;\n",
              "    }\n",
              "  </style>\n",
              "\n",
              "    <script>\n",
              "      const buttonEl =\n",
              "        document.querySelector('#df-5e893359-e228-44f4-a04f-a33aabe22d38 button.colab-df-convert');\n",
              "      buttonEl.style.display =\n",
              "        google.colab.kernel.accessAllowed ? 'block' : 'none';\n",
              "\n",
              "      async function convertToInteractive(key) {\n",
              "        const element = document.querySelector('#df-5e893359-e228-44f4-a04f-a33aabe22d38');\n",
              "        const dataTable =\n",
              "          await google.colab.kernel.invokeFunction('convertToInteractive',\n",
              "                                                    [key], {});\n",
              "        if (!dataTable) return;\n",
              "\n",
              "        const docLinkHtml = 'Like what you see? Visit the ' +\n",
              "          '<a target=\"_blank\" href=https://colab.research.google.com/notebooks/data_table.ipynb>data table notebook</a>'\n",
              "          + ' to learn more about interactive tables.';\n",
              "        element.innerHTML = '';\n",
              "        dataTable['output_type'] = 'display_data';\n",
              "        await google.colab.output.renderOutput(dataTable, element);\n",
              "        const docLink = document.createElement('div');\n",
              "        docLink.innerHTML = docLinkHtml;\n",
              "        element.appendChild(docLink);\n",
              "      }\n",
              "    </script>\n",
              "  </div>\n",
              "\n",
              "\n",
              "<div id=\"df-6b8b592e-6758-4a5d-9db7-fb790cafb3e9\">\n",
              "  <button class=\"colab-df-quickchart\" onclick=\"quickchart('df-6b8b592e-6758-4a5d-9db7-fb790cafb3e9')\"\n",
              "            title=\"Suggest charts.\"\n",
              "            style=\"display:none;\">\n",
              "\n",
              "<svg xmlns=\"http://www.w3.org/2000/svg\" height=\"24px\"viewBox=\"0 0 24 24\"\n",
              "     width=\"24px\">\n",
              "    <g>\n",
              "        <path d=\"M19 3H5c-1.1 0-2 .9-2 2v14c0 1.1.9 2 2 2h14c1.1 0 2-.9 2-2V5c0-1.1-.9-2-2-2zM9 17H7v-7h2v7zm4 0h-2V7h2v10zm4 0h-2v-4h2v4z\"/>\n",
              "    </g>\n",
              "</svg>\n",
              "  </button>\n",
              "\n",
              "<style>\n",
              "  .colab-df-quickchart {\n",
              "      --bg-color: #E8F0FE;\n",
              "      --fill-color: #1967D2;\n",
              "      --hover-bg-color: #E2EBFA;\n",
              "      --hover-fill-color: #174EA6;\n",
              "      --disabled-fill-color: #AAA;\n",
              "      --disabled-bg-color: #DDD;\n",
              "  }\n",
              "\n",
              "  [theme=dark] .colab-df-quickchart {\n",
              "      --bg-color: #3B4455;\n",
              "      --fill-color: #D2E3FC;\n",
              "      --hover-bg-color: #434B5C;\n",
              "      --hover-fill-color: #FFFFFF;\n",
              "      --disabled-bg-color: #3B4455;\n",
              "      --disabled-fill-color: #666;\n",
              "  }\n",
              "\n",
              "  .colab-df-quickchart {\n",
              "    background-color: var(--bg-color);\n",
              "    border: none;\n",
              "    border-radius: 50%;\n",
              "    cursor: pointer;\n",
              "    display: none;\n",
              "    fill: var(--fill-color);\n",
              "    height: 32px;\n",
              "    padding: 0;\n",
              "    width: 32px;\n",
              "  }\n",
              "\n",
              "  .colab-df-quickchart:hover {\n",
              "    background-color: var(--hover-bg-color);\n",
              "    box-shadow: 0 1px 2px rgba(60, 64, 67, 0.3), 0 1px 3px 1px rgba(60, 64, 67, 0.15);\n",
              "    fill: var(--button-hover-fill-color);\n",
              "  }\n",
              "\n",
              "  .colab-df-quickchart-complete:disabled,\n",
              "  .colab-df-quickchart-complete:disabled:hover {\n",
              "    background-color: var(--disabled-bg-color);\n",
              "    fill: var(--disabled-fill-color);\n",
              "    box-shadow: none;\n",
              "  }\n",
              "\n",
              "  .colab-df-spinner {\n",
              "    border: 2px solid var(--fill-color);\n",
              "    border-color: transparent;\n",
              "    border-bottom-color: var(--fill-color);\n",
              "    animation:\n",
              "      spin 1s steps(1) infinite;\n",
              "  }\n",
              "\n",
              "  @keyframes spin {\n",
              "    0% {\n",
              "      border-color: transparent;\n",
              "      border-bottom-color: var(--fill-color);\n",
              "      border-left-color: var(--fill-color);\n",
              "    }\n",
              "    20% {\n",
              "      border-color: transparent;\n",
              "      border-left-color: var(--fill-color);\n",
              "      border-top-color: var(--fill-color);\n",
              "    }\n",
              "    30% {\n",
              "      border-color: transparent;\n",
              "      border-left-color: var(--fill-color);\n",
              "      border-top-color: var(--fill-color);\n",
              "      border-right-color: var(--fill-color);\n",
              "    }\n",
              "    40% {\n",
              "      border-color: transparent;\n",
              "      border-right-color: var(--fill-color);\n",
              "      border-top-color: var(--fill-color);\n",
              "    }\n",
              "    60% {\n",
              "      border-color: transparent;\n",
              "      border-right-color: var(--fill-color);\n",
              "    }\n",
              "    80% {\n",
              "      border-color: transparent;\n",
              "      border-right-color: var(--fill-color);\n",
              "      border-bottom-color: var(--fill-color);\n",
              "    }\n",
              "    90% {\n",
              "      border-color: transparent;\n",
              "      border-bottom-color: var(--fill-color);\n",
              "    }\n",
              "  }\n",
              "</style>\n",
              "\n",
              "  <script>\n",
              "    async function quickchart(key) {\n",
              "      const quickchartButtonEl =\n",
              "        document.querySelector('#' + key + ' button');\n",
              "      quickchartButtonEl.disabled = true;  // To prevent multiple clicks.\n",
              "      quickchartButtonEl.classList.add('colab-df-spinner');\n",
              "      try {\n",
              "        const charts = await google.colab.kernel.invokeFunction(\n",
              "            'suggestCharts', [key], {});\n",
              "      } catch (error) {\n",
              "        console.error('Error during call to suggestCharts:', error);\n",
              "      }\n",
              "      quickchartButtonEl.classList.remove('colab-df-spinner');\n",
              "      quickchartButtonEl.classList.add('colab-df-quickchart-complete');\n",
              "    }\n",
              "    (() => {\n",
              "      let quickchartButtonEl =\n",
              "        document.querySelector('#df-6b8b592e-6758-4a5d-9db7-fb790cafb3e9 button');\n",
              "      quickchartButtonEl.style.display =\n",
              "        google.colab.kernel.accessAllowed ? 'block' : 'none';\n",
              "    })();\n",
              "  </script>\n",
              "</div>\n",
              "    </div>\n",
              "  </div>\n"
            ]
          },
          "metadata": {},
          "execution_count": 74
        }
      ]
    },
    {
      "cell_type": "markdown",
      "source": [
        "### Отбрасываем повторяющиеся записи\n",
        "\n",
        "***Надо обговорить, что мы считаем под одинаковыми записями***"
      ],
      "metadata": {
        "id": "4Zsw4gf3mKVj"
      }
    },
    {
      "cell_type": "markdown",
      "source": [
        "```\n",
        "# отбрасываем неуникальные строки\n",
        "df_dedupped = df.drop('id', axis=1).drop_duplicates()\n",
        "\n",
        "# сравниваем формы старого и нового наборов\n",
        "print(df.shape)\n",
        "print(df_dedupped.shape)\n",
        "```\n",
        "\n",
        "\n"
      ],
      "metadata": {
        "id": "KH0BXPjVmXdJ"
      }
    },
    {
      "cell_type": "markdown",
      "source": [
        "### Приводим всё к верхним регистрам"
      ],
      "metadata": {
        "id": "27GdbWY7mztt"
      }
    },
    {
      "cell_type": "code",
      "source": [
        "df['ticker'] = df['ticker'].str.upper()\n",
        "df['clgroup'] = df['clgroup'].str.upper()\n",
        "df[['ticker', 'clgroup']].value_counts(dropna=False)"
      ],
      "metadata": {
        "colab": {
          "base_uri": "https://localhost:8080/"
        },
        "id": "vZYfihAWmEx1",
        "outputId": "e9c0ccfa-be91-41ad-a8c9-f01fbe6424c8"
      },
      "execution_count": 78,
      "outputs": [
        {
          "output_type": "execute_result",
          "data": {
            "text/plain": [
              "ticker   clgroup\n",
              "AF       FIZ        14\n",
              "SF       FIZ        14\n",
              "AF       YUR        14\n",
              "MX       FIZ        14\n",
              "         YUR        14\n",
              "                    ..\n",
              "CNYRUBF  FIZ        13\n",
              "         YUR        13\n",
              "SN       YUR        13\n",
              "         FIZ        13\n",
              "YN       YUR        13\n",
              "Length: 72, dtype: int64"
            ]
          },
          "metadata": {},
          "execution_count": 78
        }
      ]
    },
    {
      "cell_type": "markdown",
      "source": [
        "# Через JSON"
      ],
      "metadata": {
        "id": "MeQDC3ovfFt5"
      }
    },
    {
      "cell_type": "code",
      "source": [
        "# Ссылка на данные\n",
        "url = \"https://iss.moex.com/iss/analyticalproducts/futoi/securities.json\""
      ],
      "metadata": {
        "id": "cWYphXswfqKQ"
      },
      "execution_count": null,
      "outputs": []
    },
    {
      "cell_type": "code",
      "source": [
        "# Отправляем GET-запрос по указанной ссылке\n",
        "response = rq.get(url)\n",
        "\n",
        "# Проверяем статус ответа\n",
        "if response.status_code == 200:\n",
        "    # Загружаем данные из ответа в переменную data в случае успеха\n",
        "    data = response.json()\n",
        "else:\n",
        "    print(\"Ошибка при получении данных\")"
      ],
      "metadata": {
        "id": "5i1D2jegY2zT"
      },
      "execution_count": 35,
      "outputs": []
    },
    {
      "cell_type": "code",
      "source": [
        "print(json.dumps(data))"
      ],
      "metadata": {
        "id": "V8VwZhuAbG3P"
      },
      "execution_count": null,
      "outputs": []
    },
    {
      "cell_type": "code",
      "source": [],
      "metadata": {
        "id": "sK3QQ4OLbPxK"
      },
      "execution_count": null,
      "outputs": []
    }
  ]
}